{
 "cells": [
  {
   "cell_type": "markdown",
   "metadata": {},
   "source": [
    "# Classical ML Modeling\n",
    "\n",
    "This file represents me building classical ML models for the project."
   ]
  },
  {
   "cell_type": "code",
   "execution_count": 1,
   "metadata": {},
   "outputs": [],
   "source": [
    "import pandas as pd\n",
    "import numpy as np\n",
    "import matplotlib.pyplot as plt\n",
    "import seaborn\n",
    "import pyarrow\n",
    "from sklearn.decomposition import PCA\n",
    "\n",
    "%matplotlib inline"
   ]
  },
  {
   "cell_type": "code",
   "execution_count": 2,
   "metadata": {},
   "outputs": [],
   "source": [
    "# Getting the data\n",
    "training_data = pd.read_parquet('../data/train.parquet')\n",
    "validation_data = pd.read_parquet('../data/valid.parquet')"
   ]
  },
  {
   "cell_type": "code",
   "execution_count": 3,
   "metadata": {},
   "outputs": [
    {
     "data": {
      "text/plain": [
       "((17939, 250001), (4485, 250001))"
      ]
     },
     "execution_count": 3,
     "metadata": {},
     "output_type": "execute_result"
    }
   ],
   "source": [
    "# Viewing the data shapes to make sure everything is loaded correctly\n",
    "training_data.shape, validation_data.shape"
   ]
  },
  {
   "cell_type": "code",
   "execution_count": 4,
   "metadata": {},
   "outputs": [],
   "source": [
    "# Splitting the data into features and target\n",
    "X_train, y_train = training_data.drop('label', axis=1), training_data['label']\n",
    "X_valid, y_valid = validation_data.drop('label', axis=1), validation_data['label']"
   ]
  },
  {
   "cell_type": "code",
   "execution_count": 6,
   "metadata": {},
   "outputs": [
    {
     "data": {
      "text/html": [
       "<div>\n",
       "<style scoped>\n",
       "    .dataframe tbody tr th:only-of-type {\n",
       "        vertical-align: middle;\n",
       "    }\n",
       "\n",
       "    .dataframe tbody tr th {\n",
       "        vertical-align: top;\n",
       "    }\n",
       "\n",
       "    .dataframe thead th {\n",
       "        text-align: right;\n",
       "    }\n",
       "</style>\n",
       "<table border=\"1\" class=\"dataframe\">\n",
       "  <thead>\n",
       "    <tr style=\"text-align: right;\">\n",
       "      <th></th>\n",
       "      <th>9990</th>\n",
       "      <th>9991</th>\n",
       "      <th>9992</th>\n",
       "      <th>9993</th>\n",
       "      <th>9994</th>\n",
       "      <th>9995</th>\n",
       "      <th>9996</th>\n",
       "      <th>9997</th>\n",
       "      <th>9998</th>\n",
       "      <th>9999</th>\n",
       "    </tr>\n",
       "  </thead>\n",
       "  <tbody>\n",
       "    <tr>\n",
       "      <th>count</th>\n",
       "      <td>17939.000000</td>\n",
       "      <td>17939.000000</td>\n",
       "      <td>17939.000000</td>\n",
       "      <td>17939.000000</td>\n",
       "      <td>17939.000000</td>\n",
       "      <td>17939.000000</td>\n",
       "      <td>17939.000000</td>\n",
       "      <td>17939.000000</td>\n",
       "      <td>17939.000000</td>\n",
       "      <td>17939.000000</td>\n",
       "    </tr>\n",
       "    <tr>\n",
       "      <th>mean</th>\n",
       "      <td>0.756335</td>\n",
       "      <td>0.758322</td>\n",
       "      <td>0.760609</td>\n",
       "      <td>0.763176</td>\n",
       "      <td>0.765870</td>\n",
       "      <td>0.768158</td>\n",
       "      <td>0.770414</td>\n",
       "      <td>0.772417</td>\n",
       "      <td>0.776388</td>\n",
       "      <td>0.778292</td>\n",
       "    </tr>\n",
       "    <tr>\n",
       "      <th>std</th>\n",
       "      <td>0.211797</td>\n",
       "      <td>0.210791</td>\n",
       "      <td>0.209159</td>\n",
       "      <td>0.207749</td>\n",
       "      <td>0.206427</td>\n",
       "      <td>0.204799</td>\n",
       "      <td>0.203784</td>\n",
       "      <td>0.202655</td>\n",
       "      <td>0.201500</td>\n",
       "      <td>0.201086</td>\n",
       "    </tr>\n",
       "    <tr>\n",
       "      <th>min</th>\n",
       "      <td>0.047059</td>\n",
       "      <td>0.047059</td>\n",
       "      <td>0.047059</td>\n",
       "      <td>0.047059</td>\n",
       "      <td>0.047059</td>\n",
       "      <td>0.047059</td>\n",
       "      <td>0.047059</td>\n",
       "      <td>0.047059</td>\n",
       "      <td>0.043137</td>\n",
       "      <td>0.047059</td>\n",
       "    </tr>\n",
       "    <tr>\n",
       "      <th>25%</th>\n",
       "      <td>0.607843</td>\n",
       "      <td>0.615686</td>\n",
       "      <td>0.619608</td>\n",
       "      <td>0.627451</td>\n",
       "      <td>0.631373</td>\n",
       "      <td>0.635294</td>\n",
       "      <td>0.639216</td>\n",
       "      <td>0.647059</td>\n",
       "      <td>0.650980</td>\n",
       "      <td>0.654902</td>\n",
       "    </tr>\n",
       "    <tr>\n",
       "      <th>50%</th>\n",
       "      <td>0.827451</td>\n",
       "      <td>0.827451</td>\n",
       "      <td>0.835294</td>\n",
       "      <td>0.839216</td>\n",
       "      <td>0.847059</td>\n",
       "      <td>0.847059</td>\n",
       "      <td>0.850980</td>\n",
       "      <td>0.854902</td>\n",
       "      <td>0.862745</td>\n",
       "      <td>0.866667</td>\n",
       "    </tr>\n",
       "    <tr>\n",
       "      <th>75%</th>\n",
       "      <td>0.933333</td>\n",
       "      <td>0.933333</td>\n",
       "      <td>0.933333</td>\n",
       "      <td>0.933333</td>\n",
       "      <td>0.933333</td>\n",
       "      <td>0.933333</td>\n",
       "      <td>0.933333</td>\n",
       "      <td>0.933333</td>\n",
       "      <td>0.937255</td>\n",
       "      <td>0.937255</td>\n",
       "    </tr>\n",
       "    <tr>\n",
       "      <th>max</th>\n",
       "      <td>0.996078</td>\n",
       "      <td>0.996078</td>\n",
       "      <td>0.996078</td>\n",
       "      <td>0.996078</td>\n",
       "      <td>0.996078</td>\n",
       "      <td>0.996078</td>\n",
       "      <td>0.996078</td>\n",
       "      <td>0.996078</td>\n",
       "      <td>0.996078</td>\n",
       "      <td>0.996078</td>\n",
       "    </tr>\n",
       "  </tbody>\n",
       "</table>\n",
       "</div>"
      ],
      "text/plain": [
       "               9990          9991          9992          9993          9994  \\\n",
       "count  17939.000000  17939.000000  17939.000000  17939.000000  17939.000000   \n",
       "mean       0.756335      0.758322      0.760609      0.763176      0.765870   \n",
       "std        0.211797      0.210791      0.209159      0.207749      0.206427   \n",
       "min        0.047059      0.047059      0.047059      0.047059      0.047059   \n",
       "25%        0.607843      0.615686      0.619608      0.627451      0.631373   \n",
       "50%        0.827451      0.827451      0.835294      0.839216      0.847059   \n",
       "75%        0.933333      0.933333      0.933333      0.933333      0.933333   \n",
       "max        0.996078      0.996078      0.996078      0.996078      0.996078   \n",
       "\n",
       "               9995          9996          9997          9998          9999  \n",
       "count  17939.000000  17939.000000  17939.000000  17939.000000  17939.000000  \n",
       "mean       0.768158      0.770414      0.772417      0.776388      0.778292  \n",
       "std        0.204799      0.203784      0.202655      0.201500      0.201086  \n",
       "min        0.047059      0.047059      0.047059      0.043137      0.047059  \n",
       "25%        0.635294      0.639216      0.647059      0.650980      0.654902  \n",
       "50%        0.847059      0.850980      0.854902      0.862745      0.866667  \n",
       "75%        0.933333      0.933333      0.933333      0.937255      0.937255  \n",
       "max        0.996078      0.996078      0.996078      0.996078      0.996078  "
      ]
     },
     "execution_count": 6,
     "metadata": {},
     "output_type": "execute_result"
    }
   ],
   "source": [
    "# Checking the statistics for the pixels\n",
    "X_train.iloc[:,9990:10000].describe()"
   ]
  },
  {
   "cell_type": "markdown",
   "metadata": {},
   "source": [
    "## Preprocessing "
   ]
  },
  {
   "cell_type": "code",
   "execution_count": null,
   "metadata": {},
   "outputs": [],
   "source": [
    "# Doing PCA to reduce the number of features"
   ]
  }
 ],
 "metadata": {
  "kernelspec": {
   "display_name": "distracted-driver-prediction",
   "language": "python",
   "name": "python3"
  },
  "language_info": {
   "codemirror_mode": {
    "name": "ipython",
    "version": 3
   },
   "file_extension": ".py",
   "mimetype": "text/x-python",
   "name": "python",
   "nbconvert_exporter": "python",
   "pygments_lexer": "ipython3",
   "version": "3.9.18"
  }
 },
 "nbformat": 4,
 "nbformat_minor": 2
}
