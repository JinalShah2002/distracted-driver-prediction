{
 "cells": [
  {
   "cell_type": "markdown",
   "metadata": {},
   "source": [
    "# Classical ML Modeling\n",
    "\n",
    "This file represents me building classical ML models for the project."
   ]
  },
  {
   "cell_type": "code",
   "execution_count": 35,
   "metadata": {},
   "outputs": [],
   "source": [
    "import pandas as pd\n",
    "import numpy as np\n",
    "import matplotlib.pyplot as plt\n",
    "import seaborn\n",
    "import pyarrow\n",
    "from sklearn.decomposition import PCA\n",
    "from sklearn.linear_model import LogisticRegression\n",
    "from sklearn.tree import DecisionTreeClassifier\n",
    "from sklearn.ensemble import RandomForestClassifier\n",
    "from sklearn.model_selection import GridSearchCV\n",
    "from catboost import CatBoostClassifier\n",
    "from sklearn.metrics import confusion_matrix, ConfusionMatrixDisplay\n",
    "import joblib\n",
    "import os\n",
    "import sys\n",
    "\n",
    "sys.path.append('../src')\n",
    "from metricsLogger import MLMetricsLogger\n",
    "\n",
    "%matplotlib inline"
   ]
  },
  {
   "cell_type": "code",
   "execution_count": 2,
   "metadata": {},
   "outputs": [],
   "source": [
    "# Getting the data\n",
    "training_data = pd.read_parquet('../data/train.parquet',engine='pyarrow')\n",
    "validation_data = pd.read_parquet('../data/valid.parquet',engine='pyarrow')"
   ]
  },
  {
   "cell_type": "code",
   "execution_count": 3,
   "metadata": {},
   "outputs": [
    {
     "data": {
      "text/plain": [
       "((8015, 10001), (14409, 10001))"
      ]
     },
     "execution_count": 3,
     "metadata": {},
     "output_type": "execute_result"
    }
   ],
   "source": [
    "# Viewing the data shapes to make sure everything is loaded correctly\n",
    "training_data.shape, validation_data.shape"
   ]
  },
  {
   "cell_type": "code",
   "execution_count": 4,
   "metadata": {},
   "outputs": [],
   "source": [
    "# Splitting the data into features and target\n",
    "X_train, y_train = training_data.drop('label', axis=1), training_data['label']\n",
    "X_valid, y_valid = validation_data.drop('label', axis=1), validation_data['label']"
   ]
  },
  {
   "cell_type": "code",
   "execution_count": 5,
   "metadata": {},
   "outputs": [
    {
     "data": {
      "text/html": [
       "<div>\n",
       "<style scoped>\n",
       "    .dataframe tbody tr th:only-of-type {\n",
       "        vertical-align: middle;\n",
       "    }\n",
       "\n",
       "    .dataframe tbody tr th {\n",
       "        vertical-align: top;\n",
       "    }\n",
       "\n",
       "    .dataframe thead th {\n",
       "        text-align: right;\n",
       "    }\n",
       "</style>\n",
       "<table border=\"1\" class=\"dataframe\">\n",
       "  <thead>\n",
       "    <tr style=\"text-align: right;\">\n",
       "      <th></th>\n",
       "      <th>9990</th>\n",
       "      <th>9991</th>\n",
       "      <th>9992</th>\n",
       "      <th>9993</th>\n",
       "      <th>9994</th>\n",
       "      <th>9995</th>\n",
       "      <th>9996</th>\n",
       "      <th>9997</th>\n",
       "      <th>9998</th>\n",
       "      <th>9999</th>\n",
       "    </tr>\n",
       "  </thead>\n",
       "  <tbody>\n",
       "    <tr>\n",
       "      <th>count</th>\n",
       "      <td>8015.000000</td>\n",
       "      <td>8015.000000</td>\n",
       "      <td>8015.000000</td>\n",
       "      <td>8015.000000</td>\n",
       "      <td>8015.000000</td>\n",
       "      <td>8015.000000</td>\n",
       "      <td>8015.000000</td>\n",
       "      <td>8015.000000</td>\n",
       "      <td>8015.000000</td>\n",
       "      <td>8015.000000</td>\n",
       "    </tr>\n",
       "    <tr>\n",
       "      <th>mean</th>\n",
       "      <td>0.269576</td>\n",
       "      <td>0.190374</td>\n",
       "      <td>0.118911</td>\n",
       "      <td>0.107272</td>\n",
       "      <td>0.098846</td>\n",
       "      <td>0.083768</td>\n",
       "      <td>0.083441</td>\n",
       "      <td>0.103348</td>\n",
       "      <td>0.074237</td>\n",
       "      <td>0.095866</td>\n",
       "    </tr>\n",
       "    <tr>\n",
       "      <th>std</th>\n",
       "      <td>0.203952</td>\n",
       "      <td>0.135341</td>\n",
       "      <td>0.086047</td>\n",
       "      <td>0.045402</td>\n",
       "      <td>0.062408</td>\n",
       "      <td>0.064253</td>\n",
       "      <td>0.057867</td>\n",
       "      <td>0.090961</td>\n",
       "      <td>0.050083</td>\n",
       "      <td>0.063028</td>\n",
       "    </tr>\n",
       "    <tr>\n",
       "      <th>min</th>\n",
       "      <td>0.027451</td>\n",
       "      <td>0.023529</td>\n",
       "      <td>0.023529</td>\n",
       "      <td>0.023529</td>\n",
       "      <td>0.019608</td>\n",
       "      <td>0.019608</td>\n",
       "      <td>0.019608</td>\n",
       "      <td>0.023529</td>\n",
       "      <td>0.019608</td>\n",
       "      <td>0.023529</td>\n",
       "    </tr>\n",
       "    <tr>\n",
       "      <th>25%</th>\n",
       "      <td>0.082353</td>\n",
       "      <td>0.078431</td>\n",
       "      <td>0.058824</td>\n",
       "      <td>0.070588</td>\n",
       "      <td>0.054902</td>\n",
       "      <td>0.043137</td>\n",
       "      <td>0.039216</td>\n",
       "      <td>0.039216</td>\n",
       "      <td>0.039216</td>\n",
       "      <td>0.054902</td>\n",
       "    </tr>\n",
       "    <tr>\n",
       "      <th>50%</th>\n",
       "      <td>0.196078</td>\n",
       "      <td>0.149020</td>\n",
       "      <td>0.094118</td>\n",
       "      <td>0.101961</td>\n",
       "      <td>0.074510</td>\n",
       "      <td>0.058824</td>\n",
       "      <td>0.070588</td>\n",
       "      <td>0.066667</td>\n",
       "      <td>0.058824</td>\n",
       "      <td>0.082353</td>\n",
       "    </tr>\n",
       "    <tr>\n",
       "      <th>75%</th>\n",
       "      <td>0.466667</td>\n",
       "      <td>0.290196</td>\n",
       "      <td>0.141176</td>\n",
       "      <td>0.137255</td>\n",
       "      <td>0.129412</td>\n",
       "      <td>0.098039</td>\n",
       "      <td>0.101961</td>\n",
       "      <td>0.133333</td>\n",
       "      <td>0.101961</td>\n",
       "      <td>0.119608</td>\n",
       "    </tr>\n",
       "    <tr>\n",
       "      <th>max</th>\n",
       "      <td>0.803922</td>\n",
       "      <td>0.749020</td>\n",
       "      <td>0.600000</td>\n",
       "      <td>0.862745</td>\n",
       "      <td>0.937255</td>\n",
       "      <td>0.917647</td>\n",
       "      <td>0.878431</td>\n",
       "      <td>0.862745</td>\n",
       "      <td>0.894118</td>\n",
       "      <td>0.933333</td>\n",
       "    </tr>\n",
       "  </tbody>\n",
       "</table>\n",
       "</div>"
      ],
      "text/plain": [
       "              9990         9991         9992         9993         9994  \\\n",
       "count  8015.000000  8015.000000  8015.000000  8015.000000  8015.000000   \n",
       "mean      0.269576     0.190374     0.118911     0.107272     0.098846   \n",
       "std       0.203952     0.135341     0.086047     0.045402     0.062408   \n",
       "min       0.027451     0.023529     0.023529     0.023529     0.019608   \n",
       "25%       0.082353     0.078431     0.058824     0.070588     0.054902   \n",
       "50%       0.196078     0.149020     0.094118     0.101961     0.074510   \n",
       "75%       0.466667     0.290196     0.141176     0.137255     0.129412   \n",
       "max       0.803922     0.749020     0.600000     0.862745     0.937255   \n",
       "\n",
       "              9995         9996         9997         9998         9999  \n",
       "count  8015.000000  8015.000000  8015.000000  8015.000000  8015.000000  \n",
       "mean      0.083768     0.083441     0.103348     0.074237     0.095866  \n",
       "std       0.064253     0.057867     0.090961     0.050083     0.063028  \n",
       "min       0.019608     0.019608     0.023529     0.019608     0.023529  \n",
       "25%       0.043137     0.039216     0.039216     0.039216     0.054902  \n",
       "50%       0.058824     0.070588     0.066667     0.058824     0.082353  \n",
       "75%       0.098039     0.101961     0.133333     0.101961     0.119608  \n",
       "max       0.917647     0.878431     0.862745     0.894118     0.933333  "
      ]
     },
     "execution_count": 5,
     "metadata": {},
     "output_type": "execute_result"
    }
   ],
   "source": [
    "# Checking the statistics for the pixels\n",
    "X_train.iloc[:,9990:10000].describe()"
   ]
  },
  {
   "cell_type": "markdown",
   "metadata": {},
   "source": [
    "## Preprocessing "
   ]
  },
  {
   "cell_type": "code",
   "execution_count": 6,
   "metadata": {},
   "outputs": [],
   "source": [
    "# Doing PCA to reduce the number of features\n",
    "if not os.path.exists('../models/pca.pkl'):\n",
    "    pca = PCA(n_components=0.95,random_state=42)\n",
    "    print('Fitting PCA')\n",
    "    X_train_pca = pca.fit_transform(X_train)\n",
    "    print('Transforming validation data')\n",
    "    X_valid_pca = pca.transform(X_valid)\n",
    "    print('Saving PCA model')\n",
    "    joblib.dump(pca, '../models/pca.pkl')\n",
    "    print('PCA model saved')\n",
    "else:\n",
    "    pca = joblib.load('../models/pca.pkl')\n",
    "    X_train_pca = pca.transform(X_train)\n",
    "    X_valid_pca = pca.transform(X_valid)"
   ]
  },
  {
   "cell_type": "code",
   "execution_count": 7,
   "metadata": {},
   "outputs": [
    {
     "data": {
      "text/plain": [
       "((8015, 196), (14409, 196))"
      ]
     },
     "execution_count": 7,
     "metadata": {},
     "output_type": "execute_result"
    }
   ],
   "source": [
    "# Getting the reduced shapes\n",
    "X_train_pca.shape, X_valid_pca.shape"
   ]
  },
  {
   "cell_type": "code",
   "execution_count": 8,
   "metadata": {},
   "outputs": [
    {
     "data": {
      "text/plain": [
       "((8015, 10000), (14409, 10000))"
      ]
     },
     "execution_count": 8,
     "metadata": {},
     "output_type": "execute_result"
    }
   ],
   "source": [
    "# Comparing to original shapes\n",
    "X_train.shape, X_valid.shape"
   ]
  },
  {
   "cell_type": "code",
   "execution_count": 9,
   "metadata": {},
   "outputs": [
    {
     "name": "stdout",
     "output_type": "stream",
     "text": [
      "Label:  operating the radio\n"
     ]
    },
    {
     "data": {
      "image/png": "[encoded data removed]",
      "text/plain": [
       "<Figure size 1000x500 with 2 Axes>"
      ]
     },
     "metadata": {},
     "output_type": "display_data"
    }
   ],
   "source": [
    "# Printing the data prior to compression\n",
    "height = 100\n",
    "width = 100\n",
    "random_image = np.random.randint(0, X_train.shape[0])\n",
    "fig, (ax1, ax2) = plt.subplots(1, 2, figsize=(10, 5))\n",
    "ax1.imshow(X_train.iloc[random_image].values.reshape(height, width), cmap='gray')\n",
    "ax1.axis('off')\n",
    "ax1.set_title('Original Image')\n",
    "\n",
    "# Plotting the compressed image\n",
    "ax2.imshow(pca.inverse_transform(X_train_pca[random_image]).reshape(height, width), cmap='gray')\n",
    "ax2.axis('off')\n",
    "ax2.set_title('Compressed Image')\n",
    "labels_to_names = {0: 'safe driving',1: 'texting - right', 2: 'talking on the phone - right', \n",
    "                   3: 'texting - left', 4: 'talking on the phone - left', 5: 'operating the radio', \n",
    "                   6: 'drinking', 7: 'reaching behind', 8: 'hair and makeup', 9: 'talking to passenger'}\n",
    "print('Label: ', labels_to_names[y_train.iloc[random_image]])\n",
    "plt.show()"
   ]
  },
  {
   "cell_type": "markdown",
   "metadata": {},
   "source": [
    "## Modeling"
   ]
  },
  {
   "cell_type": "code",
   "execution_count": 10,
   "metadata": {},
   "outputs": [],
   "source": [
    "# Setting up the logger object\n",
    "logger = MLMetricsLogger()"
   ]
  },
  {
   "cell_type": "markdown",
   "metadata": {},
   "source": [
    "### Logistic Regression"
   ]
  },
  {
   "cell_type": "code",
   "execution_count": 11,
   "metadata": {},
   "outputs": [
    {
     "name": "stderr",
     "output_type": "stream",
     "text": [
      "/Users/jinalshah/.pyenv/versions/3.9.18/envs/distracted-driver-prediction/lib/python3.9/site-packages/sklearn/linear_model/_logistic.py:1247: FutureWarning: 'multi_class' was deprecated in version 1.5 and will be removed in 1.7. From then on, it will always use 'multinomial'. Leave it to its default value to avoid this warning.\n",
      "  warnings.warn(\n"
     ]
    },
    {
     "name": "stdout",
     "output_type": "stream",
     "text": [
      "Epoch 1, change: 1.00000000\n",
      "Epoch 2, change: 0.19848594\n",
      "Epoch 3, change: 0.15506618\n",
      "Epoch 4, change: 0.09138499\n",
      "Epoch 5, change: 0.09881829\n",
      "Epoch 6, change: 0.04564834\n",
      "Epoch 7, change: 0.04096283\n",
      "Epoch 8, change: 0.03388669\n",
      "Epoch 9, change: 0.01915784\n",
      "Epoch 10, change: 0.01793986\n",
      "Epoch 11, change: 0.01240699\n",
      "Epoch 12, change: 0.01061368\n",
      "Epoch 13, change: 0.00967559\n",
      "Epoch 14, change: 0.00831772\n",
      "Epoch 15, change: 0.00778717\n",
      "Epoch 16, change: 0.00724970\n",
      "Epoch 17, change: 0.00673624\n",
      "Epoch 18, change: 0.00643634\n",
      "Epoch 19, change: 0.00612863\n",
      "Epoch 20, change: 0.00584622\n",
      "Epoch 21, change: 0.00558979\n",
      "Epoch 22, change: 0.00524710\n",
      "Epoch 23, change: 0.00501634\n",
      "Epoch 24, change: 0.00484817\n",
      "Epoch 25, change: 0.00458812\n",
      "Epoch 26, change: 0.00441385\n",
      "Epoch 27, change: 0.00422307\n",
      "Epoch 28, change: 0.00393287\n",
      "Epoch 29, change: 0.00378849\n",
      "Epoch 30, change: 0.00360642\n",
      "Epoch 31, change: 0.00344884\n",
      "Epoch 32, change: 0.00328524\n",
      "Epoch 33, change: 0.00325158\n",
      "Epoch 34, change: 0.00296575\n",
      "Epoch 35, change: 0.00293438\n",
      "Epoch 36, change: 0.00272090\n",
      "Epoch 37, change: 0.00262297\n",
      "Epoch 38, change: 0.00259509\n",
      "Epoch 39, change: 0.00245104\n",
      "Epoch 40, change: 0.00241809\n",
      "Epoch 41, change: 0.00239198\n",
      "Epoch 42, change: 0.00230399\n",
      "Epoch 43, change: 0.00212692\n",
      "Epoch 44, change: 0.00207657\n",
      "Epoch 45, change: 0.00205331\n",
      "Epoch 46, change: 0.00201673\n",
      "Epoch 47, change: 0.00199409\n",
      "Epoch 48, change: 0.00197170\n",
      "Epoch 49, change: 0.00194954\n",
      "Epoch 50, change: 0.00192760\n",
      "Epoch 51, change: 0.00190590\n",
      "Epoch 52, change: 0.00182696\n",
      "Epoch 53, change: 0.00166924\n",
      "Epoch 54, change: 0.00169141\n",
      "Epoch 55, change: 0.00156961\n",
      "Epoch 56, change: 0.00155187\n",
      "Epoch 57, change: 0.00153436\n",
      "Epoch 58, change: 0.00151700\n",
      "Epoch 59, change: 0.00149984\n",
      "Epoch 60, change: 0.00148283\n",
      "Epoch 61, change: 0.00146603\n",
      "Epoch 62, change: 0.00142149\n",
      "Epoch 63, change: 0.00139728\n",
      "Epoch 64, change: 0.00126425\n",
      "Epoch 65, change: 0.00119863\n",
      "Epoch 66, change: 0.00118477\n",
      "Epoch 67, change: 0.00117110\n",
      "Epoch 68, change: 0.00115758\n",
      "Epoch 69, change: 0.00114417\n",
      "Epoch 70, change: 0.00108746\n",
      "Epoch 71, change: 0.00106742\n",
      "Epoch 72, change: 0.00105498\n",
      "Epoch 73, change: 0.00104272\n",
      "Epoch 74, change: 0.00103058\n",
      "convergence after 75 epochs took 10 seconds\n",
      "[Parallel(n_jobs=1)]: Done   1 tasks      | elapsed:    9.5s\n",
      "[Parallel(n_jobs=1)]: Done   1 tasks      | elapsed:    9.5s\n"
     ]
    },
    {
     "data": {
      "text/plain": [
       "['../models/model_2.pkl']"
      ]
     },
     "execution_count": 11,
     "metadata": {},
     "output_type": "execute_result"
    }
   ],
   "source": [
    "logistic_model = LogisticRegression(penalty='l2',C=0.15,random_state=42,solver='sag',max_iter=100,multi_class='multinomial',verbose=50,tol=1e-3)\n",
    "logistic_model.fit(X_train_pca, y_train)\n",
    "joblib.dump(logistic_model, '../models/model_2.pkl')"
   ]
  },
  {
   "cell_type": "code",
   "execution_count": 12,
   "metadata": {},
   "outputs": [],
   "source": [
    "# Making predictions\n",
    "y_train_pred = logistic_model.predict_proba(X_train_pca)\n",
    "y_valid_pred = logistic_model.predict_proba(X_valid_pca)"
   ]
  },
  {
   "cell_type": "code",
   "execution_count": 13,
   "metadata": {},
   "outputs": [
    {
     "data": {
      "text/plain": [
       "{'model_id': '2',\n",
       " 'model_name': 'Logistic Regression',\n",
       " 'train_CE_loss': 0.018539669314360147,\n",
       " 'train_acc': 0.9998752339363693,\n",
       " 'validation_CE_loss': 3.911086036072996,\n",
       " 'validation_acc': 0.2644180720383094}"
      ]
     },
     "execution_count": 13,
     "metadata": {},
     "output_type": "execute_result"
    }
   ],
   "source": [
    "# Checking the metrics\n",
    "metrics = logger.calculate_metrics(\"2\",'Logistic Regression',y_train,y_train_pred,y_valid,y_valid_pred)\n",
    "metrics"
   ]
  },
  {
   "cell_type": "code",
   "execution_count": 14,
   "metadata": {},
   "outputs": [],
   "source": [
    "# Logging the metrics\n",
    "try:\n",
    "    logger.log_metrics(metrics)\n",
    "except Exception as e:\n",
    "    print('Already logged')"
   ]
  },
  {
   "cell_type": "markdown",
   "metadata": {},
   "source": [
    "### Decision Trees"
   ]
  },
  {
   "cell_type": "code",
   "execution_count": 15,
   "metadata": {},
   "outputs": [
    {
     "data": {
      "text/plain": [
       "['../models/model_3.pkl']"
      ]
     },
     "execution_count": 15,
     "metadata": {},
     "output_type": "execute_result"
    }
   ],
   "source": [
    "d_tree = DecisionTreeClassifier(criterion='gini',random_state=42,max_depth=12,max_features='sqrt')\n",
    "d_tree.fit(X_train_pca, y_train)\n",
    "joblib.dump(d_tree, '../models/model_3.pkl')"
   ]
  },
  {
   "cell_type": "code",
   "execution_count": 16,
   "metadata": {},
   "outputs": [],
   "source": [
    "# Making predictions\n",
    "y_train_pred = d_tree.predict_proba(X_train_pca)\n",
    "y_valid_pred = d_tree.predict_proba(X_valid_pca)"
   ]
  },
  {
   "cell_type": "code",
   "execution_count": 17,
   "metadata": {},
   "outputs": [
    {
     "data": {
      "text/plain": [
       "{'model_id': '3',\n",
       " 'model_name': 'Decision Tree',\n",
       " 'train_CE_loss': 0.24203798034815044,\n",
       " 'train_acc': 0.9206487835308796,\n",
       " 'validation_CE_loss': 26.39875220745922,\n",
       " 'validation_acc': 0.1778749392740648}"
      ]
     },
     "execution_count": 17,
     "metadata": {},
     "output_type": "execute_result"
    }
   ],
   "source": [
    "# Checking the metrics\n",
    "metrics = logger.calculate_metrics(\"3\",'Decision Tree',y_train,y_train_pred,y_valid,y_valid_pred)\n",
    "metrics"
   ]
  },
  {
   "cell_type": "code",
   "execution_count": 18,
   "metadata": {},
   "outputs": [],
   "source": [
    "# Logging the metrics\n",
    "try:\n",
    "    logger.log_metrics(metrics)\n",
    "except Exception as e:\n",
    "    print('Already logged')"
   ]
  },
  {
   "cell_type": "markdown",
   "metadata": {},
   "source": [
    "### Random Forest"
   ]
  },
  {
   "cell_type": "code",
   "execution_count": 19,
   "metadata": {},
   "outputs": [
    {
     "data": {
      "text/plain": [
       "['../models/model_4.pkl']"
      ]
     },
     "execution_count": 19,
     "metadata": {},
     "output_type": "execute_result"
    }
   ],
   "source": [
    "rf = RandomForestClassifier(n_estimators=100,criterion='gini',bootstrap=True,random_state=42)\n",
    "rf.fit(X_train_pca, y_train)\n",
    "joblib.dump(rf, '../models/model_4.pkl')"
   ]
  },
  {
   "cell_type": "code",
   "execution_count": 20,
   "metadata": {},
   "outputs": [],
   "source": [
    "# Making predictions\n",
    "y_train_pred = rf.predict_proba(X_train_pca)\n",
    "y_valid_pred = rf.predict_proba(X_valid_pca)"
   ]
  },
  {
   "cell_type": "code",
   "execution_count": 21,
   "metadata": {},
   "outputs": [
    {
     "data": {
      "text/plain": [
       "{'model_id': '4',\n",
       " 'model_name': 'Random Forest',\n",
       " 'train_CE_loss': 0.08807704745257257,\n",
       " 'train_acc': 1.0,\n",
       " 'validation_CE_loss': 2.2754440711585193,\n",
       " 'validation_acc': 0.24533277812478313}"
      ]
     },
     "execution_count": 21,
     "metadata": {},
     "output_type": "execute_result"
    }
   ],
   "source": [
    "# Checking the metrics\n",
    "metrics = logger.calculate_metrics(\"4\",'Random Forest',y_train,y_train_pred,y_valid,y_valid_pred)\n",
    "metrics"
   ]
  },
  {
   "cell_type": "code",
   "execution_count": 22,
   "metadata": {},
   "outputs": [
    {
     "name": "stdout",
     "output_type": "stream",
     "text": [
      "Fitting 3 folds for each of 9 candidates, totalling 27 fits\n",
      "[CV 1/3] END max_depth=7, n_estimators=50;, score=(train=-0.766, test=-1.947) total time=   6.2s\n",
      "[CV 2/3] END max_depth=7, n_estimators=50;, score=(train=-0.814, test=-1.790) total time=   5.0s\n",
      "[CV 3/3] END max_depth=7, n_estimators=50;, score=(train=-0.708, test=-2.048) total time=   5.1s\n",
      "[CV 1/3] END max_depth=7, n_estimators=100;, score=(train=-0.745, test=-1.934) total time=  10.0s\n",
      "[CV 2/3] END max_depth=7, n_estimators=100;, score=(train=-0.800, test=-1.771) total time=  10.0s\n",
      "[CV 3/3] END max_depth=7, n_estimators=100;, score=(train=-0.702, test=-2.030) total time=  10.1s\n",
      "[CV 1/3] END max_depth=7, n_estimators=150;, score=(train=-0.745, test=-1.924) total time=  14.8s\n",
      "[CV 2/3] END max_depth=7, n_estimators=150;, score=(train=-0.798, test=-1.777) total time=  14.8s\n",
      "[CV 3/3] END max_depth=7, n_estimators=150;, score=(train=-0.714, test=-2.037) total time=  14.2s\n",
      "[CV 1/3] END max_depth=10, n_estimators=50;, score=(train=-0.339, test=-1.891) total time=   6.7s\n",
      "[CV 2/3] END max_depth=10, n_estimators=50;, score=(train=-0.385, test=-1.621) total time=   6.7s\n",
      "[CV 3/3] END max_depth=10, n_estimators=50;, score=(train=-0.321, test=-1.977) total time=   6.9s\n",
      "[CV 1/3] END max_depth=10, n_estimators=100;, score=(train=-0.329, test=-1.901) total time=  12.2s\n",
      "[CV 2/3] END max_depth=10, n_estimators=100;, score=(train=-0.385, test=-1.615) total time=  13.8s\n",
      "[CV 3/3] END max_depth=10, n_estimators=100;, score=(train=-0.314, test=-1.968) total time=  15.9s\n",
      "[CV 1/3] END max_depth=10, n_estimators=150;, score=(train=-0.329, test=-1.898) total time=  20.4s\n",
      "[CV 2/3] END max_depth=10, n_estimators=150;, score=(train=-0.384, test=-1.607) total time=  20.5s\n",
      "[CV 3/3] END max_depth=10, n_estimators=150;, score=(train=-0.322, test=-1.971) total time=  18.4s\n",
      "[CV 1/3] END max_depth=12, n_estimators=50;, score=(train=-0.201, test=-1.884) total time=   7.1s\n",
      "[CV 2/3] END max_depth=12, n_estimators=50;, score=(train=-0.246, test=-1.573) total time=   6.6s\n",
      "[CV 3/3] END max_depth=12, n_estimators=50;, score=(train=-0.190, test=-1.987) total time=   6.7s\n",
      "[CV 1/3] END max_depth=12, n_estimators=100;, score=(train=-0.194, test=-1.870) total time=  13.4s\n",
      "[CV 2/3] END max_depth=12, n_estimators=100;, score=(train=-0.245, test=-1.546) total time=  13.3s\n",
      "[CV 3/3] END max_depth=12, n_estimators=100;, score=(train=-0.187, test=-1.941) total time=  12.4s\n",
      "[CV 1/3] END max_depth=12, n_estimators=150;, score=(train=-0.194, test=-1.859) total time=  26.6s\n",
      "[CV 2/3] END max_depth=12, n_estimators=150;, score=(train=-0.243, test=-1.544) total time=  21.1s\n",
      "[CV 3/3] END max_depth=12, n_estimators=150;, score=(train=-0.193, test=-1.934) total time=  20.0s\n"
     ]
    },
    {
     "data": {
      "text/html": [
       "<style>#sk-container-id-1 {\n",
       "  /* Definition of color scheme common for light and dark mode */\n",
       "  --sklearn-color-text: black;\n",
       "  --sklearn-color-line: gray;\n",
       "  /* Definition of color scheme for unfitted estimators */\n",
       "  --sklearn-color-unfitted-level-0: #fff5e6;\n",
       "  --sklearn-color-unfitted-level-1: #f6e4d2;\n",
       "  --sklearn-color-unfitted-level-2: #ffe0b3;\n",
       "  --sklearn-color-unfitted-level-3: chocolate;\n",
       "  /* Definition of color scheme for fitted estimators */\n",
       "  --sklearn-color-fitted-level-0: #f0f8ff;\n",
       "  --sklearn-color-fitted-level-1: #d4ebff;\n",
       "  --sklearn-color-fitted-level-2: #b3dbfd;\n",
       "  --sklearn-color-fitted-level-3: cornflowerblue;\n",
       "\n",
       "  /* Specific color for light theme */\n",
       "  --sklearn-color-text-on-default-background: var(--sg-text-color, var(--theme-code-foreground, var(--jp-content-font-color1, black)));\n",
       "  --sklearn-color-background: var(--sg-background-color, var(--theme-background, var(--jp-layout-color0, white)));\n",
       "  --sklearn-color-border-box: var(--sg-text-color, var(--theme-code-foreground, var(--jp-content-font-color1, black)));\n",
       "  --sklearn-color-icon: #696969;\n",
       "\n",
       "  @media (prefers-color-scheme: dark) {\n",
       "    /* Redefinition of color scheme for dark theme */\n",
       "    --sklearn-color-text-on-default-background: var(--sg-text-color, var(--theme-code-foreground, var(--jp-content-font-color1, white)));\n",
       "    --sklearn-color-background: var(--sg-background-color, var(--theme-background, var(--jp-layout-color0, #111)));\n",
       "    --sklearn-color-border-box: var(--sg-text-color, var(--theme-code-foreground, var(--jp-content-font-color1, white)));\n",
       "    --sklearn-color-icon: #878787;\n",
       "  }\n",
       "}\n",
       "\n",
       "#sk-container-id-1 {\n",
       "  color: var(--sklearn-color-text);\n",
       "}\n",
       "\n",
       "#sk-container-id-1 pre {\n",
       "  padding: 0;\n",
       "}\n",
       "\n",
       "#sk-container-id-1 input.sk-hidden--visually {\n",
       "  border: 0;\n",
       "  clip: rect(1px 1px 1px 1px);\n",
       "  clip: rect(1px, 1px, 1px, 1px);\n",
       "  height: 1px;\n",
       "  margin: -1px;\n",
       "  overflow: hidden;\n",
       "  padding: 0;\n",
       "  position: absolute;\n",
       "  width: 1px;\n",
       "}\n",
       "\n",
       "#sk-container-id-1 div.sk-dashed-wrapped {\n",
       "  border: 1px dashed var(--sklearn-color-line);\n",
       "  margin: 0 0.4em 0.5em 0.4em;\n",
       "  box-sizing: border-box;\n",
       "  padding-bottom: 0.4em;\n",
       "  background-color: var(--sklearn-color-background);\n",
       "}\n",
       "\n",
       "#sk-container-id-1 div.sk-container {\n",
       "  /* jupyter's `normalize.less` sets `[hidden] { display: none; }`\n",
       "     but bootstrap.min.css set `[hidden] { display: none !important; }`\n",
       "     so we also need the `!important` here to be able to override the\n",
       "     default hidden behavior on the sphinx rendered scikit-learn.org.\n",
       "     See: https://github.com/scikit-learn/scikit-learn/issues/21755 */\n",
       "  display: inline-block !important;\n",
       "  position: relative;\n",
       "}\n",
       "\n",
       "#sk-container-id-1 div.sk-text-repr-fallback {\n",
       "  display: none;\n",
       "}\n",
       "\n",
       "div.sk-parallel-item,\n",
       "div.sk-serial,\n",
       "div.sk-item {\n",
       "  /* draw centered vertical line to link estimators */\n",
       "  background-image: linear-gradient(var(--sklearn-color-text-on-default-background), var(--sklearn-color-text-on-default-background));\n",
       "  background-size: 2px 100%;\n",
       "  background-repeat: no-repeat;\n",
       "  background-position: center center;\n",
       "}\n",
       "\n",
       "/* Parallel-specific style estimator block */\n",
       "\n",
       "#sk-container-id-1 div.sk-parallel-item::after {\n",
       "  content: \"\";\n",
       "  width: 100%;\n",
       "  border-bottom: 2px solid var(--sklearn-color-text-on-default-background);\n",
       "  flex-grow: 1;\n",
       "}\n",
       "\n",
       "#sk-container-id-1 div.sk-parallel {\n",
       "  display: flex;\n",
       "  align-items: stretch;\n",
       "  justify-content: center;\n",
       "  background-color: var(--sklearn-color-background);\n",
       "  position: relative;\n",
       "}\n",
       "\n",
       "#sk-container-id-1 div.sk-parallel-item {\n",
       "  display: flex;\n",
       "  flex-direction: column;\n",
       "}\n",
       "\n",
       "#sk-container-id-1 div.sk-parallel-item:first-child::after {\n",
       "  align-self: flex-end;\n",
       "  width: 50%;\n",
       "}\n",
       "\n",
       "#sk-container-id-1 div.sk-parallel-item:last-child::after {\n",
       "  align-self: flex-start;\n",
       "  width: 50%;\n",
       "}\n",
       "\n",
       "#sk-container-id-1 div.sk-parallel-item:only-child::after {\n",
       "  width: 0;\n",
       "}\n",
       "\n",
       "/* Serial-specific style estimator block */\n",
       "\n",
       "#sk-container-id-1 div.sk-serial {\n",
       "  display: flex;\n",
       "  flex-direction: column;\n",
       "  align-items: center;\n",
       "  background-color: var(--sklearn-color-background);\n",
       "  padding-right: 1em;\n",
       "  padding-left: 1em;\n",
       "}\n",
       "\n",
       "\n",
       "/* Toggleable style: style used for estimator/Pipeline/ColumnTransformer box that is\n",
       "clickable and can be expanded/collapsed.\n",
       "- Pipeline and ColumnTransformer use this feature and define the default style\n",
       "- Estimators will overwrite some part of the style using the `sk-estimator` class\n",
       "*/\n",
       "\n",
       "/* Pipeline and ColumnTransformer style (default) */\n",
       "\n",
       "#sk-container-id-1 div.sk-toggleable {\n",
       "  /* Default theme specific background. It is overwritten whether we have a\n",
       "  specific estimator or a Pipeline/ColumnTransformer */\n",
       "  background-color: var(--sklearn-color-background);\n",
       "}\n",
       "\n",
       "/* Toggleable label */\n",
       "#sk-container-id-1 label.sk-toggleable__label {\n",
       "  cursor: pointer;\n",
       "  display: block;\n",
       "  width: 100%;\n",
       "  margin-bottom: 0;\n",
       "  padding: 0.5em;\n",
       "  box-sizing: border-box;\n",
       "  text-align: center;\n",
       "}\n",
       "\n",
       "#sk-container-id-1 label.sk-toggleable__label-arrow:before {\n",
       "  /* Arrow on the left of the label */\n",
       "  content: \"▸\";\n",
       "  float: left;\n",
       "  margin-right: 0.25em;\n",
       "  color: var(--sklearn-color-icon);\n",
       "}\n",
       "\n",
       "#sk-container-id-1 label.sk-toggleable__label-arrow:hover:before {\n",
       "  color: var(--sklearn-color-text);\n",
       "}\n",
       "\n",
       "/* Toggleable content - dropdown */\n",
       "\n",
       "#sk-container-id-1 div.sk-toggleable__content {\n",
       "  max-height: 0;\n",
       "  max-width: 0;\n",
       "  overflow: hidden;\n",
       "  text-align: left;\n",
       "  /* unfitted */\n",
       "  background-color: var(--sklearn-color-unfitted-level-0);\n",
       "}\n",
       "\n",
       "#sk-container-id-1 div.sk-toggleable__content.fitted {\n",
       "  /* fitted */\n",
       "  background-color: var(--sklearn-color-fitted-level-0);\n",
       "}\n",
       "\n",
       "#sk-container-id-1 div.sk-toggleable__content pre {\n",
       "  margin: 0.2em;\n",
       "  border-radius: 0.25em;\n",
       "  color: var(--sklearn-color-text);\n",
       "  /* unfitted */\n",
       "  background-color: var(--sklearn-color-unfitted-level-0);\n",
       "}\n",
       "\n",
       "#sk-container-id-1 div.sk-toggleable__content.fitted pre {\n",
       "  /* unfitted */\n",
       "  background-color: var(--sklearn-color-fitted-level-0);\n",
       "}\n",
       "\n",
       "#sk-container-id-1 input.sk-toggleable__control:checked~div.sk-toggleable__content {\n",
       "  /* Expand drop-down */\n",
       "  max-height: 200px;\n",
       "  max-width: 100%;\n",
       "  overflow: auto;\n",
       "}\n",
       "\n",
       "#sk-container-id-1 input.sk-toggleable__control:checked~label.sk-toggleable__label-arrow:before {\n",
       "  content: \"▾\";\n",
       "}\n",
       "\n",
       "/* Pipeline/ColumnTransformer-specific style */\n",
       "\n",
       "#sk-container-id-1 div.sk-label input.sk-toggleable__control:checked~label.sk-toggleable__label {\n",
       "  color: var(--sklearn-color-text);\n",
       "  background-color: var(--sklearn-color-unfitted-level-2);\n",
       "}\n",
       "\n",
       "#sk-container-id-1 div.sk-label.fitted input.sk-toggleable__control:checked~label.sk-toggleable__label {\n",
       "  background-color: var(--sklearn-color-fitted-level-2);\n",
       "}\n",
       "\n",
       "/* Estimator-specific style */\n",
       "\n",
       "/* Colorize estimator box */\n",
       "#sk-container-id-1 div.sk-estimator input.sk-toggleable__control:checked~label.sk-toggleable__label {\n",
       "  /* unfitted */\n",
       "  background-color: var(--sklearn-color-unfitted-level-2);\n",
       "}\n",
       "\n",
       "#sk-container-id-1 div.sk-estimator.fitted input.sk-toggleable__control:checked~label.sk-toggleable__label {\n",
       "  /* fitted */\n",
       "  background-color: var(--sklearn-color-fitted-level-2);\n",
       "}\n",
       "\n",
       "#sk-container-id-1 div.sk-label label.sk-toggleable__label,\n",
       "#sk-container-id-1 div.sk-label label {\n",
       "  /* The background is the default theme color */\n",
       "  color: var(--sklearn-color-text-on-default-background);\n",
       "}\n",
       "\n",
       "/* On hover, darken the color of the background */\n",
       "#sk-container-id-1 div.sk-label:hover label.sk-toggleable__label {\n",
       "  color: var(--sklearn-color-text);\n",
       "  background-color: var(--sklearn-color-unfitted-level-2);\n",
       "}\n",
       "\n",
       "/* Label box, darken color on hover, fitted */\n",
       "#sk-container-id-1 div.sk-label.fitted:hover label.sk-toggleable__label.fitted {\n",
       "  color: var(--sklearn-color-text);\n",
       "  background-color: var(--sklearn-color-fitted-level-2);\n",
       "}\n",
       "\n",
       "/* Estimator label */\n",
       "\n",
       "#sk-container-id-1 div.sk-label label {\n",
       "  font-family: monospace;\n",
       "  font-weight: bold;\n",
       "  display: inline-block;\n",
       "  line-height: 1.2em;\n",
       "}\n",
       "\n",
       "#sk-container-id-1 div.sk-label-container {\n",
       "  text-align: center;\n",
       "}\n",
       "\n",
       "/* Estimator-specific */\n",
       "#sk-container-id-1 div.sk-estimator {\n",
       "  font-family: monospace;\n",
       "  border: 1px dotted var(--sklearn-color-border-box);\n",
       "  border-radius: 0.25em;\n",
       "  box-sizing: border-box;\n",
       "  margin-bottom: 0.5em;\n",
       "  /* unfitted */\n",
       "  background-color: var(--sklearn-color-unfitted-level-0);\n",
       "}\n",
       "\n",
       "#sk-container-id-1 div.sk-estimator.fitted {\n",
       "  /* fitted */\n",
       "  background-color: var(--sklearn-color-fitted-level-0);\n",
       "}\n",
       "\n",
       "/* on hover */\n",
       "#sk-container-id-1 div.sk-estimator:hover {\n",
       "  /* unfitted */\n",
       "  background-color: var(--sklearn-color-unfitted-level-2);\n",
       "}\n",
       "\n",
       "#sk-container-id-1 div.sk-estimator.fitted:hover {\n",
       "  /* fitted */\n",
       "  background-color: var(--sklearn-color-fitted-level-2);\n",
       "}\n",
       "\n",
       "/* Specification for estimator info (e.g. \"i\" and \"?\") */\n",
       "\n",
       "/* Common style for \"i\" and \"?\" */\n",
       "\n",
       ".sk-estimator-doc-link,\n",
       "a:link.sk-estimator-doc-link,\n",
       "a:visited.sk-estimator-doc-link {\n",
       "  float: right;\n",
       "  font-size: smaller;\n",
       "  line-height: 1em;\n",
       "  font-family: monospace;\n",
       "  background-color: var(--sklearn-color-background);\n",
       "  border-radius: 1em;\n",
       "  height: 1em;\n",
       "  width: 1em;\n",
       "  text-decoration: none !important;\n",
       "  margin-left: 1ex;\n",
       "  /* unfitted */\n",
       "  border: var(--sklearn-color-unfitted-level-1) 1pt solid;\n",
       "  color: var(--sklearn-color-unfitted-level-1);\n",
       "}\n",
       "\n",
       ".sk-estimator-doc-link.fitted,\n",
       "a:link.sk-estimator-doc-link.fitted,\n",
       "a:visited.sk-estimator-doc-link.fitted {\n",
       "  /* fitted */\n",
       "  border: var(--sklearn-color-fitted-level-1) 1pt solid;\n",
       "  color: var(--sklearn-color-fitted-level-1);\n",
       "}\n",
       "\n",
       "/* On hover */\n",
       "div.sk-estimator:hover .sk-estimator-doc-link:hover,\n",
       ".sk-estimator-doc-link:hover,\n",
       "div.sk-label-container:hover .sk-estimator-doc-link:hover,\n",
       ".sk-estimator-doc-link:hover {\n",
       "  /* unfitted */\n",
       "  background-color: var(--sklearn-color-unfitted-level-3);\n",
       "  color: var(--sklearn-color-background);\n",
       "  text-decoration: none;\n",
       "}\n",
       "\n",
       "div.sk-estimator.fitted:hover .sk-estimator-doc-link.fitted:hover,\n",
       ".sk-estimator-doc-link.fitted:hover,\n",
       "div.sk-label-container:hover .sk-estimator-doc-link.fitted:hover,\n",
       ".sk-estimator-doc-link.fitted:hover {\n",
       "  /* fitted */\n",
       "  background-color: var(--sklearn-color-fitted-level-3);\n",
       "  color: var(--sklearn-color-background);\n",
       "  text-decoration: none;\n",
       "}\n",
       "\n",
       "/* Span, style for the box shown on hovering the info icon */\n",
       ".sk-estimator-doc-link span {\n",
       "  display: none;\n",
       "  z-index: 9999;\n",
       "  position: relative;\n",
       "  font-weight: normal;\n",
       "  right: .2ex;\n",
       "  padding: .5ex;\n",
       "  margin: .5ex;\n",
       "  width: min-content;\n",
       "  min-width: 20ex;\n",
       "  max-width: 50ex;\n",
       "  color: var(--sklearn-color-text);\n",
       "  box-shadow: 2pt 2pt 4pt #999;\n",
       "  /* unfitted */\n",
       "  background: var(--sklearn-color-unfitted-level-0);\n",
       "  border: .5pt solid var(--sklearn-color-unfitted-level-3);\n",
       "}\n",
       "\n",
       ".sk-estimator-doc-link.fitted span {\n",
       "  /* fitted */\n",
       "  background: var(--sklearn-color-fitted-level-0);\n",
       "  border: var(--sklearn-color-fitted-level-3);\n",
       "}\n",
       "\n",
       ".sk-estimator-doc-link:hover span {\n",
       "  display: block;\n",
       "}\n",
       "\n",
       "/* \"?\"-specific style due to the `<a>` HTML tag */\n",
       "\n",
       "#sk-container-id-1 a.estimator_doc_link {\n",
       "  float: right;\n",
       "  font-size: 1rem;\n",
       "  line-height: 1em;\n",
       "  font-family: monospace;\n",
       "  background-color: var(--sklearn-color-background);\n",
       "  border-radius: 1rem;\n",
       "  height: 1rem;\n",
       "  width: 1rem;\n",
       "  text-decoration: none;\n",
       "  /* unfitted */\n",
       "  color: var(--sklearn-color-unfitted-level-1);\n",
       "  border: var(--sklearn-color-unfitted-level-1) 1pt solid;\n",
       "}\n",
       "\n",
       "#sk-container-id-1 a.estimator_doc_link.fitted {\n",
       "  /* fitted */\n",
       "  border: var(--sklearn-color-fitted-level-1) 1pt solid;\n",
       "  color: var(--sklearn-color-fitted-level-1);\n",
       "}\n",
       "\n",
       "/* On hover */\n",
       "#sk-container-id-1 a.estimator_doc_link:hover {\n",
       "  /* unfitted */\n",
       "  background-color: var(--sklearn-color-unfitted-level-3);\n",
       "  color: var(--sklearn-color-background);\n",
       "  text-decoration: none;\n",
       "}\n",
       "\n",
       "#sk-container-id-1 a.estimator_doc_link.fitted:hover {\n",
       "  /* fitted */\n",
       "  background-color: var(--sklearn-color-fitted-level-3);\n",
       "}\n",
       "</style><div id=\"sk-container-id-1\" class=\"sk-top-container\"><div class=\"sk-text-repr-fallback\"><pre>GridSearchCV(cv=3, estimator=RandomForestClassifier(random_state=42),\n",
       "             param_grid={&#x27;max_depth&#x27;: [7, 10, 12],\n",
       "                         &#x27;n_estimators&#x27;: [50, 100, 150]},\n",
       "             return_train_score=True, scoring=&#x27;neg_log_loss&#x27;, verbose=3)</pre><b>In a Jupyter environment, please rerun this cell to show the HTML representation or trust the notebook. <br />On GitHub, the HTML representation is unable to render, please try loading this page with nbviewer.org.</b></div><div class=\"sk-container\" hidden><div class=\"sk-item sk-dashed-wrapped\"><div class=\"sk-label-container\"><div class=\"sk-label fitted sk-toggleable\"><input class=\"sk-toggleable__control sk-hidden--visually\" id=\"sk-estimator-id-1\" type=\"checkbox\" ><label for=\"sk-estimator-id-1\" class=\"sk-toggleable__label fitted sk-toggleable__label-arrow fitted\">&nbsp;&nbsp;GridSearchCV<a class=\"sk-estimator-doc-link fitted\" rel=\"noreferrer\" target=\"_blank\" href=\"https://scikit-learn.org/1.5/modules/generated/sklearn.model_selection.GridSearchCV.html\">?<span>Documentation for GridSearchCV</span></a><span class=\"sk-estimator-doc-link fitted\">i<span>Fitted</span></span></label><div class=\"sk-toggleable__content fitted\"><pre>GridSearchCV(cv=3, estimator=RandomForestClassifier(random_state=42),\n",
       "             param_grid={&#x27;max_depth&#x27;: [7, 10, 12],\n",
       "                         &#x27;n_estimators&#x27;: [50, 100, 150]},\n",
       "             return_train_score=True, scoring=&#x27;neg_log_loss&#x27;, verbose=3)</pre></div> </div></div><div class=\"sk-parallel\"><div class=\"sk-parallel-item\"><div class=\"sk-item\"><div class=\"sk-label-container\"><div class=\"sk-label fitted sk-toggleable\"><input class=\"sk-toggleable__control sk-hidden--visually\" id=\"sk-estimator-id-2\" type=\"checkbox\" ><label for=\"sk-estimator-id-2\" class=\"sk-toggleable__label fitted sk-toggleable__label-arrow fitted\">best_estimator_: RandomForestClassifier</label><div class=\"sk-toggleable__content fitted\"><pre>RandomForestClassifier(max_depth=12, n_estimators=150, random_state=42)</pre></div> </div></div><div class=\"sk-serial\"><div class=\"sk-item\"><div class=\"sk-estimator fitted sk-toggleable\"><input class=\"sk-toggleable__control sk-hidden--visually\" id=\"sk-estimator-id-3\" type=\"checkbox\" ><label for=\"sk-estimator-id-3\" class=\"sk-toggleable__label fitted sk-toggleable__label-arrow fitted\">&nbsp;RandomForestClassifier<a class=\"sk-estimator-doc-link fitted\" rel=\"noreferrer\" target=\"_blank\" href=\"https://scikit-learn.org/1.5/modules/generated/sklearn.ensemble.RandomForestClassifier.html\">?<span>Documentation for RandomForestClassifier</span></a></label><div class=\"sk-toggleable__content fitted\"><pre>RandomForestClassifier(max_depth=12, n_estimators=150, random_state=42)</pre></div> </div></div></div></div></div></div></div></div></div>"
      ],
      "text/plain": [
       "GridSearchCV(cv=3, estimator=RandomForestClassifier(random_state=42),\n",
       "             param_grid={'max_depth': [7, 10, 12],\n",
       "                         'n_estimators': [50, 100, 150]},\n",
       "             return_train_score=True, scoring='neg_log_loss', verbose=3)"
      ]
     },
     "execution_count": 22,
     "metadata": {},
     "output_type": "execute_result"
    }
   ],
   "source": [
    "# Running GridSearch because the metrics for RF weren't too bad\n",
    "param_grid = {\n",
    "    'n_estimators': [50, 100, 150],\n",
    "    'max_depth': [7,10, 12],\n",
    "}\n",
    "search = GridSearchCV(estimator=RandomForestClassifier(criterion='gini',bootstrap=True,random_state=42),\n",
    "                      param_grid=param_grid,scoring='neg_log_loss',refit=True,cv=3,verbose=3,return_train_score=True)\n",
    "search.fit(X_train_pca, y_train)"
   ]
  },
  {
   "cell_type": "code",
   "execution_count": 23,
   "metadata": {},
   "outputs": [],
   "source": [
    "best_rf = search.best_estimator_\n",
    "joblib.dump(best_rf, '../models/model_5.pkl')\n",
    "\n",
    "y_train_pred = best_rf.predict_proba(X_train_pca)\n",
    "y_valid_pred = best_rf.predict_proba(X_valid_pca)"
   ]
  },
  {
   "cell_type": "code",
   "execution_count": 24,
   "metadata": {},
   "outputs": [
    {
     "data": {
      "text/plain": [
       "{'model_id': '5',\n",
       " 'model_name': 'Random Forest -- GridSearch',\n",
       " 'train_CE_loss': 0.270310444280272,\n",
       " 'train_acc': 1.0,\n",
       " 'validation_CE_loss': 2.1575463907205834,\n",
       " 'validation_acc': 0.26247484211256855}"
      ]
     },
     "execution_count": 24,
     "metadata": {},
     "output_type": "execute_result"
    }
   ],
   "source": [
    "# Checking the metrics\n",
    "metrics_2 = logger.calculate_metrics(\"5\",'Random Forest -- GridSearch',y_train,y_train_pred,y_valid,y_valid_pred)\n",
    "metrics_2"
   ]
  },
  {
   "cell_type": "code",
   "execution_count": 25,
   "metadata": {},
   "outputs": [],
   "source": [
    "# Logging both models\n",
    "try:\n",
    "    logger.log_metrics(metrics)\n",
    "    logger.log_metrics(metrics_2)\n",
    "except Exception as e:\n",
    "    print('Already logged')"
   ]
  },
  {
   "cell_type": "markdown",
   "metadata": {},
   "source": [
    "### Gradient Boosting (CatBoost)"
   ]
  },
  {
   "cell_type": "code",
   "execution_count": 26,
   "metadata": {},
   "outputs": [
    {
     "name": "stdout",
     "output_type": "stream",
     "text": [
      "0:\tlearn: 2.2854753\ttest: 2.2997365\tbest: 2.2997365 (0)\ttotal: 1.28s\tremaining: 21m 22s\n",
      "50:\tlearn: 1.6760259\ttest: 2.2324926\tbest: 2.2324926 (50)\ttotal: 47.1s\tremaining: 14m 36s\n",
      "100:\tlearn: 1.3178105\ttest: 2.2119088\tbest: 2.2119088 (100)\ttotal: 1m 36s\tremaining: 14m 22s\n",
      "150:\tlearn: 1.0692341\ttest: 2.1993202\tbest: 2.1993202 (150)\ttotal: 2m 10s\tremaining: 12m 14s\n",
      "Stopped by overfitting detector  (5 iterations wait)\n",
      "\n",
      "bestTest = 2.199320226\n",
      "bestIteration = 150\n",
      "\n",
      "Shrink model to first 151 iterations.\n"
     ]
    }
   ],
   "source": [
    "params = {\n",
    "    'iterations':1000,\n",
    "    'learning_rate':0.01,\n",
    "    'loss_function':'MultiClass',\n",
    "    'custom_metric':'Accuracy',\n",
    "    'eval_metric':'MultiClass',\n",
    "    'random_seed':42,\n",
    "    'early_stopping_rounds':5,\n",
    "    'use_best_model':True,\n",
    "}\n",
    "catboost_clf = CatBoostClassifier(**params)\n",
    "catboost_clf.fit(X_train_pca, y_train,eval_set=(X_valid_pca, y_valid),verbose=50)\n",
    "\n",
    "# Saving the model\n",
    "catboost_clf.save_model('../models/model_6.cbm')"
   ]
  },
  {
   "cell_type": "code",
   "execution_count": 27,
   "metadata": {},
   "outputs": [
    {
     "data": {
      "text/plain": [
       "151"
      ]
     },
     "execution_count": 27,
     "metadata": {},
     "output_type": "execute_result"
    }
   ],
   "source": [
    "# Checking tree count\n",
    "catboost_clf.tree_count_"
   ]
  },
  {
   "cell_type": "code",
   "execution_count": 28,
   "metadata": {},
   "outputs": [],
   "source": [
    "y_train_pred = catboost_clf.predict_proba(X_train_pca,ntree_end=catboost_clf.tree_count_)\n",
    "y_valid_pred = catboost_clf.predict_proba(X_valid_pca,ntree_end=catboost_clf.tree_count_)"
   ]
  },
  {
   "cell_type": "code",
   "execution_count": 29,
   "metadata": {},
   "outputs": [
    {
     "data": {
      "text/plain": [
       "{'model_id': '6',\n",
       " 'model_name': 'Catboost',\n",
       " 'train_CE_loss': 1.069234061176899,\n",
       " 'train_acc': 0.9287585776668746,\n",
       " 'validation_CE_loss': 2.199320226235013,\n",
       " 'validation_acc': 0.22902352696231523}"
      ]
     },
     "execution_count": 29,
     "metadata": {},
     "output_type": "execute_result"
    }
   ],
   "source": [
    "# Checking the metrics\n",
    "metrics = logger.calculate_metrics(\"6\",'Catboost',y_train,y_train_pred,y_valid,y_valid_pred)\n",
    "metrics"
   ]
  },
  {
   "cell_type": "code",
   "execution_count": 31,
   "metadata": {},
   "outputs": [],
   "source": [
    "# Logging both models\n",
    "try:\n",
    "    logger.log_metrics(metrics)\n",
    "except Exception as e:\n",
    "    print('Already logged')"
   ]
  },
  {
   "cell_type": "markdown",
   "metadata": {},
   "source": [
    "## Analysis"
   ]
  },
  {
   "cell_type": "code",
   "execution_count": 32,
   "metadata": {},
   "outputs": [
    {
     "data": {
      "text/html": [
       "<div>\n",
       "<style scoped>\n",
       "    .dataframe tbody tr th:only-of-type {\n",
       "        vertical-align: middle;\n",
       "    }\n",
       "\n",
       "    .dataframe tbody tr th {\n",
       "        vertical-align: top;\n",
       "    }\n",
       "\n",
       "    .dataframe thead th {\n",
       "        text-align: right;\n",
       "    }\n",
       "</style>\n",
       "<table border=\"1\" class=\"dataframe\">\n",
       "  <thead>\n",
       "    <tr style=\"text-align: right;\">\n",
       "      <th></th>\n",
       "      <th>model_id</th>\n",
       "      <th>model_name</th>\n",
       "      <th>train_CE_loss</th>\n",
       "      <th>validation_CE_loss</th>\n",
       "      <th>train_acc</th>\n",
       "      <th>validation_acc</th>\n",
       "    </tr>\n",
       "  </thead>\n",
       "  <tbody>\n",
       "    <tr>\n",
       "      <th>0</th>\n",
       "      <td>1</td>\n",
       "      <td>Baseline Model (Random Classifer)</td>\n",
       "      <td>2.7292835997275806</td>\n",
       "      <td>2.7133451340303605</td>\n",
       "      <td>0.09794135995009358</td>\n",
       "      <td>0.10264418072038309</td>\n",
       "    </tr>\n",
       "    <tr>\n",
       "      <th>1</th>\n",
       "      <td>2</td>\n",
       "      <td>Logistic Regression</td>\n",
       "      <td>0.018539669314360147</td>\n",
       "      <td>3.911086036072996</td>\n",
       "      <td>0.9998752339363693</td>\n",
       "      <td>0.2644180720383094</td>\n",
       "    </tr>\n",
       "    <tr>\n",
       "      <th>2</th>\n",
       "      <td>3</td>\n",
       "      <td>Decision Tree</td>\n",
       "      <td>0.24203798034815044</td>\n",
       "      <td>26.39875220745922</td>\n",
       "      <td>0.9206487835308796</td>\n",
       "      <td>0.1778749392740648</td>\n",
       "    </tr>\n",
       "    <tr>\n",
       "      <th>3</th>\n",
       "      <td>4</td>\n",
       "      <td>Random Forest</td>\n",
       "      <td>0.08807704745257257</td>\n",
       "      <td>2.2754440711585193</td>\n",
       "      <td>1.0</td>\n",
       "      <td>0.24533277812478313</td>\n",
       "    </tr>\n",
       "    <tr>\n",
       "      <th>4</th>\n",
       "      <td>5</td>\n",
       "      <td>Random Forest -- GridSearch</td>\n",
       "      <td>0.270310444280272</td>\n",
       "      <td>2.1575463907205834</td>\n",
       "      <td>1.0</td>\n",
       "      <td>0.26247484211256855</td>\n",
       "    </tr>\n",
       "    <tr>\n",
       "      <th>5</th>\n",
       "      <td>6</td>\n",
       "      <td>Catboost</td>\n",
       "      <td>1.069234061176899</td>\n",
       "      <td>2.199320226235013</td>\n",
       "      <td>0.9287585776668746</td>\n",
       "      <td>0.22902352696231523</td>\n",
       "    </tr>\n",
       "  </tbody>\n",
       "</table>\n",
       "</div>"
      ],
      "text/plain": [
       "  model_id                         model_name         train_CE_loss  \\\n",
       "0        1  Baseline Model (Random Classifer)    2.7292835997275806   \n",
       "1        2                Logistic Regression  0.018539669314360147   \n",
       "2        3                      Decision Tree   0.24203798034815044   \n",
       "3        4                      Random Forest   0.08807704745257257   \n",
       "4        5        Random Forest -- GridSearch     0.270310444280272   \n",
       "5        6                           Catboost     1.069234061176899   \n",
       "\n",
       "   validation_CE_loss            train_acc       validation_acc  \n",
       "0  2.7133451340303605  0.09794135995009358  0.10264418072038309  \n",
       "1   3.911086036072996   0.9998752339363693   0.2644180720383094  \n",
       "2   26.39875220745922   0.9206487835308796   0.1778749392740648  \n",
       "3  2.2754440711585193                  1.0  0.24533277812478313  \n",
       "4  2.1575463907205834                  1.0  0.26247484211256855  \n",
       "5   2.199320226235013   0.9287585776668746  0.22902352696231523  "
      ]
     },
     "execution_count": 32,
     "metadata": {},
     "output_type": "execute_result"
    }
   ],
   "source": [
    "# Reading the metrics\n",
    "metrics_df = pd.DataFrame(logger.read_metrics())\n",
    "metrics_df"
   ]
  }
 ],
 "metadata": {
  "kernelspec": {
   "display_name": "distracted-driver-prediction",
   "language": "python",
   "name": "python3"
  },
  "language_info": {
   "codemirror_mode": {
    "name": "ipython",
    "version": 3
   },
   "file_extension": ".py",
   "mimetype": "text/x-python",
   "name": "python",
   "nbconvert_exporter": "python",
   "pygments_lexer": "ipython3",
   "version": "3.9.18"
  }
 },
 "nbformat": 4,
 "nbformat_minor": 2
}
