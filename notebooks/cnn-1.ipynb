{
 "cells": [
  {
   "cell_type": "markdown",
   "id": "df7231cf",
   "metadata": {
    "_cell_guid": "b1076dfc-b9ad-4769-8c92-a6c4dae69d19",
    "_uuid": "8f2839f25d086af736a60e9eeb907d3b93b6e0e5",
    "papermill": {
     "duration": 0.003953,
     "end_time": "2024-08-30T03:13:55.922783",
     "exception": false,
     "start_time": "2024-08-30T03:13:55.918830",
     "status": "completed"
    },
    "tags": []
   },
   "source": [
    "# CNN_1 \n",
    "\n",
    "This notebook will train & save CNN_1. This notebook was made in Kaggle so that I can utilize GPU resources. "
   ]
  },
  {
   "cell_type": "code",
   "execution_count": 1,
   "id": "e54f17c1",
   "metadata": {
    "execution": {
     "iopub.execute_input": "2024-08-30T03:13:55.931400Z",
     "iopub.status.busy": "2024-08-30T03:13:55.931003Z",
     "iopub.status.idle": "2024-08-30T03:14:04.118243Z",
     "shell.execute_reply": "2024-08-30T03:14:04.117439Z"
    },
    "papermill": {
     "duration": 8.193926,
     "end_time": "2024-08-30T03:14:04.120457",
     "exception": false,
     "start_time": "2024-08-30T03:13:55.926531",
     "status": "completed"
    },
    "tags": []
   },
   "outputs": [],
   "source": [
    "# Imports\n",
    "import pandas as pd\n",
    "import numpy as np \n",
    "import matplotlib.pyplot as plt\n",
    "import torch\n",
    "import torch.nn as nn\n",
    "from torch.utils.data import Dataset, DataLoader\n",
    "from torchvision.transforms import v2\n",
    "from sklearn.metrics import log_loss, accuracy_score"
   ]
  },
  {
   "cell_type": "markdown",
   "id": "22aaf21e",
   "metadata": {
    "papermill": {
     "duration": 0.003158,
     "end_time": "2024-08-30T03:14:04.127288",
     "exception": false,
     "start_time": "2024-08-30T03:14:04.124130",
     "status": "completed"
    },
    "tags": []
   },
   "source": [
    "## Classes & Functions"
   ]
  },
  {
   "cell_type": "code",
   "execution_count": 2,
   "id": "10392416",
   "metadata": {
    "execution": {
     "iopub.execute_input": "2024-08-30T03:14:04.135518Z",
     "iopub.status.busy": "2024-08-30T03:14:04.135001Z",
     "iopub.status.idle": "2024-08-30T03:14:04.143714Z",
     "shell.execute_reply": "2024-08-30T03:14:04.142850Z"
    },
    "papermill": {
     "duration": 0.015072,
     "end_time": "2024-08-30T03:14:04.145579",
     "exception": false,
     "start_time": "2024-08-30T03:14:04.130507",
     "status": "completed"
    },
    "tags": []
   },
   "outputs": [],
   "source": [
    "class StateFarmDD(Dataset):\n",
    "    # Constructor\n",
    "    def __init__(self,annotations_path,path_prefix='../data/imgs/train',transform_pipeline=None):\n",
    "        self.annotations = pd.read_csv(annotations_path)\n",
    "        self.transformation_pipeline = transform_pipeline\n",
    "        self.path_prefix = path_prefix\n",
    "        self.label_to_int_dict = {'c0':0,'c1':1,'c2':2,'c3':3,'c4':4,'c5':5,'c6':6,'c7':7,'c8':8,'c9':9}\n",
    "    \n",
    "    # Method to get the length of the dataset\n",
    "    def __len__(self):\n",
    "        return len(self.annotations)\n",
    "    \n",
    "    # Method to get the item at a particular index\n",
    "    def __getitem__(self,index):\n",
    "        label = self.annotations.iloc[index,1]\n",
    "        image_name = self.annotations.iloc[index,2]\n",
    "        image = plt.imread(f'{self.path_prefix}/{label}/{image_name}')\n",
    "\n",
    "        # Throwing image through pipeline if it exists\n",
    "        if self.transformation_pipeline:\n",
    "            transformed_image = self.transformation_pipeline(image.copy()).squeeze(0)\n",
    "            return transformed_image, self.label_to_int_dict[label]\n",
    "        else:\n",
    "            return image, self.label_to_int_dict[label]"
   ]
  },
  {
   "cell_type": "code",
   "execution_count": 3,
   "id": "5fb719e5",
   "metadata": {
    "execution": {
     "iopub.execute_input": "2024-08-30T03:14:04.153633Z",
     "iopub.status.busy": "2024-08-30T03:14:04.153320Z",
     "iopub.status.idle": "2024-08-30T03:14:04.159442Z",
     "shell.execute_reply": "2024-08-30T03:14:04.158564Z"
    },
    "papermill": {
     "duration": 0.012346,
     "end_time": "2024-08-30T03:14:04.161427",
     "exception": false,
     "start_time": "2024-08-30T03:14:04.149081",
     "status": "completed"
    },
    "tags": []
   },
   "outputs": [],
   "source": [
    "# Function to calculate the metrics\n",
    "def calculate_metrics(model_id,model_name,training_targets,training_predictions,val_targets,val_predictions):\n",
    "\n",
    "    # Getting the metrics\n",
    "    train_CE_loss = log_loss(training_targets,training_predictions)\n",
    "    validation_CE_loss = log_loss(val_targets,val_predictions)\n",
    "\n",
    "    # Getting the accuracy\n",
    "    train_class_preds = np.array(training_predictions).argmax(axis=1)\n",
    "    valid_class_preds = np.array(val_predictions).argmax(axis=1)\n",
    "    train_acc = accuracy_score(training_targets,train_class_preds)\n",
    "    valid_acc = accuracy_score(val_targets,valid_class_preds)\n",
    "\n",
    "    return {'model_id':model_id,'model_name':model_name,'train_CE_loss':train_CE_loss,\n",
    "            'train_acc':train_acc,'validation_CE_loss':validation_CE_loss,'validation_acc':valid_acc}"
   ]
  },
  {
   "cell_type": "markdown",
   "id": "9d3132ae",
   "metadata": {
    "papermill": {
     "duration": 0.003444,
     "end_time": "2024-08-30T03:14:04.168438",
     "exception": false,
     "start_time": "2024-08-30T03:14:04.164994",
     "status": "completed"
    },
    "tags": []
   },
   "source": [
    "## Model Building & Training"
   ]
  },
  {
   "cell_type": "code",
   "execution_count": 4,
   "id": "49bade38",
   "metadata": {
    "execution": {
     "iopub.execute_input": "2024-08-30T03:14:04.176992Z",
     "iopub.status.busy": "2024-08-30T03:14:04.176698Z",
     "iopub.status.idle": "2024-08-30T03:14:04.229125Z",
     "shell.execute_reply": "2024-08-30T03:14:04.228016Z"
    },
    "papermill": {
     "duration": 0.05923,
     "end_time": "2024-08-30T03:14:04.231340",
     "exception": false,
     "start_time": "2024-08-30T03:14:04.172110",
     "status": "completed"
    },
    "tags": []
   },
   "outputs": [],
   "source": [
    "# Getting the data\n",
    "training_path = '/kaggle/input/statefarmdd/training.csv'\n",
    "validation_path = '/kaggle/input/statefarmdd/validation.csv'\n",
    "\n",
    "# Creating the Datasets\n",
    "transformation_pipeline = v2.Compose([\n",
    "        v2.ToImage(),\n",
    "        v2.Grayscale(),\n",
    "        v2.Resize([100,100]),\n",
    "        v2.ToDtype(torch.float32, scale=True),\n",
    "])\n",
    "train_dataset = StateFarmDD(training_path, path_prefix='/kaggle/input/state-farm-distracted-driver-detection/imgs/train',transform_pipeline=transformation_pipeline)\n",
    "valid_dataset = StateFarmDD(validation_path, path_prefix='/kaggle/input/state-farm-distracted-driver-detection/imgs/train',transform_pipeline=transformation_pipeline)\n",
    "train_loader = DataLoader(train_dataset, batch_size=32, shuffle=True)\n",
    "valid_loader = DataLoader(valid_dataset, batch_size=32, shuffle=True)"
   ]
  },
  {
   "cell_type": "code",
   "execution_count": 5,
   "id": "183f0710",
   "metadata": {
    "execution": {
     "iopub.execute_input": "2024-08-30T03:14:04.240441Z",
     "iopub.status.busy": "2024-08-30T03:14:04.240101Z",
     "iopub.status.idle": "2024-08-30T03:50:46.394977Z",
     "shell.execute_reply": "2024-08-30T03:50:46.393922Z"
    },
    "papermill": {
     "duration": 2202.167355,
     "end_time": "2024-08-30T03:50:46.402671",
     "exception": false,
     "start_time": "2024-08-30T03:14:04.235316",
     "status": "completed"
    },
    "tags": []
   },
   "outputs": [
    {
     "name": "stdout",
     "output_type": "stream",
     "text": [
      "-----------------------------------\n",
      "Epoch 0\n",
      "Training Loss: 2.2998\n",
      "Validation Loss: 2.301\n",
      "Training Accuracy: 11.8029%\n",
      "Validation Accuracy: 10.2158%\n",
      "\n",
      "Best Validation Loss: 2.301\n",
      "-----------------------------------\n",
      "\n",
      "-----------------------------------\n",
      "Epoch 1\n",
      "Training Loss: 2.2891\n",
      "Validation Loss: 2.2963\n",
      "Training Accuracy: 14.2109%\n",
      "Validation Accuracy: 11.3332%\n",
      "\n",
      "Best Validation Loss: 2.2963\n",
      "-----------------------------------\n",
      "\n",
      "-----------------------------------\n",
      "Epoch 2\n",
      "Training Loss: 2.2761\n",
      "Validation Loss: 2.29\n",
      "Training Accuracy: 16.6937%\n",
      "Validation Accuracy: 10.8404%\n",
      "\n",
      "Best Validation Loss: 2.29\n",
      "-----------------------------------\n",
      "\n",
      "-----------------------------------\n",
      "Epoch 3\n",
      "Training Loss: 2.2585\n",
      "Validation Loss: 2.281\n",
      "Training Accuracy: 25.34%\n",
      "Validation Accuracy: 13.8941%\n",
      "\n",
      "Best Validation Loss: 2.281\n",
      "-----------------------------------\n",
      "\n",
      "-----------------------------------\n",
      "Epoch 4\n",
      "Training Loss: 2.2344\n",
      "Validation Loss: 2.2688\n",
      "Training Accuracy: 35.0967%\n",
      "Validation Accuracy: 14.1648%\n",
      "\n",
      "Best Validation Loss: 2.2688\n",
      "-----------------------------------\n",
      "\n",
      "-----------------------------------\n",
      "Epoch 5\n",
      "Training Loss: 2.2011\n",
      "Validation Loss: 2.2529\n",
      "Training Accuracy: 41.1728%\n",
      "Validation Accuracy: 14.5534%\n",
      "\n",
      "Best Validation Loss: 2.2529\n",
      "-----------------------------------\n",
      "\n",
      "-----------------------------------\n",
      "Epoch 6\n",
      "Training Loss: 2.1559\n",
      "Validation Loss: 2.2322\n",
      "Training Accuracy: 44.3793%\n",
      "Validation Accuracy: 18.766%\n",
      "\n",
      "Best Validation Loss: 2.2322\n",
      "-----------------------------------\n",
      "\n",
      "-----------------------------------\n",
      "Epoch 7\n",
      "Training Loss: 2.0977\n",
      "Validation Loss: 2.2086\n",
      "Training Accuracy: 47.2115%\n",
      "Validation Accuracy: 19.7099%\n",
      "\n",
      "Best Validation Loss: 2.2086\n",
      "-----------------------------------\n",
      "\n",
      "-----------------------------------\n",
      "Epoch 8\n",
      "Training Loss: 2.0278\n",
      "Validation Loss: 2.1849\n",
      "Training Accuracy: 51.3662%\n",
      "Validation Accuracy: 21.9793%\n",
      "\n",
      "Best Validation Loss: 2.1849\n",
      "-----------------------------------\n",
      "\n",
      "-----------------------------------\n",
      "Epoch 9\n",
      "Training Loss: 1.9481\n",
      "Validation Loss: 2.1628\n",
      "Training Accuracy: 53.9863%\n",
      "Validation Accuracy: 24.5402%\n",
      "\n",
      "Best Validation Loss: 2.1628\n",
      "-----------------------------------\n",
      "\n",
      "-----------------------------------\n",
      "Epoch 10\n",
      "Training Loss: 1.8641\n",
      "Validation Loss: 2.15\n",
      "Training Accuracy: 56.781%\n",
      "Validation Accuracy: 23.2563%\n",
      "\n",
      "Best Validation Loss: 2.15\n",
      "-----------------------------------\n",
      "\n",
      "-----------------------------------\n",
      "Epoch 11\n",
      "Training Loss: 1.7806\n",
      "Validation Loss: 2.1492\n",
      "Training Accuracy: 57.7293%\n",
      "Validation Accuracy: 22.1459%\n",
      "\n",
      "Best Validation Loss: 2.1492\n",
      "-----------------------------------\n",
      "\n",
      "-----------------------------------\n",
      "Epoch 12\n",
      "Training Loss: 1.701\n",
      "Validation Loss: 2.1447\n",
      "Training Accuracy: 60.3618%\n",
      "Validation Accuracy: 25.2759%\n",
      "\n",
      "Best Validation Loss: 2.1447\n",
      "-----------------------------------\n",
      "\n",
      "-----------------------------------\n",
      "Epoch 13\n",
      "Training Loss: 1.6272\n",
      "Validation Loss: 2.1543\n",
      "Training Accuracy: 61.5221%\n",
      "Validation Accuracy: 24.2279%\n",
      "\n",
      "Best Validation Loss: 2.1447\n",
      "-----------------------------------\n",
      "\n",
      "-----------------------------------\n",
      "Epoch 14\n",
      "Training Loss: 1.5583\n",
      "Validation Loss: 2.1637\n",
      "Training Accuracy: 65.4648%\n",
      "Validation Accuracy: 25.4077%\n",
      "\n",
      "Best Validation Loss: 2.1447\n",
      "-----------------------------------\n",
      "\n",
      "-----------------------------------\n",
      "Epoch 15\n",
      "Training Loss: 1.4953\n",
      "Validation Loss: 2.186\n",
      "Training Accuracy: 67.1865%\n",
      "Validation Accuracy: 24.9913%\n",
      "\n",
      "Best Validation Loss: 2.1447\n",
      "-----------------------------------\n",
      "\n",
      "-----------------------------------\n",
      "Epoch 16\n",
      "Training Loss: 1.4369\n",
      "Validation Loss: 2.2107\n",
      "Training Accuracy: 69.2327%\n",
      "Validation Accuracy: 25.3522%\n",
      "\n",
      "Best Validation Loss: 2.1447\n",
      "-----------------------------------\n",
      "\n",
      "Stopping training due to early stopping!!!\n"
     ]
    }
   ],
   "source": [
    "# Defining the model\n",
    "model = nn.Sequential(\n",
    "    nn.Conv2d(1,10,kernel_size=3,stride=3),\n",
    "    nn.ReLU(),\n",
    "    nn.MaxPool2d(kernel_size=3,stride=3),\n",
    "    nn.Flatten(),\n",
    "    nn.Linear(1210,500),\n",
    "    nn.ReLU(),\n",
    "    nn.Linear(500,100),\n",
    "    nn.ReLU(),\n",
    "    nn.Linear(100,10)\n",
    ")\n",
    "\n",
    "# Training the model\n",
    "device = torch.device(\"cuda\" if torch.cuda.is_available() else \"cpu\")\n",
    "model.to(device)\n",
    "loss_fn = torch.nn.CrossEntropyLoss(reduction='sum').to(device)\n",
    "optimizer = torch.optim.Adam(model.parameters(), lr=0.00001)\n",
    "training_history_loss = []\n",
    "validation_history_loss = []\n",
    "train_history_accuracy = []\n",
    "valid_history_accuracy = []\n",
    "epochs = 100\n",
    "current_count = 0\n",
    "early_stopping_threshold = 1e-4\n",
    "early_stopping_count = 5\n",
    "best_val_loss = float('inf')\n",
    "\n",
    "# Training the model\n",
    "for epoch in range(epochs):\n",
    "    model.train()\n",
    "    train_loss = 0\n",
    "    valid_loss = 0\n",
    "    train_accuracy = 0\n",
    "    valid_accuracy = 0\n",
    "    for X_batch, y_batch in train_loader:\n",
    "        X_batch, y_batch = X_batch.to(device), y_batch.to(device)\n",
    "        y_pred = model(X_batch.unsqueeze(1))\n",
    "        loss = loss_fn(y_pred, y_batch)\n",
    "        train_loss += loss.item()\n",
    "        optimizer.zero_grad()\n",
    "        loss.backward()\n",
    "        optimizer.step()\n",
    "\n",
    "        # Computing the accuracy\n",
    "        y_pred_labels = torch.argmax(y_pred, dim=1)\n",
    "        train_accuracy += torch.sum(y_pred_labels == y_batch).item()\n",
    "\n",
    "    model.eval()\n",
    "    for X_batch, y_batch in valid_loader:\n",
    "        X_batch, y_batch = X_batch.to(device), y_batch.to(device)\n",
    "        y_pred = model(X_batch.unsqueeze(1))\n",
    "        loss = loss_fn(y_pred, y_batch)\n",
    "        valid_loss += loss.item()\n",
    "\n",
    "        # Computing the accuracy\n",
    "        y_pred_labels = torch.argmax(y_pred, dim=1)\n",
    "        valid_accuracy += torch.sum(y_pred_labels == y_batch).item()\n",
    "    \n",
    "    train_loss /= len(train_loader.dataset)\n",
    "    valid_loss /= len(valid_loader.dataset)\n",
    "    train_accuracy /= len(train_loader.dataset)\n",
    "    valid_accuracy /= len(valid_loader.dataset)\n",
    "    training_history_loss.append(train_loss)\n",
    "    validation_history_loss.append(valid_loss)\n",
    "    train_history_accuracy.append(train_accuracy)\n",
    "    valid_history_accuracy.append(valid_accuracy)\n",
    "\n",
    "    # Early stopping\n",
    "    if epoch > 0:\n",
    "        if validation_history_loss[-1] - best_val_loss > early_stopping_threshold:\n",
    "            current_count += 1\n",
    "        else:\n",
    "            best_val_loss = validation_history_loss[-1]\n",
    "            current_count = 0\n",
    "    else:\n",
    "        best_val_loss = validation_history_loss[-1]\n",
    "        \n",
    "    if current_count == early_stopping_count:\n",
    "        print('Stopping training due to early stopping!!!')\n",
    "        break\n",
    "    elif current_count == 0:\n",
    "        # Saving the best model\n",
    "        model.to('cpu')\n",
    "        torch.save(model.state_dict(), 'cnn_1.pth')\n",
    "        model.to(device)\n",
    "    \n",
    "    print('-----------------------------------')\n",
    "    print(f'Epoch {epoch}')\n",
    "    print(f'Training Loss: {round(train_loss,4)}')\n",
    "    print(f'Validation Loss: {round(valid_loss,4)}')\n",
    "    print(f'Training Accuracy: {round(train_accuracy*100,4)}%')\n",
    "    print(f'Validation Accuracy: {round(valid_accuracy*100,4)}%')\n",
    "    print()\n",
    "    print(f'Best Validation Loss: {round(best_val_loss,4)}')\n",
    "    print('-----------------------------------')\n",
    "    print()"
   ]
  },
  {
   "cell_type": "code",
   "execution_count": 6,
   "id": "d70e6a39",
   "metadata": {
    "execution": {
     "iopub.execute_input": "2024-08-30T03:50:46.415685Z",
     "iopub.status.busy": "2024-08-30T03:50:46.414753Z",
     "iopub.status.idle": "2024-08-30T03:50:46.979795Z",
     "shell.execute_reply": "2024-08-30T03:50:46.978990Z"
    },
    "papermill": {
     "duration": 0.574058,
     "end_time": "2024-08-30T03:50:46.982220",
     "exception": false,
     "start_time": "2024-08-30T03:50:46.408162",
     "status": "completed"
    },
    "tags": []
   },
   "outputs": [],
   "source": [
    "# Saving Plots for the training and validation loss\n",
    "plt.figure(figsize=(10, 6))\n",
    "plt.plot(training_history_loss, label='Training Loss')\n",
    "plt.plot(validation_history_loss, label='Validation Loss')\n",
    "plt.legend()\n",
    "plt.xlabel('Epochs')\n",
    "plt.ylabel('Loss')\n",
    "plt.title('Training and Validation Loss')\n",
    "plt.savefig('cnn_1_loss.png')\n",
    "plt.close()\n",
    "\n",
    "# Saving plot for the training and validation accuracy \n",
    "plt.figure(figsize=(10, 6))\n",
    "plt.plot(train_history_accuracy, label='Training Accuracy')\n",
    "plt.plot(valid_history_accuracy, label='Validation Accuracy')\n",
    "plt.legend()\n",
    "plt.xlabel('Epochs')\n",
    "plt.ylabel('Accuracy')\n",
    "plt.title('Training and Validation Accuracy')\n",
    "plt.savefig('cnn_accuracy_1.png')\n",
    "plt.close()"
   ]
  },
  {
   "cell_type": "code",
   "execution_count": 7,
   "id": "d8cd8ae9",
   "metadata": {
    "execution": {
     "iopub.execute_input": "2024-08-30T03:50:46.994934Z",
     "iopub.status.busy": "2024-08-30T03:50:46.994624Z",
     "iopub.status.idle": "2024-08-30T03:50:47.004230Z",
     "shell.execute_reply": "2024-08-30T03:50:47.003373Z"
    },
    "papermill": {
     "duration": 0.018,
     "end_time": "2024-08-30T03:50:47.006312",
     "exception": false,
     "start_time": "2024-08-30T03:50:46.988312",
     "status": "completed"
    },
    "tags": []
   },
   "outputs": [
    {
     "name": "stderr",
     "output_type": "stream",
     "text": [
      "/tmp/ipykernel_21/2780636475.py:2: FutureWarning: You are using `torch.load` with `weights_only=False` (the current default value), which uses the default pickle module implicitly. It is possible to construct malicious pickle data which will execute arbitrary code during unpickling (See https://github.com/pytorch/pytorch/blob/main/SECURITY.md#untrusted-models for more details). In a future release, the default value for `weights_only` will be flipped to `True`. This limits the functions that could be executed during unpickling. Arbitrary objects will no longer be allowed to be loaded via this mode unless they are explicitly allowlisted by the user via `torch.serialization.add_safe_globals`. We recommend you start setting `weights_only=True` for any use case where you don't have full control of the loaded file. Please open an issue on GitHub for any issues related to this experimental feature.\n",
      "  model.load_state_dict(torch.load('cnn_1.pth')) # loading the best model\n"
     ]
    }
   ],
   "source": [
    "# Making the predictions for the training & validation for metric logging\n",
    "model.load_state_dict(torch.load('cnn_1.pth')) # loading the best model\n",
    "model.eval()\n",
    "model.to(device)\n",
    "train_pred = []\n",
    "valid_pred = []\n",
    "train_truth = []\n",
    "valid_truth = []"
   ]
  },
  {
   "cell_type": "code",
   "execution_count": 8,
   "id": "65f58c2c",
   "metadata": {
    "execution": {
     "iopub.execute_input": "2024-08-30T03:50:47.018243Z",
     "iopub.status.busy": "2024-08-30T03:50:47.017905Z",
     "iopub.status.idle": "2024-08-30T03:52:36.585349Z",
     "shell.execute_reply": "2024-08-30T03:52:36.584248Z"
    },
    "papermill": {
     "duration": 109.582336,
     "end_time": "2024-08-30T03:52:36.593949",
     "exception": false,
     "start_time": "2024-08-30T03:50:47.011613",
     "status": "completed"
    },
    "tags": []
   },
   "outputs": [
    {
     "name": "stdout",
     "output_type": "stream",
     "text": [
      "{'model_id': '8', 'model_name': 'CNN_1', 'train_CE_loss': 1.6629564813598334, 'train_acc': 0.5861509669369931, 'validation_CE_loss': 2.1446885563429507, 'validation_acc': 0.25275869248386423}\n"
     ]
    }
   ],
   "source": [
    "# Running through data loaders to store the predictions\n",
    "for X_batch, y_batch in train_loader:\n",
    "    X_batch = X_batch.to(device)\n",
    "    y_pred = torch.nn.functional.softmax(model(X_batch.unsqueeze(1)),dim=1)\n",
    "    train_pred.extend(y_pred.detach().cpu().numpy())\n",
    "    train_truth.extend(y_batch.numpy())\n",
    "\n",
    "for X_batch, y_batch in valid_loader:\n",
    "    X_batch = X_batch.to(device)\n",
    "    y_pred = torch.nn.functional.softmax(model(X_batch.unsqueeze(1)),dim=1)\n",
    "    valid_pred.extend(y_pred.detach().cpu().numpy())\n",
    "    valid_truth.extend(y_batch.numpy())\n",
    "\n",
    "# Printing out the metrics \n",
    "metrics = calculate_metrics('8',\"CNN_1\",train_truth,np.array(train_pred),valid_truth,np.array(valid_pred))\n",
    "print(metrics)"
   ]
  }
 ],
 "metadata": {
  "kaggle": {
   "accelerator": "nvidiaTeslaT4",
   "dataSources": [
    {
     "databundleVersionId": 868335,
     "sourceId": 5048,
     "sourceType": "competition"
    },
    {
     "datasetId": 5613929,
     "sourceId": 9275719,
     "sourceType": "datasetVersion"
    }
   ],
   "dockerImageVersionId": 30761,
   "isGpuEnabled": true,
   "isInternetEnabled": true,
   "language": "python",
   "sourceType": "notebook"
  },
  "kernelspec": {
   "display_name": "Python 3",
   "language": "python",
   "name": "python3"
  },
  "language_info": {
   "codemirror_mode": {
    "name": "ipython",
    "version": 3
   },
   "file_extension": ".py",
   "mimetype": "text/x-python",
   "name": "python",
   "nbconvert_exporter": "python",
   "pygments_lexer": "ipython3",
   "version": "3.10.14"
  },
  "papermill": {
   "default_parameters": {},
   "duration": 2325.69249,
   "end_time": "2024-08-30T03:52:38.423198",
   "environment_variables": {},
   "exception": null,
   "input_path": "__notebook__.ipynb",
   "output_path": "__notebook__.ipynb",
   "parameters": {},
   "start_time": "2024-08-30T03:13:52.730708",
   "version": "2.6.0"
  }
 },
 "nbformat": 4,
 "nbformat_minor": 5
}
