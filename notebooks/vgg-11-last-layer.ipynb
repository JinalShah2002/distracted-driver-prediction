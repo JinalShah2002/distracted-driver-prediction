{
 "cells": [
  {
   "cell_type": "markdown",
   "id": "27aee731",
   "metadata": {
    "_cell_guid": "b1076dfc-b9ad-4769-8c92-a6c4dae69d19",
    "_uuid": "8f2839f25d086af736a60e9eeb907d3b93b6e0e5",
    "papermill": {
     "duration": 0.00394,
     "end_time": "2024-09-03T23:37:45.319497",
     "exception": false,
     "start_time": "2024-09-03T23:37:45.315557",
     "status": "completed"
    },
    "tags": []
   },
   "source": [
    "# VGG-11 Last Layer\n",
    "\n",
    "This notebook tunes the last layer of VGG-11"
   ]
  },
  {
   "cell_type": "code",
   "execution_count": 1,
   "id": "da0b60c5",
   "metadata": {
    "execution": {
     "iopub.execute_input": "2024-09-03T23:37:45.327229Z",
     "iopub.status.busy": "2024-09-03T23:37:45.326889Z",
     "iopub.status.idle": "2024-09-03T23:37:53.380634Z",
     "shell.execute_reply": "2024-09-03T23:37:53.379634Z"
    },
    "papermill": {
     "duration": 8.060174,
     "end_time": "2024-09-03T23:37:53.383004",
     "exception": false,
     "start_time": "2024-09-03T23:37:45.322830",
     "status": "completed"
    },
    "tags": []
   },
   "outputs": [],
   "source": [
    "# Imports\n",
    "import pandas as pd\n",
    "import numpy as np \n",
    "import matplotlib.pyplot as plt\n",
    "import torch\n",
    "import torch.nn as nn\n",
    "from torch.utils.data import Dataset, DataLoader\n",
    "from torchvision.transforms import v2\n",
    "from torchvision.models import vgg11\n",
    "from sklearn.metrics import log_loss, accuracy_score"
   ]
  },
  {
   "cell_type": "markdown",
   "id": "2773300f",
   "metadata": {
    "papermill": {
     "duration": 0.003211,
     "end_time": "2024-09-03T23:37:53.389990",
     "exception": false,
     "start_time": "2024-09-03T23:37:53.386779",
     "status": "completed"
    },
    "tags": []
   },
   "source": [
    "## Classes & Functions"
   ]
  },
  {
   "cell_type": "code",
   "execution_count": 2,
   "id": "c6f5ec6b",
   "metadata": {
    "execution": {
     "iopub.execute_input": "2024-09-03T23:37:53.398066Z",
     "iopub.status.busy": "2024-09-03T23:37:53.397518Z",
     "iopub.status.idle": "2024-09-03T23:37:53.406832Z",
     "shell.execute_reply": "2024-09-03T23:37:53.406107Z"
    },
    "papermill": {
     "duration": 0.015531,
     "end_time": "2024-09-03T23:37:53.408855",
     "exception": false,
     "start_time": "2024-09-03T23:37:53.393324",
     "status": "completed"
    },
    "tags": []
   },
   "outputs": [],
   "source": [
    "class StateFarmDD(Dataset):\n",
    "    # Constructor\n",
    "    def __init__(self,annotations_path,path_prefix='../data/imgs/train',transform_pipeline=None):\n",
    "        self.annotations = pd.read_csv(annotations_path)\n",
    "        self.transformation_pipeline = transform_pipeline\n",
    "        self.path_prefix = path_prefix\n",
    "        self.label_to_int_dict = {'c0':0,'c1':1,'c2':2,'c3':3,'c4':4,'c5':5,'c6':6,'c7':7,'c8':8,'c9':9}\n",
    "    \n",
    "    # Method to get the length of the dataset\n",
    "    def __len__(self):\n",
    "        return len(self.annotations)\n",
    "    \n",
    "    # Method to get the item at a particular index\n",
    "    def __getitem__(self,index):\n",
    "        label = self.annotations.iloc[index,1]\n",
    "        image_name = self.annotations.iloc[index,2]\n",
    "        image = plt.imread(f'{self.path_prefix}/{label}/{image_name}')\n",
    "\n",
    "        # Throwing image through pipeline if it exists\n",
    "        if self.transformation_pipeline:\n",
    "            transformed_image = self.transformation_pipeline(image.copy()).squeeze(0)\n",
    "            return transformed_image, self.label_to_int_dict[label]\n",
    "        else:\n",
    "            return image, self.label_to_int_dict[label]"
   ]
  },
  {
   "cell_type": "code",
   "execution_count": 3,
   "id": "9fae4526",
   "metadata": {
    "execution": {
     "iopub.execute_input": "2024-09-03T23:37:53.416612Z",
     "iopub.status.busy": "2024-09-03T23:37:53.416310Z",
     "iopub.status.idle": "2024-09-03T23:37:53.422582Z",
     "shell.execute_reply": "2024-09-03T23:37:53.421696Z"
    },
    "papermill": {
     "duration": 0.012374,
     "end_time": "2024-09-03T23:37:53.424567",
     "exception": false,
     "start_time": "2024-09-03T23:37:53.412193",
     "status": "completed"
    },
    "tags": []
   },
   "outputs": [],
   "source": [
    "# Function to calculate the metrics\n",
    "def calculate_metrics(model_id,model_name,training_targets,training_predictions,val_targets,val_predictions):\n",
    "\n",
    "    # Getting the metrics\n",
    "    train_CE_loss = log_loss(training_targets,training_predictions)\n",
    "    validation_CE_loss = log_loss(val_targets,val_predictions)\n",
    "\n",
    "    # Getting the accuracy\n",
    "    train_class_preds = np.array(training_predictions).argmax(axis=1)\n",
    "    valid_class_preds = np.array(val_predictions).argmax(axis=1)\n",
    "    train_acc = accuracy_score(training_targets,train_class_preds)\n",
    "    valid_acc = accuracy_score(val_targets,valid_class_preds)\n",
    "\n",
    "    return {'model_id':model_id,'model_name':model_name,'train_CE_loss':train_CE_loss,\n",
    "            'train_acc':train_acc,'validation_CE_loss':validation_CE_loss,'validation_acc':valid_acc}"
   ]
  },
  {
   "cell_type": "markdown",
   "id": "b412f4c7",
   "metadata": {
    "papermill": {
     "duration": 0.003261,
     "end_time": "2024-09-03T23:37:53.431327",
     "exception": false,
     "start_time": "2024-09-03T23:37:53.428066",
     "status": "completed"
    },
    "tags": []
   },
   "source": [
    "## Model Building & Training"
   ]
  },
  {
   "cell_type": "code",
   "execution_count": 4,
   "id": "446c22d9",
   "metadata": {
    "execution": {
     "iopub.execute_input": "2024-09-03T23:37:53.439134Z",
     "iopub.status.busy": "2024-09-03T23:37:53.438843Z",
     "iopub.status.idle": "2024-09-03T23:37:53.492869Z",
     "shell.execute_reply": "2024-09-03T23:37:53.492119Z"
    },
    "papermill": {
     "duration": 0.060171,
     "end_time": "2024-09-03T23:37:53.494870",
     "exception": false,
     "start_time": "2024-09-03T23:37:53.434699",
     "status": "completed"
    },
    "tags": []
   },
   "outputs": [],
   "source": [
    "# Getting the data\n",
    "training_path = '/kaggle/input/statefarmdd/training.csv'\n",
    "validation_path = '/kaggle/input/statefarmdd/validation.csv'\n",
    "\n",
    "# Creating the Datasets\n",
    "transformation_pipeline = v2.Compose([\n",
    "    v2.Resize(256),\n",
    "    v2.CenterCrop(224),\n",
    "    v2.ToImage(), \n",
    "    v2.ToDtype(torch.float32, scale=True),\n",
    "    v2.Normalize(mean=[0.485, 0.456, 0.406], std=[0.229, 0.224, 0.225]),\n",
    "])\n",
    "train_dataset = StateFarmDD(training_path, path_prefix='/kaggle/input/state-farm-distracted-driver-detection/imgs/train',transform_pipeline=transformation_pipeline)\n",
    "valid_dataset = StateFarmDD(validation_path, path_prefix='/kaggle/input/state-farm-distracted-driver-detection/imgs/train',transform_pipeline=transformation_pipeline)\n",
    "train_loader = DataLoader(train_dataset, batch_size=40, shuffle=True)\n",
    "valid_loader = DataLoader(valid_dataset, batch_size=40, shuffle=True)"
   ]
  },
  {
   "cell_type": "code",
   "execution_count": 5,
   "id": "66c9c329",
   "metadata": {
    "execution": {
     "iopub.execute_input": "2024-09-03T23:37:53.503255Z",
     "iopub.status.busy": "2024-09-03T23:37:53.502982Z",
     "iopub.status.idle": "2024-09-04T01:18:37.284489Z",
     "shell.execute_reply": "2024-09-04T01:18:37.283496Z"
    },
    "papermill": {
     "duration": 6043.794823,
     "end_time": "2024-09-04T01:18:37.293363",
     "exception": false,
     "start_time": "2024-09-03T23:37:53.498540",
     "status": "completed"
    },
    "tags": []
   },
   "outputs": [
    {
     "name": "stderr",
     "output_type": "stream",
     "text": [
      "Downloading: \"https://download.pytorch.org/models/vgg11-8a719046.pth\" to /root/.cache/torch/hub/checkpoints/vgg11-8a719046.pth\n",
      "100%|██████████| 507M/507M [00:02<00:00, 216MB/s]\n"
     ]
    },
    {
     "name": "stdout",
     "output_type": "stream",
     "text": [
      "-----------------------------------\n",
      "Epoch 0\n",
      "Training Loss: 1.6642\n",
      "Validation Loss: 2.0044\n",
      "Training Accuracy: 48.4966%\n",
      "Validation Accuracy: 27.1913%\n",
      "\n",
      "Best Validation Loss: 2.0044\n",
      "Best Epoch: 0\n",
      "-----------------------------------\n",
      "\n",
      "-----------------------------------\n",
      "Epoch 1\n",
      "Training Loss: 1.0942\n",
      "Validation Loss: 1.8532\n",
      "Training Accuracy: 69.4822%\n",
      "Validation Accuracy: 34.2772%\n",
      "\n",
      "Best Validation Loss: 1.8532\n",
      "Best Epoch: 1\n",
      "-----------------------------------\n",
      "\n",
      "-----------------------------------\n",
      "Epoch 2\n",
      "Training Loss: 0.9065\n",
      "Validation Loss: 1.8606\n",
      "Training Accuracy: 74.0861%\n",
      "Validation Accuracy: 36.2412%\n",
      "\n",
      "Best Validation Loss: 1.8532\n",
      "Best Epoch: 1\n",
      "-----------------------------------\n",
      "\n",
      "-----------------------------------\n",
      "Epoch 3\n",
      "Training Loss: 0.8077\n",
      "Validation Loss: 1.9228\n",
      "Training Accuracy: 75.7829%\n",
      "Validation Accuracy: 35.2419%\n",
      "\n",
      "Best Validation Loss: 1.8532\n",
      "Best Epoch: 1\n",
      "-----------------------------------\n",
      "\n",
      "-----------------------------------\n",
      "Epoch 4\n",
      "Training Loss: 0.7433\n",
      "Validation Loss: 1.9068\n",
      "Training Accuracy: 76.8309%\n",
      "Validation Accuracy: 34.9573%\n",
      "\n",
      "Best Validation Loss: 1.8532\n",
      "Best Epoch: 1\n",
      "-----------------------------------\n",
      "\n",
      "-----------------------------------\n",
      "Epoch 5\n",
      "Training Loss: 0.6983\n",
      "Validation Loss: 1.8683\n",
      "Training Accuracy: 78.1659%\n",
      "Validation Accuracy: 36.8936%\n",
      "\n",
      "Best Validation Loss: 1.8532\n",
      "Best Epoch: 1\n",
      "-----------------------------------\n",
      "\n",
      "-----------------------------------\n",
      "Epoch 6\n",
      "Training Loss: 0.6638\n",
      "Validation Loss: 1.8152\n",
      "Training Accuracy: 79.4011%\n",
      "Validation Accuracy: 38.24%\n",
      "\n",
      "Best Validation Loss: 1.8152\n",
      "Best Epoch: 6\n",
      "-----------------------------------\n",
      "\n",
      "-----------------------------------\n",
      "Epoch 7\n",
      "Training Loss: 0.6432\n",
      "Validation Loss: 1.9439\n",
      "Training Accuracy: 79.7879%\n",
      "Validation Accuracy: 35.0614%\n",
      "\n",
      "Best Validation Loss: 1.8152\n",
      "Best Epoch: 6\n",
      "-----------------------------------\n",
      "\n",
      "-----------------------------------\n",
      "Epoch 8\n",
      "Training Loss: 0.6067\n",
      "Validation Loss: 1.8684\n",
      "Training Accuracy: 80.7985%\n",
      "Validation Accuracy: 38.2053%\n",
      "\n",
      "Best Validation Loss: 1.8152\n",
      "Best Epoch: 6\n",
      "-----------------------------------\n",
      "\n",
      "-----------------------------------\n",
      "Epoch 9\n",
      "Training Loss: 0.6019\n",
      "Validation Loss: 1.8638\n",
      "Training Accuracy: 80.3993%\n",
      "Validation Accuracy: 38.9756%\n",
      "\n",
      "Best Validation Loss: 1.8152\n",
      "Best Epoch: 6\n",
      "-----------------------------------\n",
      "\n",
      "-----------------------------------\n",
      "Epoch 10\n",
      "Training Loss: 0.5814\n",
      "Validation Loss: 1.9532\n",
      "Training Accuracy: 81.2102%\n",
      "Validation Accuracy: 36.158%\n",
      "\n",
      "Best Validation Loss: 1.8152\n",
      "Best Epoch: 6\n",
      "-----------------------------------\n",
      "\n",
      "Stopping training due to early stopping!!!\n"
     ]
    }
   ],
   "source": [
    "# Defining the model\n",
    "model = vgg11(weights='DEFAULT')\n",
    "for param in model.parameters():\n",
    "    param.requires_grad = False\n",
    "model.classifier[6] = nn.Linear(model.classifier[6].in_features, 10)\n",
    "\n",
    "# Training the model\n",
    "device = torch.device(\"cuda\" if torch.cuda.is_available() else \"cpu\")\n",
    "model.to(device)\n",
    "loss_fn = torch.nn.CrossEntropyLoss(reduction='sum').to(device)\n",
    "optimizer = torch.optim.Adam(model.classifier[6].parameters(), lr=0.001)\n",
    "training_history_loss = []\n",
    "validation_history_loss = []\n",
    "train_history_accuracy = []\n",
    "valid_history_accuracy = []\n",
    "epochs = 100\n",
    "current_count = 0\n",
    "early_stopping_threshold = 1e-4\n",
    "early_stopping_count = 5\n",
    "best_val_loss = float('inf')\n",
    "best_epoch = -1\n",
    "\n",
    "# Training the model\n",
    "for epoch in range(epochs):\n",
    "    model.train()\n",
    "    train_loss = 0\n",
    "    valid_loss = 0\n",
    "    train_accuracy = 0\n",
    "    valid_accuracy = 0\n",
    "    for X_batch, y_batch in train_loader:\n",
    "        X_batch, y_batch = X_batch.to(device), y_batch.to(device)\n",
    "        y_pred = model(X_batch)\n",
    "        loss = loss_fn(y_pred, y_batch)\n",
    "        train_loss += loss.item()\n",
    "        optimizer.zero_grad()\n",
    "        loss.backward()\n",
    "        optimizer.step()\n",
    "\n",
    "        # Computing the accuracy\n",
    "        y_pred_labels = torch.argmax(y_pred, dim=1)\n",
    "        train_accuracy += torch.sum(y_pred_labels == y_batch).item()\n",
    "\n",
    "    model.eval()\n",
    "    with torch.no_grad():\n",
    "        for X_batch, y_batch in valid_loader:\n",
    "            X_batch, y_batch = X_batch.to(device), y_batch.to(device)\n",
    "            y_pred = model(X_batch)\n",
    "            loss = loss_fn(y_pred, y_batch)\n",
    "            valid_loss += loss.item()\n",
    "\n",
    "            # Computing the accuracy\n",
    "            y_pred_labels = torch.argmax(y_pred, dim=1)\n",
    "            valid_accuracy += torch.sum(y_pred_labels == y_batch).item()\n",
    "    \n",
    "    train_loss /= len(train_loader.dataset)\n",
    "    valid_loss /= len(valid_loader.dataset)\n",
    "    train_accuracy /= len(train_loader.dataset)\n",
    "    valid_accuracy /= len(valid_loader.dataset)\n",
    "    training_history_loss.append(train_loss)\n",
    "    validation_history_loss.append(valid_loss)\n",
    "    train_history_accuracy.append(train_accuracy)\n",
    "    valid_history_accuracy.append(valid_accuracy)\n",
    "    \n",
    "    # Early stopping\n",
    "    if epoch > 0:\n",
    "        if validation_history_loss[-1] - best_val_loss > early_stopping_threshold:\n",
    "            current_count += 1\n",
    "        else:\n",
    "            best_val_loss = validation_history_loss[-1]\n",
    "            best_epoch = epoch\n",
    "            current_count = 0\n",
    "    else:\n",
    "        best_val_loss = validation_history_loss[-1]\n",
    "        best_epoch = epoch\n",
    "        \n",
    "    if current_count == early_stopping_count:\n",
    "        print('Stopping training due to early stopping!!!')\n",
    "        break\n",
    "    elif current_count == 0:\n",
    "        # Saving the best model\n",
    "        model.to('cpu')\n",
    "        torch.save(model.state_dict(), 'vgg11_last_layer.pth')\n",
    "        model.to(device)\n",
    "    print('-----------------------------------')\n",
    "    print(f'Epoch {epoch}')\n",
    "    print(f'Training Loss: {round(train_loss,4)}')\n",
    "    print(f'Validation Loss: {round(valid_loss,4)}')\n",
    "    print(f'Training Accuracy: {round(train_accuracy*100,4)}%')\n",
    "    print(f'Validation Accuracy: {round(valid_accuracy*100,4)}%')\n",
    "    print()\n",
    "    print(f'Best Validation Loss: {round(best_val_loss,4)}')\n",
    "    print(f'Best Epoch: {best_epoch}')\n",
    "    print('-----------------------------------')\n",
    "    print()"
   ]
  },
  {
   "cell_type": "code",
   "execution_count": 6,
   "id": "25077c2c",
   "metadata": {
    "execution": {
     "iopub.execute_input": "2024-09-04T01:18:37.308442Z",
     "iopub.status.busy": "2024-09-04T01:18:37.307672Z",
     "iopub.status.idle": "2024-09-04T01:18:37.813791Z",
     "shell.execute_reply": "2024-09-04T01:18:37.812397Z"
    },
    "papermill": {
     "duration": 0.516747,
     "end_time": "2024-09-04T01:18:37.816753",
     "exception": false,
     "start_time": "2024-09-04T01:18:37.300006",
     "status": "completed"
    },
    "tags": []
   },
   "outputs": [],
   "source": [
    "# Saving Plots for the training and validation loss\n",
    "plt.figure(figsize=(10, 6))\n",
    "plt.plot(training_history_loss, label='Training Loss')\n",
    "plt.plot(validation_history_loss, label='Validation Loss')\n",
    "plt.legend()\n",
    "plt.xlabel('Epochs')\n",
    "plt.ylabel('Loss')\n",
    "plt.title('Training and Validation Loss')\n",
    "plt.savefig('vgg11_last_layer_loss.png')\n",
    "plt.close()\n",
    "\n",
    "# Saving plot for the training and validation accuracy \n",
    "plt.figure(figsize=(10, 6))\n",
    "plt.plot(train_history_accuracy, label='Training Accuracy')\n",
    "plt.plot(valid_history_accuracy, label='Validation Accuracy')\n",
    "plt.legend()\n",
    "plt.xlabel('Epochs')\n",
    "plt.ylabel('Accuracy')\n",
    "plt.title('Training and Validation Accuracy')\n",
    "plt.savefig('vgg11_last_layer_accuracy.png')\n",
    "plt.close()"
   ]
  },
  {
   "cell_type": "code",
   "execution_count": 7,
   "id": "d607b149",
   "metadata": {
    "execution": {
     "iopub.execute_input": "2024-09-04T01:18:37.835430Z",
     "iopub.status.busy": "2024-09-04T01:18:37.835037Z",
     "iopub.status.idle": "2024-09-04T01:18:38.252540Z",
     "shell.execute_reply": "2024-09-04T01:18:38.251591Z"
    },
    "papermill": {
     "duration": 0.42809,
     "end_time": "2024-09-04T01:18:38.254756",
     "exception": false,
     "start_time": "2024-09-04T01:18:37.826666",
     "status": "completed"
    },
    "tags": []
   },
   "outputs": [
    {
     "name": "stderr",
     "output_type": "stream",
     "text": [
      "/tmp/ipykernel_24/3881759245.py:2: FutureWarning: You are using `torch.load` with `weights_only=False` (the current default value), which uses the default pickle module implicitly. It is possible to construct malicious pickle data which will execute arbitrary code during unpickling (See https://github.com/pytorch/pytorch/blob/main/SECURITY.md#untrusted-models for more details). In a future release, the default value for `weights_only` will be flipped to `True`. This limits the functions that could be executed during unpickling. Arbitrary objects will no longer be allowed to be loaded via this mode unless they are explicitly allowlisted by the user via `torch.serialization.add_safe_globals`. We recommend you start setting `weights_only=True` for any use case where you don't have full control of the loaded file. Please open an issue on GitHub for any issues related to this experimental feature.\n",
      "  model.load_state_dict(torch.load('vgg11_last_layer.pth')) # loading the best model\n"
     ]
    }
   ],
   "source": [
    "# Making the predictions for the training & validation for metric logging\n",
    "model.load_state_dict(torch.load('vgg11_last_layer.pth')) # loading the best model\n",
    "model.eval()\n",
    "model.to(device)\n",
    "train_pred = []\n",
    "valid_pred = []\n",
    "train_truth = []\n",
    "valid_truth = []"
   ]
  },
  {
   "cell_type": "code",
   "execution_count": 8,
   "id": "1c4169b1",
   "metadata": {
    "execution": {
     "iopub.execute_input": "2024-09-04T01:18:38.270262Z",
     "iopub.status.busy": "2024-09-04T01:18:38.269494Z",
     "iopub.status.idle": "2024-09-04T01:27:04.068096Z",
     "shell.execute_reply": "2024-09-04T01:27:04.067051Z"
    },
    "papermill": {
     "duration": 505.817046,
     "end_time": "2024-09-04T01:27:04.078812",
     "exception": false,
     "start_time": "2024-09-04T01:18:38.261766",
     "status": "completed"
    },
    "tags": []
   },
   "outputs": [
    {
     "name": "stdout",
     "output_type": "stream",
     "text": [
      "{'model_id': '13', 'model_name': 'VGG-11-Last-Layer', 'train_CE_loss': 0.3429852307510807, 'train_acc': 0.9589519650655022, 'validation_CE_loss': 1.81518135805835, 'validation_acc': 0.38239988895828997}\n"
     ]
    }
   ],
   "source": [
    "# Running through data loaders to store the predictions\n",
    "with torch.no_grad():\n",
    "    for X_batch, y_batch in train_loader:\n",
    "        X_batch = X_batch.to(device)\n",
    "        y_pred = torch.nn.functional.softmax(model(X_batch),dim=1)\n",
    "        train_pred.extend(y_pred.detach().cpu().numpy())\n",
    "        train_truth.extend(y_batch.numpy())\n",
    "\n",
    "    for X_batch, y_batch in valid_loader:\n",
    "        X_batch = X_batch.to(device)\n",
    "        y_pred = torch.nn.functional.softmax(model(X_batch),dim=1)\n",
    "        valid_pred.extend(y_pred.detach().cpu().numpy())\n",
    "        valid_truth.extend(y_batch.numpy())\n",
    "\n",
    "# Printing out the metrics \n",
    "metrics = calculate_metrics('13',\"VGG-11-Last-Layer\",train_truth,np.array(train_pred),valid_truth,np.array(valid_pred))\n",
    "print(metrics)"
   ]
  }
 ],
 "metadata": {
  "kaggle": {
   "accelerator": "nvidiaTeslaT4",
   "dataSources": [
    {
     "databundleVersionId": 868335,
     "sourceId": 5048,
     "sourceType": "competition"
    },
    {
     "datasetId": 5613929,
     "sourceId": 9275719,
     "sourceType": "datasetVersion"
    }
   ],
   "dockerImageVersionId": 30762,
   "isGpuEnabled": true,
   "isInternetEnabled": true,
   "language": "python",
   "sourceType": "notebook"
  },
  "kernelspec": {
   "display_name": "Python 3",
   "language": "python",
   "name": "python3"
  },
  "language_info": {
   "codemirror_mode": {
    "name": "ipython",
    "version": 3
   },
   "file_extension": ".py",
   "mimetype": "text/x-python",
   "name": "python",
   "nbconvert_exporter": "python",
   "pygments_lexer": "ipython3",
   "version": "3.10.14"
  },
  "papermill": {
   "default_parameters": {},
   "duration": 6564.258278,
   "end_time": "2024-09-04T01:27:06.568125",
   "environment_variables": {},
   "exception": null,
   "input_path": "__notebook__.ipynb",
   "output_path": "__notebook__.ipynb",
   "parameters": {},
   "start_time": "2024-09-03T23:37:42.309847",
   "version": "2.6.0"
  }
 },
 "nbformat": 4,
 "nbformat_minor": 5
}
