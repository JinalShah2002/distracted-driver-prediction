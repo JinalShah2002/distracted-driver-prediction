{
 "cells": [
  {
   "cell_type": "markdown",
   "id": "9c358a31",
   "metadata": {
    "_cell_guid": "b1076dfc-b9ad-4769-8c92-a6c4dae69d19",
    "_uuid": "8f2839f25d086af736a60e9eeb907d3b93b6e0e5",
    "papermill": {
     "duration": 0.003919,
     "end_time": "2024-09-10T16:21:15.429168",
     "exception": false,
     "start_time": "2024-09-10T16:21:15.425249",
     "status": "completed"
    },
    "tags": []
   },
   "source": [
    "# CNN_6\n",
    "\n",
    "In the notebook, I train the same model as CNN_3, but I add data augmentation. Specifically, I add random Gaussian noise to each image to double the training set from around 8k examples to 16k examples. "
   ]
  },
  {
   "cell_type": "code",
   "execution_count": 1,
   "id": "2a33c9a5",
   "metadata": {
    "execution": {
     "iopub.execute_input": "2024-09-10T16:21:15.437132Z",
     "iopub.status.busy": "2024-09-10T16:21:15.436828Z",
     "iopub.status.idle": "2024-09-10T16:21:21.831704Z",
     "shell.execute_reply": "2024-09-10T16:21:21.830713Z"
    },
    "papermill": {
     "duration": 6.401377,
     "end_time": "2024-09-10T16:21:21.834056",
     "exception": false,
     "start_time": "2024-09-10T16:21:15.432679",
     "status": "completed"
    },
    "tags": []
   },
   "outputs": [],
   "source": [
    "# Imports\n",
    "import pandas as pd\n",
    "import numpy as np \n",
    "import matplotlib.pyplot as plt\n",
    "import torch\n",
    "import torch.nn as nn\n",
    "from torch.utils.data import Dataset, DataLoader\n",
    "from torchvision.transforms import v2\n",
    "from sklearn.metrics import log_loss, accuracy_score"
   ]
  },
  {
   "cell_type": "markdown",
   "id": "da9ae68a",
   "metadata": {
    "papermill": {
     "duration": 0.003266,
     "end_time": "2024-09-10T16:21:21.840951",
     "exception": false,
     "start_time": "2024-09-10T16:21:21.837685",
     "status": "completed"
    },
    "tags": []
   },
   "source": [
    "## Classes & Functions"
   ]
  },
  {
   "cell_type": "code",
   "execution_count": 2,
   "id": "cc51d209",
   "metadata": {
    "execution": {
     "iopub.execute_input": "2024-09-10T16:21:21.849124Z",
     "iopub.status.busy": "2024-09-10T16:21:21.848688Z",
     "iopub.status.idle": "2024-09-10T16:21:21.857313Z",
     "shell.execute_reply": "2024-09-10T16:21:21.856607Z"
    },
    "papermill": {
     "duration": 0.014793,
     "end_time": "2024-09-10T16:21:21.859083",
     "exception": false,
     "start_time": "2024-09-10T16:21:21.844290",
     "status": "completed"
    },
    "tags": []
   },
   "outputs": [],
   "source": [
    "class StateFarmDD(Dataset):\n",
    "    # Constructor\n",
    "    def __init__(self,annotations_path,path_prefix='../data/imgs/train',transform_pipeline=None):\n",
    "        self.annotations = pd.read_csv(annotations_path)\n",
    "        self.transformation_pipeline = transform_pipeline\n",
    "        self.path_prefix = path_prefix\n",
    "        self.label_to_int_dict = {'c0':0,'c1':1,'c2':2,'c3':3,'c4':4,'c5':5,'c6':6,'c7':7,'c8':8,'c9':9}\n",
    "    \n",
    "    # Method to get the length of the dataset\n",
    "    def __len__(self):\n",
    "        return len(self.annotations)\n",
    "    \n",
    "    # Method to get the item at a particular index\n",
    "    def __getitem__(self,index):\n",
    "        label = self.annotations.iloc[index,1]\n",
    "        image_name = self.annotations.iloc[index,2]\n",
    "        image = plt.imread(f'{self.path_prefix}/{label}/{image_name}')\n",
    "\n",
    "        # Throwing image through pipeline if it exists\n",
    "        if self.transformation_pipeline:\n",
    "            transformed_image = self.transformation_pipeline(image.copy()).squeeze(0)\n",
    "            return transformed_image, self.label_to_int_dict[label]\n",
    "        else:\n",
    "            return image, self.label_to_int_dict[label]"
   ]
  },
  {
   "cell_type": "code",
   "execution_count": 3,
   "id": "cb423011",
   "metadata": {
    "execution": {
     "iopub.execute_input": "2024-09-10T16:21:21.867001Z",
     "iopub.status.busy": "2024-09-10T16:21:21.866727Z",
     "iopub.status.idle": "2024-09-10T16:21:21.873956Z",
     "shell.execute_reply": "2024-09-10T16:21:21.873256Z"
    },
    "papermill": {
     "duration": 0.013376,
     "end_time": "2024-09-10T16:21:21.875849",
     "exception": false,
     "start_time": "2024-09-10T16:21:21.862473",
     "status": "completed"
    },
    "tags": []
   },
   "outputs": [],
   "source": [
    "# Function to calculate the metrics\n",
    "def calculate_metrics(model_id,model_name,training_targets,training_predictions,val_targets,val_predictions):\n",
    "\n",
    "    # Getting the metrics\n",
    "    train_CE_loss = log_loss(training_targets,training_predictions)\n",
    "    validation_CE_loss = log_loss(val_targets,val_predictions)\n",
    "\n",
    "    # Getting the accuracy\n",
    "    train_class_preds = np.array(training_predictions).argmax(axis=1)\n",
    "    valid_class_preds = np.array(val_predictions).argmax(axis=1)\n",
    "    train_acc = accuracy_score(training_targets,train_class_preds)\n",
    "    valid_acc = accuracy_score(val_targets,valid_class_preds)\n",
    "\n",
    "    return {'model_id':model_id,'model_name':model_name,'train_CE_loss':train_CE_loss,\n",
    "            'train_acc':train_acc,'validation_CE_loss':validation_CE_loss,'validation_acc':valid_acc}"
   ]
  },
  {
   "cell_type": "code",
   "execution_count": 4,
   "id": "b63c39cf",
   "metadata": {
    "execution": {
     "iopub.execute_input": "2024-09-10T16:21:21.883836Z",
     "iopub.status.busy": "2024-09-10T16:21:21.883543Z",
     "iopub.status.idle": "2024-09-10T16:21:21.887485Z",
     "shell.execute_reply": "2024-09-10T16:21:21.886711Z"
    },
    "papermill": {
     "duration": 0.010062,
     "end_time": "2024-09-10T16:21:21.889378",
     "exception": false,
     "start_time": "2024-09-10T16:21:21.879316",
     "status": "completed"
    },
    "tags": []
   },
   "outputs": [],
   "source": [
    "# Function to add Gaussian Noise to inputted image(s)\n",
    "def add_gaussian_noise(images):\n",
    "    noise = torch.rand_like(images)\n",
    "    return images + noise"
   ]
  },
  {
   "cell_type": "markdown",
   "id": "abb4ce59",
   "metadata": {
    "papermill": {
     "duration": 0.003369,
     "end_time": "2024-09-10T16:21:21.896298",
     "exception": false,
     "start_time": "2024-09-10T16:21:21.892929",
     "status": "completed"
    },
    "tags": []
   },
   "source": [
    "## Model Building & Training"
   ]
  },
  {
   "cell_type": "code",
   "execution_count": 5,
   "id": "e42f9b0f",
   "metadata": {
    "execution": {
     "iopub.execute_input": "2024-09-10T16:21:21.904386Z",
     "iopub.status.busy": "2024-09-10T16:21:21.904105Z",
     "iopub.status.idle": "2024-09-10T16:21:21.960939Z",
     "shell.execute_reply": "2024-09-10T16:21:21.960218Z"
    },
    "papermill": {
     "duration": 0.063235,
     "end_time": "2024-09-10T16:21:21.963062",
     "exception": false,
     "start_time": "2024-09-10T16:21:21.899827",
     "status": "completed"
    },
    "tags": []
   },
   "outputs": [],
   "source": [
    "# Getting the data\n",
    "training_path = '/kaggle/input/statefarmdd/training.csv'\n",
    "validation_path = '/kaggle/input/statefarmdd/validation.csv'\n",
    "\n",
    "# Creating the Datasets\n",
    "transformation_pipeline = v2.Compose([\n",
    "        v2.ToImage(),\n",
    "        v2.Resize([128,128]),\n",
    "        v2.ToDtype(torch.float32, scale=True),\n",
    "])\n",
    "train_dataset = StateFarmDD(training_path, path_prefix='/kaggle/input/state-farm-distracted-driver-detection/imgs/train',transform_pipeline=transformation_pipeline)\n",
    "valid_dataset = StateFarmDD(validation_path, path_prefix='/kaggle/input/state-farm-distracted-driver-detection/imgs/train',transform_pipeline=transformation_pipeline)\n",
    "train_loader = DataLoader(train_dataset, batch_size=20, shuffle=True)\n",
    "valid_loader = DataLoader(valid_dataset, batch_size=20, shuffle=True)"
   ]
  },
  {
   "cell_type": "code",
   "execution_count": 6,
   "id": "ef166b9d",
   "metadata": {
    "execution": {
     "iopub.execute_input": "2024-09-10T16:21:21.971677Z",
     "iopub.status.busy": "2024-09-10T16:21:21.971350Z",
     "iopub.status.idle": "2024-09-10T17:10:42.117460Z",
     "shell.execute_reply": "2024-09-10T17:10:42.116412Z"
    },
    "papermill": {
     "duration": 2960.158204,
     "end_time": "2024-09-10T17:10:42.124961",
     "exception": false,
     "start_time": "2024-09-10T16:21:21.966757",
     "status": "completed"
    },
    "tags": []
   },
   "outputs": [
    {
     "name": "stdout",
     "output_type": "stream",
     "text": [
      "-----------------------------------\n",
      "Epoch 0\n",
      "Training Loss: 3.2911\n",
      "Validation Loss: 4.1156\n",
      "Training Accuracy: 12.2707%\n",
      "Validation Accuracy: 12.2007%\n",
      "\n",
      "Best Validation Loss: 4.1156\n",
      "Best Epoch: 0\n",
      "-----------------------------------\n",
      "\n",
      "-----------------------------------\n",
      "Epoch 1\n",
      "Training Loss: 1.5963\n",
      "Validation Loss: 2.596\n",
      "Training Accuracy: 50.6987%\n",
      "Validation Accuracy: 18.4399%\n",
      "\n",
      "Best Validation Loss: 2.596\n",
      "Best Epoch: 1\n",
      "-----------------------------------\n",
      "\n",
      "-----------------------------------\n",
      "Epoch 2\n",
      "Training Loss: 0.9629\n",
      "Validation Loss: 1.9356\n",
      "Training Accuracy: 67.1429%\n",
      "Validation Accuracy: 37.7472%\n",
      "\n",
      "Best Validation Loss: 1.9356\n",
      "Best Epoch: 2\n",
      "-----------------------------------\n",
      "\n",
      "-----------------------------------\n",
      "Epoch 3\n",
      "Training Loss: 0.8885\n",
      "Validation Loss: 1.8102\n",
      "Training Accuracy: 71.3537%\n",
      "Validation Accuracy: 39.6072%\n",
      "\n",
      "Best Validation Loss: 1.8102\n",
      "Best Epoch: 3\n",
      "-----------------------------------\n",
      "\n",
      "-----------------------------------\n",
      "Epoch 4\n",
      "Training Loss: 0.8847\n",
      "Validation Loss: 1.7717\n",
      "Training Accuracy: 72.2271%\n",
      "Validation Accuracy: 41.0369%\n",
      "\n",
      "Best Validation Loss: 1.7717\n",
      "Best Epoch: 4\n",
      "-----------------------------------\n",
      "\n",
      "-----------------------------------\n",
      "Epoch 5\n",
      "Training Loss: 0.8583\n",
      "Validation Loss: 1.7511\n",
      "Training Accuracy: 73.6057%\n",
      "Validation Accuracy: 38.6078%\n",
      "\n",
      "Best Validation Loss: 1.7511\n",
      "Best Epoch: 5\n",
      "-----------------------------------\n",
      "\n",
      "-----------------------------------\n",
      "Epoch 6\n",
      "Training Loss: 0.7851\n",
      "Validation Loss: 1.6604\n",
      "Training Accuracy: 76.4566%\n",
      "Validation Accuracy: 44.4791%\n",
      "\n",
      "Best Validation Loss: 1.6604\n",
      "Best Epoch: 6\n",
      "-----------------------------------\n",
      "\n",
      "-----------------------------------\n",
      "Epoch 7\n",
      "Training Loss: 0.7626\n",
      "Validation Loss: 1.6906\n",
      "Training Accuracy: 77.3238%\n",
      "Validation Accuracy: 40.3081%\n",
      "\n",
      "Best Validation Loss: 1.6604\n",
      "Best Epoch: 6\n",
      "-----------------------------------\n",
      "\n",
      "-----------------------------------\n",
      "Epoch 8\n",
      "Training Loss: 0.6946\n",
      "Validation Loss: 1.6007\n",
      "Training Accuracy: 80.0187%\n",
      "Validation Accuracy: 50.864%\n",
      "\n",
      "Best Validation Loss: 1.6007\n",
      "Best Epoch: 8\n",
      "-----------------------------------\n",
      "\n",
      "-----------------------------------\n",
      "Epoch 9\n",
      "Training Loss: 0.617\n",
      "Validation Loss: 1.6198\n",
      "Training Accuracy: 83.5309%\n",
      "Validation Accuracy: 47.3801%\n",
      "\n",
      "Best Validation Loss: 1.6007\n",
      "Best Epoch: 8\n",
      "-----------------------------------\n",
      "\n",
      "-----------------------------------\n",
      "Epoch 10\n",
      "Training Loss: 0.5735\n",
      "Validation Loss: 1.5933\n",
      "Training Accuracy: 85.078%\n",
      "Validation Accuracy: 44.8262%\n",
      "\n",
      "Best Validation Loss: 1.5933\n",
      "Best Epoch: 10\n",
      "-----------------------------------\n",
      "\n",
      "-----------------------------------\n",
      "Epoch 11\n",
      "Training Loss: 0.5456\n",
      "Validation Loss: 1.6659\n",
      "Training Accuracy: 85.995%\n",
      "Validation Accuracy: 45.5687%\n",
      "\n",
      "Best Validation Loss: 1.5933\n",
      "Best Epoch: 10\n",
      "-----------------------------------\n",
      "\n",
      "-----------------------------------\n",
      "Epoch 12\n",
      "Training Loss: 0.5267\n",
      "Validation Loss: 1.9275\n",
      "Training Accuracy: 86.9931%\n",
      "Validation Accuracy: 40.211%\n",
      "\n",
      "Best Validation Loss: 1.5933\n",
      "Best Epoch: 10\n",
      "-----------------------------------\n",
      "\n",
      "-----------------------------------\n",
      "Epoch 13\n",
      "Training Loss: 0.5204\n",
      "Validation Loss: 1.6571\n",
      "Training Accuracy: 87.3425%\n",
      "Validation Accuracy: 44.6249%\n",
      "\n",
      "Best Validation Loss: 1.5933\n",
      "Best Epoch: 10\n",
      "-----------------------------------\n",
      "\n",
      "-----------------------------------\n",
      "Epoch 14\n",
      "Training Loss: 0.5167\n",
      "Validation Loss: 1.7534\n",
      "Training Accuracy: 87.4423%\n",
      "Validation Accuracy: 43.6949%\n",
      "\n",
      "Best Validation Loss: 1.5933\n",
      "Best Epoch: 10\n",
      "-----------------------------------\n",
      "\n",
      "Stopping training due to early stopping!!!\n"
     ]
    }
   ],
   "source": [
    "# Defining the model\n",
    "model = nn.Sequential(\n",
    "    nn.Conv2d(3,64,kernel_size=3,stride=1,padding=1),\n",
    "    nn.ReLU(),\n",
    "    nn.MaxPool2d(kernel_size=2,stride=2),\n",
    "    nn.BatchNorm2d(64),\n",
    "    nn.Conv2d(64,128,kernel_size=3,stride=1,padding=1),\n",
    "    nn.ReLU(),\n",
    "    nn.MaxPool2d(kernel_size=2,stride=2),\n",
    "    nn.BatchNorm2d(128),\n",
    "    nn.Dropout(p=0.5),\n",
    "    nn.Conv2d(128,256,kernel_size=3,stride=1,padding=1),\n",
    "    nn.ReLU(),\n",
    "    nn.BatchNorm2d(256),\n",
    "    nn.Conv2d(256,512,kernel_size=3,stride=1,padding=1),\n",
    "    nn.ReLU(),\n",
    "    nn.MaxPool2d(kernel_size=2,stride=2),\n",
    "    nn.BatchNorm2d(512),\n",
    "    nn.Dropout(p=0.5),\n",
    "    nn.Flatten(),\n",
    "    nn.Linear(131072,500),\n",
    "    nn.ReLU(),\n",
    "    nn.Dropout(p=0.5),\n",
    "    nn.Linear(500,10)\n",
    ")\n",
    "\n",
    "# Training the model\n",
    "device = torch.device(\"cuda\" if torch.cuda.is_available() else \"cpu\")\n",
    "model.to(device)\n",
    "loss_fn = torch.nn.CrossEntropyLoss(reduction='sum').to(device)\n",
    "optimizer = torch.optim.Adam(model.parameters(), lr=0.001, weight_decay=5)\n",
    "training_history_loss = []\n",
    "validation_history_loss = []\n",
    "train_history_accuracy = []\n",
    "valid_history_accuracy = []\n",
    "epochs = 25\n",
    "current_count = 0\n",
    "early_stopping_threshold = 1e-4\n",
    "early_stopping_count = 5\n",
    "best_val_loss = float('inf')\n",
    "best_epoch = -1\n",
    "\n",
    "# Training the model\n",
    "for epoch in range(epochs):\n",
    "    model.train()\n",
    "    train_loss = 0\n",
    "    valid_loss = 0\n",
    "    train_accuracy = 0\n",
    "    valid_accuracy = 0\n",
    "    for X_batch, y_batch in train_loader:\n",
    "        X_batch, y_batch = X_batch.to(device), y_batch.to(device)\n",
    "        \n",
    "        # Get the noisy examples\n",
    "        X_noisy = add_gaussian_noise(X_batch)\n",
    "        \n",
    "        # Concatenating everything\n",
    "        X_final = torch.cat([X_batch, X_noisy], dim=0)\n",
    "        y_final = torch.cat([y_batch,y_batch],dim=0)\n",
    "\n",
    "        y_pred = model(X_final)\n",
    "        loss = loss_fn(y_pred, y_final)\n",
    "        train_loss += loss.item()\n",
    "        optimizer.zero_grad()\n",
    "        loss.backward()\n",
    "        optimizer.step()\n",
    "\n",
    "        # Computing the accuracy\n",
    "        y_pred_labels = torch.argmax(y_pred, dim=1)\n",
    "        train_accuracy += torch.sum(y_pred_labels == y_final).item()\n",
    "\n",
    "    model.eval()\n",
    "    with torch.no_grad():\n",
    "        for X_batch, y_batch in valid_loader:\n",
    "            X_batch, y_batch = X_batch.to(device), y_batch.to(device)\n",
    "            y_pred = model(X_batch)\n",
    "            loss = loss_fn(y_pred, y_batch)\n",
    "            valid_loss += loss.item()\n",
    "\n",
    "            # Computing the accuracy\n",
    "            y_pred_labels = torch.argmax(y_pred, dim=1)\n",
    "            valid_accuracy += torch.sum(y_pred_labels == y_batch).item()\n",
    "    \n",
    "    train_loss /= (len(train_loader.dataset) * 2)\n",
    "    valid_loss /= len(valid_loader.dataset)\n",
    "    train_accuracy /= (len(train_loader.dataset) * 2)\n",
    "    valid_accuracy /= len(valid_loader.dataset)\n",
    "    training_history_loss.append(train_loss)\n",
    "    validation_history_loss.append(valid_loss)\n",
    "    train_history_accuracy.append(train_accuracy)\n",
    "    valid_history_accuracy.append(valid_accuracy)\n",
    "    \n",
    "    # Early stopping\n",
    "    if epoch > 0:\n",
    "        if validation_history_loss[-1] - best_val_loss > early_stopping_threshold:\n",
    "            current_count += 1\n",
    "        else:\n",
    "            best_val_loss = validation_history_loss[-1]\n",
    "            best_epoch = epoch\n",
    "            current_count = 0\n",
    "    else:\n",
    "        best_val_loss = validation_history_loss[-1]\n",
    "        best_epoch = epoch\n",
    "        \n",
    "    if current_count == early_stopping_count:\n",
    "        print('Stopping training due to early stopping!!!')\n",
    "        break\n",
    "    elif current_count == 0:\n",
    "        # Saving the best model\n",
    "        model.to('cpu')\n",
    "        torch.save(model.state_dict(), 'cnn_6.pth')\n",
    "        model.to(device)\n",
    "    print('-----------------------------------')\n",
    "    print(f'Epoch {epoch}')\n",
    "    print(f'Training Loss: {round(train_loss,4)}')\n",
    "    print(f'Validation Loss: {round(valid_loss,4)}')\n",
    "    print(f'Training Accuracy: {round(train_accuracy*100,4)}%')\n",
    "    print(f'Validation Accuracy: {round(valid_accuracy*100,4)}%')\n",
    "    print()\n",
    "    print(f'Best Validation Loss: {round(best_val_loss,4)}')\n",
    "    print(f'Best Epoch: {best_epoch}')\n",
    "    print('-----------------------------------')\n",
    "    print()"
   ]
  },
  {
   "cell_type": "code",
   "execution_count": 7,
   "id": "ca0b4600",
   "metadata": {
    "execution": {
     "iopub.execute_input": "2024-09-10T17:10:42.137068Z",
     "iopub.status.busy": "2024-09-10T17:10:42.136745Z",
     "iopub.status.idle": "2024-09-10T17:10:42.684773Z",
     "shell.execute_reply": "2024-09-10T17:10:42.683922Z"
    },
    "papermill": {
     "duration": 0.556678,
     "end_time": "2024-09-10T17:10:42.687030",
     "exception": false,
     "start_time": "2024-09-10T17:10:42.130352",
     "status": "completed"
    },
    "tags": []
   },
   "outputs": [],
   "source": [
    "# Saving Plots for the training and validation loss\n",
    "plt.figure(figsize=(10, 6))\n",
    "plt.plot(training_history_loss, label='Training Loss')\n",
    "plt.plot(validation_history_loss, label='Validation Loss')\n",
    "plt.legend()\n",
    "plt.xlabel('Epochs')\n",
    "plt.ylabel('Loss')\n",
    "plt.title('Training and Validation Loss')\n",
    "plt.savefig('cnn_6_loss.png')\n",
    "plt.close()\n",
    "\n",
    "# Saving plot for the training and validation accuracy \n",
    "plt.figure(figsize=(10, 6))\n",
    "plt.plot(train_history_accuracy, label='Training Accuracy')\n",
    "plt.plot(valid_history_accuracy, label='Validation Accuracy')\n",
    "plt.legend()\n",
    "plt.xlabel('Epochs')\n",
    "plt.ylabel('Accuracy')\n",
    "plt.title('Training and Validation Accuracy')\n",
    "plt.savefig('cnn_accuracy_6.png')\n",
    "plt.close()"
   ]
  },
  {
   "cell_type": "code",
   "execution_count": 8,
   "id": "f2075b19",
   "metadata": {
    "execution": {
     "iopub.execute_input": "2024-09-10T17:10:42.698797Z",
     "iopub.status.busy": "2024-09-10T17:10:42.698482Z",
     "iopub.status.idle": "2024-09-10T17:10:42.920123Z",
     "shell.execute_reply": "2024-09-10T17:10:42.919141Z"
    },
    "papermill": {
     "duration": 0.230052,
     "end_time": "2024-09-10T17:10:42.922350",
     "exception": false,
     "start_time": "2024-09-10T17:10:42.692298",
     "status": "completed"
    },
    "tags": []
   },
   "outputs": [
    {
     "name": "stderr",
     "output_type": "stream",
     "text": [
      "/tmp/ipykernel_24/2809165357.py:2: FutureWarning: You are using `torch.load` with `weights_only=False` (the current default value), which uses the default pickle module implicitly. It is possible to construct malicious pickle data which will execute arbitrary code during unpickling (See https://github.com/pytorch/pytorch/blob/main/SECURITY.md#untrusted-models for more details). In a future release, the default value for `weights_only` will be flipped to `True`. This limits the functions that could be executed during unpickling. Arbitrary objects will no longer be allowed to be loaded via this mode unless they are explicitly allowlisted by the user via `torch.serialization.add_safe_globals`. We recommend you start setting `weights_only=True` for any use case where you don't have full control of the loaded file. Please open an issue on GitHub for any issues related to this experimental feature.\n",
      "  model.load_state_dict(torch.load('cnn_6.pth')) # loading the best model\n"
     ]
    }
   ],
   "source": [
    "# Making the predictions for the training & validation for metric logging\n",
    "model.load_state_dict(torch.load('cnn_6.pth')) # loading the best model\n",
    "model.eval()\n",
    "model.to(device)\n",
    "train_pred = []\n",
    "valid_pred = []\n",
    "train_truth = []\n",
    "valid_truth = []"
   ]
  },
  {
   "cell_type": "code",
   "execution_count": 9,
   "id": "a635760a",
   "metadata": {
    "execution": {
     "iopub.execute_input": "2024-09-10T17:10:42.934958Z",
     "iopub.status.busy": "2024-09-10T17:10:42.934609Z",
     "iopub.status.idle": "2024-09-10T17:13:02.782460Z",
     "shell.execute_reply": "2024-09-10T17:13:02.781363Z"
    },
    "papermill": {
     "duration": 139.86293,
     "end_time": "2024-09-10T17:13:02.791014",
     "exception": false,
     "start_time": "2024-09-10T17:10:42.928084",
     "status": "completed"
    },
    "tags": []
   },
   "outputs": [
    {
     "name": "stdout",
     "output_type": "stream",
     "text": [
      "{'model_id': '20', 'model_name': 'CNN_6', 'train_CE_loss': 0.34749626240329057, 'train_acc': 0.9252651278852152, 'validation_CE_loss': 1.5933283227125608, 'validation_acc': 0.4482615032271497}\n"
     ]
    }
   ],
   "source": [
    "# Running through data loaders to store the predictions\n",
    "with torch.no_grad():\n",
    "    for X_batch, y_batch in train_loader:\n",
    "        X_batch = X_batch.to(device)\n",
    "        y_pred = torch.nn.functional.softmax(model(X_batch),dim=1)\n",
    "        train_pred.extend(y_pred.detach().cpu().numpy())\n",
    "        train_truth.extend(y_batch.numpy())\n",
    "\n",
    "    for X_batch, y_batch in valid_loader:\n",
    "        X_batch = X_batch.to(device)\n",
    "        y_pred = torch.nn.functional.softmax(model(X_batch),dim=1)\n",
    "        valid_pred.extend(y_pred.detach().cpu().numpy())\n",
    "        valid_truth.extend(y_batch.numpy())\n",
    "\n",
    "# Printing out the metrics \n",
    "metrics = calculate_metrics('20',\"CNN_6\",train_truth,np.array(train_pred),valid_truth,np.array(valid_pred))\n",
    "print(metrics)"
   ]
  }
 ],
 "metadata": {
  "kaggle": {
   "accelerator": "nvidiaTeslaT4",
   "dataSources": [
    {
     "databundleVersionId": 868335,
     "sourceId": 5048,
     "sourceType": "competition"
    },
    {
     "datasetId": 5613929,
     "sourceId": 9275719,
     "sourceType": "datasetVersion"
    }
   ],
   "dockerImageVersionId": 30762,
   "isGpuEnabled": true,
   "isInternetEnabled": true,
   "language": "python",
   "sourceType": "notebook"
  },
  "kernelspec": {
   "display_name": "Python 3",
   "language": "python",
   "name": "python3"
  },
  "language_info": {
   "codemirror_mode": {
    "name": "ipython",
    "version": 3
   },
   "file_extension": ".py",
   "mimetype": "text/x-python",
   "name": "python",
   "nbconvert_exporter": "python",
   "pygments_lexer": "ipython3",
   "version": "3.10.14"
  },
  "papermill": {
   "default_parameters": {},
   "duration": 3111.412568,
   "end_time": "2024-09-10T17:13:04.219970",
   "environment_variables": {},
   "exception": null,
   "input_path": "__notebook__.ipynb",
   "output_path": "__notebook__.ipynb",
   "parameters": {},
   "start_time": "2024-09-10T16:21:12.807402",
   "version": "2.6.0"
  }
 },
 "nbformat": 4,
 "nbformat_minor": 5
}
