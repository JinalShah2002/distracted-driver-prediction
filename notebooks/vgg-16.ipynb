{
 "cells": [
  {
   "cell_type": "markdown",
   "id": "d9312b15",
   "metadata": {
    "_cell_guid": "b1076dfc-b9ad-4769-8c92-a6c4dae69d19",
    "_uuid": "8f2839f25d086af736a60e9eeb907d3b93b6e0e5",
    "papermill": {
     "duration": 0.003752,
     "end_time": "2024-09-04T14:12:48.336875",
     "exception": false,
     "start_time": "2024-09-04T14:12:48.333123",
     "status": "completed"
    },
    "tags": []
   },
   "source": [
    "# VGG-16\n",
    "\n",
    "Papers [Are You Paying Attention? Detecting Distracted Driving in Real-Time](https://ieeexplore.ieee.org/document/8919430) and [Detection of Distracted Driver using Convolutional Neural Network](https://openaccess.thecvf.com/content_cvpr_2018_workshops/papers/w14/Baheti_Detection_of_Distracted_CVPR_2018_paper.pdf) illustrate how VGG-16 can produce high quality predictions. In this notebook, I utilize VGG-16 and train the final classification layers to see if I can get a good prediction."
   ]
  },
  {
   "cell_type": "code",
   "execution_count": 1,
   "id": "d4b1a7fb",
   "metadata": {
    "execution": {
     "iopub.execute_input": "2024-09-04T14:12:48.344807Z",
     "iopub.status.busy": "2024-09-04T14:12:48.344418Z",
     "iopub.status.idle": "2024-09-04T14:12:55.020415Z",
     "shell.execute_reply": "2024-09-04T14:12:55.019633Z"
    },
    "papermill": {
     "duration": 6.682398,
     "end_time": "2024-09-04T14:12:55.022652",
     "exception": false,
     "start_time": "2024-09-04T14:12:48.340254",
     "status": "completed"
    },
    "tags": []
   },
   "outputs": [],
   "source": [
    "# Imports\n",
    "import pandas as pd\n",
    "import numpy as np \n",
    "import matplotlib.pyplot as plt\n",
    "import torch\n",
    "import torch.nn as nn\n",
    "from torch.utils.data import Dataset, DataLoader\n",
    "from torchvision.transforms import v2\n",
    "from torchvision.models import vgg16_bn\n",
    "from sklearn.metrics import log_loss, accuracy_score"
   ]
  },
  {
   "cell_type": "markdown",
   "id": "68a187f6",
   "metadata": {
    "papermill": {
     "duration": 0.003133,
     "end_time": "2024-09-04T14:12:55.029288",
     "exception": false,
     "start_time": "2024-09-04T14:12:55.026155",
     "status": "completed"
    },
    "tags": []
   },
   "source": [
    "## Classes & Functions"
   ]
  },
  {
   "cell_type": "code",
   "execution_count": 2,
   "id": "1db9bb49",
   "metadata": {
    "execution": {
     "iopub.execute_input": "2024-09-04T14:12:55.037286Z",
     "iopub.status.busy": "2024-09-04T14:12:55.036440Z",
     "iopub.status.idle": "2024-09-04T14:12:55.044955Z",
     "shell.execute_reply": "2024-09-04T14:12:55.044109Z"
    },
    "papermill": {
     "duration": 0.014392,
     "end_time": "2024-09-04T14:12:55.046811",
     "exception": false,
     "start_time": "2024-09-04T14:12:55.032419",
     "status": "completed"
    },
    "tags": []
   },
   "outputs": [],
   "source": [
    "class StateFarmDD(Dataset):\n",
    "    # Constructor\n",
    "    def __init__(self,annotations_path,path_prefix='../data/imgs/train',transform_pipeline=None):\n",
    "        self.annotations = pd.read_csv(annotations_path)\n",
    "        self.transformation_pipeline = transform_pipeline\n",
    "        self.path_prefix = path_prefix\n",
    "        self.label_to_int_dict = {'c0':0,'c1':1,'c2':2,'c3':3,'c4':4,'c5':5,'c6':6,'c7':7,'c8':8,'c9':9}\n",
    "    \n",
    "    # Method to get the length of the dataset\n",
    "    def __len__(self):\n",
    "        return len(self.annotations)\n",
    "    \n",
    "    # Method to get the item at a particular index\n",
    "    def __getitem__(self,index):\n",
    "        label = self.annotations.iloc[index,1]\n",
    "        image_name = self.annotations.iloc[index,2]\n",
    "        image = plt.imread(f'{self.path_prefix}/{label}/{image_name}')\n",
    "\n",
    "        # Throwing image through pipeline if it exists\n",
    "        if self.transformation_pipeline:\n",
    "            transformed_image = self.transformation_pipeline(image.copy()).squeeze(0)\n",
    "            return transformed_image, self.label_to_int_dict[label]\n",
    "        else:\n",
    "            return image, self.label_to_int_dict[label]"
   ]
  },
  {
   "cell_type": "code",
   "execution_count": 3,
   "id": "5bc96acf",
   "metadata": {
    "execution": {
     "iopub.execute_input": "2024-09-04T14:12:55.054370Z",
     "iopub.status.busy": "2024-09-04T14:12:55.054077Z",
     "iopub.status.idle": "2024-09-04T14:12:55.060116Z",
     "shell.execute_reply": "2024-09-04T14:12:55.059361Z"
    },
    "papermill": {
     "duration": 0.011892,
     "end_time": "2024-09-04T14:12:55.061982",
     "exception": false,
     "start_time": "2024-09-04T14:12:55.050090",
     "status": "completed"
    },
    "tags": []
   },
   "outputs": [],
   "source": [
    "# Function to calculate the metrics\n",
    "def calculate_metrics(model_id,model_name,training_targets,training_predictions,val_targets,val_predictions):\n",
    "\n",
    "    # Getting the metrics\n",
    "    train_CE_loss = log_loss(training_targets,training_predictions)\n",
    "    validation_CE_loss = log_loss(val_targets,val_predictions)\n",
    "\n",
    "    # Getting the accuracy\n",
    "    train_class_preds = np.array(training_predictions).argmax(axis=1)\n",
    "    valid_class_preds = np.array(val_predictions).argmax(axis=1)\n",
    "    train_acc = accuracy_score(training_targets,train_class_preds)\n",
    "    valid_acc = accuracy_score(val_targets,valid_class_preds)\n",
    "\n",
    "    return {'model_id':model_id,'model_name':model_name,'train_CE_loss':train_CE_loss,\n",
    "            'train_acc':train_acc,'validation_CE_loss':validation_CE_loss,'validation_acc':valid_acc}"
   ]
  },
  {
   "cell_type": "markdown",
   "id": "3f562a55",
   "metadata": {
    "papermill": {
     "duration": 0.003066,
     "end_time": "2024-09-04T14:12:55.068371",
     "exception": false,
     "start_time": "2024-09-04T14:12:55.065305",
     "status": "completed"
    },
    "tags": []
   },
   "source": [
    "## Model Building & Training"
   ]
  },
  {
   "cell_type": "code",
   "execution_count": 4,
   "id": "96fbdc64",
   "metadata": {
    "execution": {
     "iopub.execute_input": "2024-09-04T14:12:55.075955Z",
     "iopub.status.busy": "2024-09-04T14:12:55.075671Z",
     "iopub.status.idle": "2024-09-04T14:12:55.121139Z",
     "shell.execute_reply": "2024-09-04T14:12:55.120266Z"
    },
    "papermill": {
     "duration": 0.051654,
     "end_time": "2024-09-04T14:12:55.123292",
     "exception": false,
     "start_time": "2024-09-04T14:12:55.071638",
     "status": "completed"
    },
    "tags": []
   },
   "outputs": [],
   "source": [
    "# Getting the data\n",
    "training_path = '/kaggle/input/statefarmdd/training.csv'\n",
    "validation_path = '/kaggle/input/statefarmdd/validation.csv'\n",
    "\n",
    "# Creating the Datasets\n",
    "transformation_pipeline = v2.Compose([\n",
    "    v2.Resize(256),\n",
    "    v2.CenterCrop(224),\n",
    "    v2.ToImage(), \n",
    "    v2.ToDtype(torch.float32, scale=True),\n",
    "    v2.Normalize(mean=[0.485, 0.456, 0.406], std=[0.229, 0.224, 0.225]),\n",
    "])\n",
    "train_dataset = StateFarmDD(training_path, path_prefix='/kaggle/input/state-farm-distracted-driver-detection/imgs/train',transform_pipeline=transformation_pipeline)\n",
    "valid_dataset = StateFarmDD(validation_path, path_prefix='/kaggle/input/state-farm-distracted-driver-detection/imgs/train',transform_pipeline=transformation_pipeline)\n",
    "train_loader = DataLoader(train_dataset, batch_size=32, shuffle=True)\n",
    "valid_loader = DataLoader(valid_dataset, batch_size=32, shuffle=True)"
   ]
  },
  {
   "cell_type": "code",
   "execution_count": 5,
   "id": "08fe1920",
   "metadata": {
    "execution": {
     "iopub.execute_input": "2024-09-04T14:12:55.131871Z",
     "iopub.status.busy": "2024-09-04T14:12:55.131102Z",
     "iopub.status.idle": "2024-09-04T16:07:29.720073Z",
     "shell.execute_reply": "2024-09-04T16:07:29.719005Z"
    },
    "papermill": {
     "duration": 6874.603494,
     "end_time": "2024-09-04T16:07:29.730236",
     "exception": false,
     "start_time": "2024-09-04T14:12:55.126742",
     "status": "completed"
    },
    "tags": []
   },
   "outputs": [
    {
     "name": "stderr",
     "output_type": "stream",
     "text": [
      "Downloading: \"https://download.pytorch.org/models/vgg16_bn-6c64b313.pth\" to /root/.cache/torch/hub/checkpoints/vgg16_bn-6c64b313.pth\n",
      "100%|██████████| 528M/528M [00:02<00:00, 205MB/s]\n"
     ]
    },
    {
     "name": "stdout",
     "output_type": "stream",
     "text": [
      "-----------------------------------\n",
      "Epoch 0\n",
      "Training Loss: 0.8849\n",
      "Validation Loss: 3.0544\n",
      "Training Accuracy: 70.0936%\n",
      "Validation Accuracy: 43.2091%\n",
      "\n",
      "Best Validation Loss: 3.0544\n",
      "Best Epoch: 0\n",
      "-----------------------------------\n",
      "\n",
      "-----------------------------------\n",
      "Epoch 1\n",
      "Training Loss: 0.2394\n",
      "Validation Loss: 2.2857\n",
      "Training Accuracy: 94.423%\n",
      "Validation Accuracy: 53.6262%\n",
      "\n",
      "Best Validation Loss: 2.2857\n",
      "Best Epoch: 1\n",
      "-----------------------------------\n",
      "\n",
      "-----------------------------------\n",
      "Epoch 2\n",
      "Training Loss: 0.2443\n",
      "Validation Loss: 3.8067\n",
      "Training Accuracy: 95.0717%\n",
      "Validation Accuracy: 50.9612%\n",
      "\n",
      "Best Validation Loss: 2.2857\n",
      "Best Epoch: 1\n",
      "-----------------------------------\n",
      "\n",
      "-----------------------------------\n",
      "Epoch 3\n",
      "Training Loss: 0.3102\n",
      "Validation Loss: 3.5306\n",
      "Training Accuracy: 95.1341%\n",
      "Validation Accuracy: 50.5864%\n",
      "\n",
      "Best Validation Loss: 2.2857\n",
      "Best Epoch: 1\n",
      "-----------------------------------\n",
      "\n",
      "-----------------------------------\n",
      "Epoch 4\n",
      "Training Loss: 0.2849\n",
      "Validation Loss: 3.9174\n",
      "Training Accuracy: 95.8453%\n",
      "Validation Accuracy: 50.6905%\n",
      "\n",
      "Best Validation Loss: 2.2857\n",
      "Best Epoch: 1\n",
      "-----------------------------------\n",
      "\n",
      "-----------------------------------\n",
      "Epoch 5\n",
      "Training Loss: 0.2394\n",
      "Validation Loss: 4.3425\n",
      "Training Accuracy: 96.2944%\n",
      "Validation Accuracy: 49.0527%\n",
      "\n",
      "Best Validation Loss: 2.2857\n",
      "Best Epoch: 1\n",
      "-----------------------------------\n",
      "\n",
      "Stopping training due to early stopping!!!\n"
     ]
    }
   ],
   "source": [
    "# Defining the model\n",
    "model = vgg16_bn(weights='DEFAULT')\n",
    "for param in model.parameters():\n",
    "    param.requires_grad = False\n",
    "for param in model.classifier.parameters():\n",
    "    param.requires_grad = True\n",
    "\n",
    "model.classifier[6] = nn.Linear(model.classifier[6].in_features, 10)\n",
    "\n",
    "# Training the model\n",
    "model_name = 'vgg16_1'\n",
    "device = torch.device(\"cuda\" if torch.cuda.is_available() else \"cpu\")\n",
    "model.to(device)\n",
    "loss_fn = torch.nn.CrossEntropyLoss(reduction='sum').to(device)\n",
    "optimizer = torch.optim.Adam(model.classifier.parameters(), lr=0.001)\n",
    "training_history_loss = []\n",
    "validation_history_loss = []\n",
    "train_history_accuracy = []\n",
    "valid_history_accuracy = []\n",
    "epochs = 100\n",
    "current_count = 0\n",
    "early_stopping_threshold = 1e-4\n",
    "early_stopping_count = 5\n",
    "best_val_loss = float('inf')\n",
    "best_epoch = -1\n",
    "\n",
    "# Training the model\n",
    "for epoch in range(epochs):\n",
    "    model.train()\n",
    "    train_loss = 0\n",
    "    valid_loss = 0\n",
    "    train_accuracy = 0\n",
    "    valid_accuracy = 0\n",
    "    for X_batch, y_batch in train_loader:\n",
    "        X_batch, y_batch = X_batch.to(device), y_batch.to(device)\n",
    "        y_pred = model(X_batch)\n",
    "        loss = loss_fn(y_pred, y_batch)\n",
    "        train_loss += loss.item()\n",
    "        optimizer.zero_grad()\n",
    "        loss.backward()\n",
    "        optimizer.step()\n",
    "\n",
    "        # Computing the accuracy\n",
    "        y_pred_labels = torch.argmax(y_pred, dim=1)\n",
    "        train_accuracy += torch.sum(y_pred_labels == y_batch).item()\n",
    "\n",
    "    model.eval()\n",
    "    with torch.no_grad():\n",
    "        for X_batch, y_batch in valid_loader:\n",
    "            X_batch, y_batch = X_batch.to(device), y_batch.to(device)\n",
    "            y_pred = model(X_batch)\n",
    "            loss = loss_fn(y_pred, y_batch)\n",
    "            valid_loss += loss.item()\n",
    "\n",
    "            # Computing the accuracy\n",
    "            y_pred_labels = torch.argmax(y_pred, dim=1)\n",
    "            valid_accuracy += torch.sum(y_pred_labels == y_batch).item()\n",
    "    \n",
    "    train_loss /= len(train_loader.dataset)\n",
    "    valid_loss /= len(valid_loader.dataset)\n",
    "    train_accuracy /= len(train_loader.dataset)\n",
    "    valid_accuracy /= len(valid_loader.dataset)\n",
    "    training_history_loss.append(train_loss)\n",
    "    validation_history_loss.append(valid_loss)\n",
    "    train_history_accuracy.append(train_accuracy)\n",
    "    valid_history_accuracy.append(valid_accuracy)\n",
    "    \n",
    "    # Early stopping\n",
    "    if epoch > 0:\n",
    "        if validation_history_loss[-1] - best_val_loss > early_stopping_threshold:\n",
    "            current_count += 1\n",
    "        else:\n",
    "            best_val_loss = validation_history_loss[-1]\n",
    "            best_epoch = epoch\n",
    "            current_count = 0\n",
    "    else:\n",
    "        best_val_loss = validation_history_loss[-1]\n",
    "        best_epoch = epoch\n",
    "        \n",
    "    if current_count == early_stopping_count:\n",
    "        print('Stopping training due to early stopping!!!')\n",
    "        break\n",
    "    elif current_count == 0:\n",
    "        # Saving the best model\n",
    "        model.to('cpu')\n",
    "        torch.save(model.state_dict(), f'{model_name}.pth')\n",
    "        model.to(device)\n",
    "    print('-----------------------------------')\n",
    "    print(f'Epoch {epoch}')\n",
    "    print(f'Training Loss: {round(train_loss,4)}')\n",
    "    print(f'Validation Loss: {round(valid_loss,4)}')\n",
    "    print(f'Training Accuracy: {round(train_accuracy*100,4)}%')\n",
    "    print(f'Validation Accuracy: {round(valid_accuracy*100,4)}%')\n",
    "    print()\n",
    "    print(f'Best Validation Loss: {round(best_val_loss,4)}')\n",
    "    print(f'Best Epoch: {best_epoch}')\n",
    "    print('-----------------------------------')\n",
    "    print()"
   ]
  },
  {
   "cell_type": "code",
   "execution_count": 6,
   "id": "2f1db699",
   "metadata": {
    "execution": {
     "iopub.execute_input": "2024-09-04T16:07:29.745421Z",
     "iopub.status.busy": "2024-09-04T16:07:29.745042Z",
     "iopub.status.idle": "2024-09-04T16:07:30.175612Z",
     "shell.execute_reply": "2024-09-04T16:07:30.174429Z"
    },
    "papermill": {
     "duration": 0.440923,
     "end_time": "2024-09-04T16:07:30.178085",
     "exception": false,
     "start_time": "2024-09-04T16:07:29.737162",
     "status": "completed"
    },
    "tags": []
   },
   "outputs": [],
   "source": [
    "# Saving Plots for the training and validation loss\n",
    "plt.figure(figsize=(10, 6))\n",
    "plt.plot(training_history_loss, label='Training Loss')\n",
    "plt.plot(validation_history_loss, label='Validation Loss')\n",
    "plt.legend()\n",
    "plt.xlabel('Epochs')\n",
    "plt.ylabel('Loss')\n",
    "plt.title('Training and Validation Loss')\n",
    "plt.savefig(f'{model_name}_loss.png')\n",
    "plt.close()\n",
    "\n",
    "# Saving plot for the training and validation accuracy \n",
    "plt.figure(figsize=(10, 6))\n",
    "plt.plot(train_history_accuracy, label='Training Accuracy')\n",
    "plt.plot(valid_history_accuracy, label='Validation Accuracy')\n",
    "plt.legend()\n",
    "plt.xlabel('Epochs')\n",
    "plt.ylabel('Accuracy')\n",
    "plt.title('Training and Validation Accuracy')\n",
    "plt.savefig(f'{model_name}_accuracy.png')\n",
    "plt.close()"
   ]
  },
  {
   "cell_type": "code",
   "execution_count": 7,
   "id": "1b5f397e",
   "metadata": {
    "execution": {
     "iopub.execute_input": "2024-09-04T16:07:30.193881Z",
     "iopub.status.busy": "2024-09-04T16:07:30.193533Z",
     "iopub.status.idle": "2024-09-04T16:07:30.640348Z",
     "shell.execute_reply": "2024-09-04T16:07:30.639246Z"
    },
    "papermill": {
     "duration": 0.457303,
     "end_time": "2024-09-04T16:07:30.642824",
     "exception": false,
     "start_time": "2024-09-04T16:07:30.185521",
     "status": "completed"
    },
    "tags": []
   },
   "outputs": [
    {
     "name": "stderr",
     "output_type": "stream",
     "text": [
      "/tmp/ipykernel_23/1877011205.py:2: FutureWarning: You are using `torch.load` with `weights_only=False` (the current default value), which uses the default pickle module implicitly. It is possible to construct malicious pickle data which will execute arbitrary code during unpickling (See https://github.com/pytorch/pytorch/blob/main/SECURITY.md#untrusted-models for more details). In a future release, the default value for `weights_only` will be flipped to `True`. This limits the functions that could be executed during unpickling. Arbitrary objects will no longer be allowed to be loaded via this mode unless they are explicitly allowlisted by the user via `torch.serialization.add_safe_globals`. We recommend you start setting `weights_only=True` for any use case where you don't have full control of the loaded file. Please open an issue on GitHub for any issues related to this experimental feature.\n",
      "  model.load_state_dict(torch.load(f'{model_name}.pth')) # loading the best model\n"
     ]
    }
   ],
   "source": [
    "# Making the predictions for the training & validation for metric logging\n",
    "model.load_state_dict(torch.load(f'{model_name}.pth')) # loading the best model\n",
    "model.eval()\n",
    "model.to(device)\n",
    "train_pred = []\n",
    "valid_pred = []\n",
    "train_truth = []\n",
    "valid_truth = []"
   ]
  },
  {
   "cell_type": "code",
   "execution_count": 8,
   "id": "826c530c",
   "metadata": {
    "execution": {
     "iopub.execute_input": "2024-09-04T16:07:30.659891Z",
     "iopub.status.busy": "2024-09-04T16:07:30.658938Z",
     "iopub.status.idle": "2024-09-04T16:22:47.586369Z",
     "shell.execute_reply": "2024-09-04T16:22:47.585452Z"
    },
    "papermill": {
     "duration": 916.944894,
     "end_time": "2024-09-04T16:22:47.595121",
     "exception": false,
     "start_time": "2024-09-04T16:07:30.650227",
     "status": "completed"
    },
    "tags": []
   },
   "outputs": [
    {
     "name": "stdout",
     "output_type": "stream",
     "text": [
      "{'model_id': '15', 'model_name': 'vgg16_1', 'train_CE_loss': 0.14113247499081977, 'train_acc': 0.9799126637554585, 'validation_CE_loss': 2.2852636671903293, 'validation_acc': 0.5362620584357}\n"
     ]
    }
   ],
   "source": [
    "# Running through data loaders to store the predictions\n",
    "with torch.no_grad():\n",
    "    for X_batch, y_batch in train_loader:\n",
    "        X_batch = X_batch.to(device)\n",
    "        y_pred = torch.nn.functional.softmax(model(X_batch),dim=1)\n",
    "        train_pred.extend(y_pred.detach().cpu().numpy())\n",
    "        train_truth.extend(y_batch.numpy())\n",
    "\n",
    "    for X_batch, y_batch in valid_loader:\n",
    "        X_batch = X_batch.to(device)\n",
    "        y_pred = torch.nn.functional.softmax(model(X_batch),dim=1)\n",
    "        valid_pred.extend(y_pred.detach().cpu().numpy())\n",
    "        valid_truth.extend(y_batch.numpy())\n",
    "\n",
    "# Printing out the metrics \n",
    "metrics = calculate_metrics('15',f'{model_name}',train_truth,np.array(train_pred),valid_truth,np.array(valid_pred))\n",
    "print(metrics)"
   ]
  }
 ],
 "metadata": {
  "kaggle": {
   "accelerator": "nvidiaTeslaT4",
   "dataSources": [
    {
     "databundleVersionId": 868335,
     "sourceId": 5048,
     "sourceType": "competition"
    },
    {
     "datasetId": 5613929,
     "sourceId": 9275719,
     "sourceType": "datasetVersion"
    }
   ],
   "dockerImageVersionId": 30762,
   "isGpuEnabled": true,
   "isInternetEnabled": true,
   "language": "python",
   "sourceType": "notebook"
  },
  "kernelspec": {
   "display_name": "Python 3",
   "language": "python",
   "name": "python3"
  },
  "language_info": {
   "codemirror_mode": {
    "name": "ipython",
    "version": 3
   },
   "file_extension": ".py",
   "mimetype": "text/x-python",
   "name": "python",
   "nbconvert_exporter": "python",
   "pygments_lexer": "ipython3",
   "version": "3.10.14"
  },
  "papermill": {
   "default_parameters": {},
   "duration": 7803.632945,
   "end_time": "2024-09-04T16:22:49.224527",
   "environment_variables": {},
   "exception": null,
   "input_path": "__notebook__.ipynb",
   "output_path": "__notebook__.ipynb",
   "parameters": {},
   "start_time": "2024-09-04T14:12:45.591582",
   "version": "2.6.0"
  }
 },
 "nbformat": 4,
 "nbformat_minor": 5
}
