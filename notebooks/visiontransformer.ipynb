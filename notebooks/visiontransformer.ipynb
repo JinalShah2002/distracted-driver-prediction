{
 "cells": [
  {
   "cell_type": "markdown",
   "id": "be1629f1",
   "metadata": {
    "papermill": {
     "duration": 0.003915,
     "end_time": "2024-09-18T21:31:59.157025",
     "exception": false,
     "start_time": "2024-09-18T21:31:59.153110",
     "status": "completed"
    },
    "tags": []
   },
   "source": [
    "# ViT\n",
    "\n",
    "This notebook trains a ViT. Note, to utilize GPU, this notebook has been made in Kaggle.\n",
    "\n",
    "Referenced this paper: https://cs231n.stanford.edu/reports/2022/pdfs/151.pdf\n"
   ]
  },
  {
   "cell_type": "code",
   "execution_count": 1,
   "id": "cef7f4f3",
   "metadata": {
    "execution": {
     "iopub.execute_input": "2024-09-18T21:31:59.165240Z",
     "iopub.status.busy": "2024-09-18T21:31:59.164884Z",
     "iopub.status.idle": "2024-09-18T21:32:14.241052Z",
     "shell.execute_reply": "2024-09-18T21:32:14.239813Z"
    },
    "papermill": {
     "duration": 15.083051,
     "end_time": "2024-09-18T21:32:14.243707",
     "exception": false,
     "start_time": "2024-09-18T21:31:59.160656",
     "status": "completed"
    },
    "tags": []
   },
   "outputs": [
    {
     "name": "stdout",
     "output_type": "stream",
     "text": [
      "Collecting vit_pytorch\r\n",
      "  Downloading vit_pytorch-1.7.12-py3-none-any.whl.metadata (67 kB)\r\n",
      "\u001b[2K     \u001b[90m━━━━━━━━━━━━━━━━━━━━━━━━━━━━━━━━━━━━━━━━\u001b[0m \u001b[32m67.8/67.8 kB\u001b[0m \u001b[31m2.1 MB/s\u001b[0m eta \u001b[36m0:00:00\u001b[0m\r\n",
      "\u001b[?25hCollecting einops>=0.7.0 (from vit_pytorch)\r\n",
      "  Downloading einops-0.8.0-py3-none-any.whl.metadata (12 kB)\r\n",
      "Requirement already satisfied: torch>=1.10 in /opt/conda/lib/python3.10/site-packages (from vit_pytorch) (2.4.0)\r\n",
      "Requirement already satisfied: torchvision in /opt/conda/lib/python3.10/site-packages (from vit_pytorch) (0.19.0)\r\n",
      "Requirement already satisfied: filelock in /opt/conda/lib/python3.10/site-packages (from torch>=1.10->vit_pytorch) (3.15.1)\r\n",
      "Requirement already satisfied: typing-extensions>=4.8.0 in /opt/conda/lib/python3.10/site-packages (from torch>=1.10->vit_pytorch) (4.12.2)\r\n",
      "Requirement already satisfied: sympy in /opt/conda/lib/python3.10/site-packages (from torch>=1.10->vit_pytorch) (1.13.2)\r\n",
      "Requirement already satisfied: networkx in /opt/conda/lib/python3.10/site-packages (from torch>=1.10->vit_pytorch) (3.3)\r\n",
      "Requirement already satisfied: jinja2 in /opt/conda/lib/python3.10/site-packages (from torch>=1.10->vit_pytorch) (3.1.4)\r\n",
      "Requirement already satisfied: fsspec in /opt/conda/lib/python3.10/site-packages (from torch>=1.10->vit_pytorch) (2024.6.1)\r\n",
      "Requirement already satisfied: numpy in /opt/conda/lib/python3.10/site-packages (from torchvision->vit_pytorch) (1.26.4)\r\n",
      "Requirement already satisfied: pillow!=8.3.*,>=5.3.0 in /opt/conda/lib/python3.10/site-packages (from torchvision->vit_pytorch) (9.5.0)\r\n",
      "Requirement already satisfied: MarkupSafe>=2.0 in /opt/conda/lib/python3.10/site-packages (from jinja2->torch>=1.10->vit_pytorch) (2.1.5)\r\n",
      "Requirement already satisfied: mpmath<1.4,>=1.1.0 in /opt/conda/lib/python3.10/site-packages (from sympy->torch>=1.10->vit_pytorch) (1.3.0)\r\n",
      "Downloading vit_pytorch-1.7.12-py3-none-any.whl (131 kB)\r\n",
      "\u001b[2K   \u001b[90m━━━━━━━━━━━━━━━━━━━━━━━━━━━━━━━━━━━━━━━━\u001b[0m \u001b[32m131.5/131.5 kB\u001b[0m \u001b[31m6.0 MB/s\u001b[0m eta \u001b[36m0:00:00\u001b[0m\r\n",
      "\u001b[?25hDownloading einops-0.8.0-py3-none-any.whl (43 kB)\r\n",
      "\u001b[2K   \u001b[90m━━━━━━━━━━━━━━━━━━━━━━━━━━━━━━━━━━━━━━━━\u001b[0m \u001b[32m43.2/43.2 kB\u001b[0m \u001b[31m2.4 MB/s\u001b[0m eta \u001b[36m0:00:00\u001b[0m\r\n",
      "\u001b[?25hInstalling collected packages: einops, vit_pytorch\r\n",
      "Successfully installed einops-0.8.0 vit_pytorch-1.7.12\r\n"
     ]
    }
   ],
   "source": [
    "!pip install vit_pytorch"
   ]
  },
  {
   "cell_type": "code",
   "execution_count": 2,
   "id": "fffeb8ec",
   "metadata": {
    "execution": {
     "iopub.execute_input": "2024-09-18T21:32:14.253925Z",
     "iopub.status.busy": "2024-09-18T21:32:14.253607Z",
     "iopub.status.idle": "2024-09-18T21:32:21.931033Z",
     "shell.execute_reply": "2024-09-18T21:32:21.930075Z"
    },
    "papermill": {
     "duration": 7.685192,
     "end_time": "2024-09-18T21:32:21.933455",
     "exception": false,
     "start_time": "2024-09-18T21:32:14.248263",
     "status": "completed"
    },
    "tags": []
   },
   "outputs": [],
   "source": [
    "import pandas as pd\n",
    "import numpy as np\n",
    "import torch\n",
    "from torchvision.transforms import v2\n",
    "from torch.utils.data import Dataset, DataLoader\n",
    "from vit_pytorch import ViT\n",
    "from tqdm import tqdm\n",
    "import matplotlib.pyplot as plt\n",
    "from sklearn.metrics import log_loss, accuracy_score"
   ]
  },
  {
   "cell_type": "markdown",
   "id": "80681a85",
   "metadata": {
    "papermill": {
     "duration": 0.004103,
     "end_time": "2024-09-18T21:32:21.942181",
     "exception": false,
     "start_time": "2024-09-18T21:32:21.938078",
     "status": "completed"
    },
    "tags": []
   },
   "source": [
    "# Functions & Classes"
   ]
  },
  {
   "cell_type": "code",
   "execution_count": 3,
   "id": "1d6c45b8",
   "metadata": {
    "execution": {
     "iopub.execute_input": "2024-09-18T21:32:21.951943Z",
     "iopub.status.busy": "2024-09-18T21:32:21.951487Z",
     "iopub.status.idle": "2024-09-18T21:32:21.961196Z",
     "shell.execute_reply": "2024-09-18T21:32:21.960509Z"
    },
    "papermill": {
     "duration": 0.016762,
     "end_time": "2024-09-18T21:32:21.963038",
     "exception": false,
     "start_time": "2024-09-18T21:32:21.946276",
     "status": "completed"
    },
    "tags": []
   },
   "outputs": [],
   "source": [
    "class StateFarmDD(Dataset):\n",
    "    # Constructor\n",
    "    def __init__(self,annotations_path,path_prefix='../data/imgs/train',transform_pipeline=None,test=False):\n",
    "        self.annotations = pd.read_csv(annotations_path)\n",
    "        self.transformation_pipeline = transform_pipeline\n",
    "        self.path_prefix = path_prefix\n",
    "        self.label_to_int_dict = {'c0':0,'c1':1,'c2':2,'c3':3,'c4':4,'c5':5,'c6':6,'c7':7,'c8':8,'c9':9,\n",
    "                                  'c10':-1}\n",
    "        self.test = test\n",
    "\n",
    "    # Method to get the length of the dataset\n",
    "    def __len__(self):\n",
    "        return len(self.annotations)\n",
    "    \n",
    "    # Method to get the item at a particular index\n",
    "    def __getitem__(self,index):\n",
    "        label = self.annotations.iloc[index,1]\n",
    "        image_name = self.annotations.iloc[index,2]\n",
    "        if self.test:\n",
    "            image = plt.imread(f'{self.path_prefix}/{image_name}')\n",
    "        else:\n",
    "            image = plt.imread(f'{self.path_prefix}/{label}/{image_name}')\n",
    "\n",
    "        # Throwing image through pipeline if it exists\n",
    "        if self.transformation_pipeline:\n",
    "            transformed_image = self.transformation_pipeline(image.copy()).squeeze(0)\n",
    "            return transformed_image, self.label_to_int_dict[label]\n",
    "        else:\n",
    "            return image, self.label_to_int_dict[label]"
   ]
  },
  {
   "cell_type": "code",
   "execution_count": 4,
   "id": "b561d5de",
   "metadata": {
    "execution": {
     "iopub.execute_input": "2024-09-18T21:32:21.972512Z",
     "iopub.status.busy": "2024-09-18T21:32:21.972245Z",
     "iopub.status.idle": "2024-09-18T21:32:21.978024Z",
     "shell.execute_reply": "2024-09-18T21:32:21.977207Z"
    },
    "papermill": {
     "duration": 0.012646,
     "end_time": "2024-09-18T21:32:21.979909",
     "exception": false,
     "start_time": "2024-09-18T21:32:21.967263",
     "status": "completed"
    },
    "tags": []
   },
   "outputs": [],
   "source": [
    "# Function to calculate the metrics\n",
    "def calculate_metrics(model_id,model_name,training_targets,training_predictions,val_targets,val_predictions):\n",
    "\n",
    "    # Getting the metrics\n",
    "    train_CE_loss = log_loss(training_targets,training_predictions)\n",
    "    validation_CE_loss = log_loss(val_targets,val_predictions)\n",
    "\n",
    "    # Getting the accuracy\n",
    "    train_class_preds = np.array(training_predictions).argmax(axis=1)\n",
    "    valid_class_preds = np.array(val_predictions).argmax(axis=1)\n",
    "    train_acc = accuracy_score(training_targets,train_class_preds)\n",
    "    valid_acc = accuracy_score(val_targets,valid_class_preds)\n",
    "\n",
    "    return {'model_id':model_id,'model_name':model_name,'train_CE_loss':train_CE_loss,\n",
    "            'train_acc':train_acc,'validation_CE_loss':validation_CE_loss,'validation_acc':valid_acc}"
   ]
  },
  {
   "cell_type": "markdown",
   "id": "da691b24",
   "metadata": {
    "papermill": {
     "duration": 0.003991,
     "end_time": "2024-09-18T21:32:21.988197",
     "exception": false,
     "start_time": "2024-09-18T21:32:21.984206",
     "status": "completed"
    },
    "tags": []
   },
   "source": [
    "## Model Building & Training"
   ]
  },
  {
   "cell_type": "code",
   "execution_count": 5,
   "id": "13e5a214",
   "metadata": {
    "execution": {
     "iopub.execute_input": "2024-09-18T21:32:21.997678Z",
     "iopub.status.busy": "2024-09-18T21:32:21.997415Z",
     "iopub.status.idle": "2024-09-18T21:32:22.049409Z",
     "shell.execute_reply": "2024-09-18T21:32:22.048610Z"
    },
    "papermill": {
     "duration": 0.059123,
     "end_time": "2024-09-18T21:32:22.051493",
     "exception": false,
     "start_time": "2024-09-18T21:32:21.992370",
     "status": "completed"
    },
    "tags": []
   },
   "outputs": [],
   "source": [
    "# Getting the data\n",
    "training_path = '/kaggle/input/statefarmdd/training.csv'\n",
    "validation_path = '/kaggle/input/statefarmdd/validation.csv'\n",
    "\n",
    "# Creating the Datasets\n",
    "transformation_pipeline = v2.Compose([\n",
    "        v2.ToImage(),\n",
    "        v2.Resize([224,224]),\n",
    "        v2.ToDtype(torch.float32, scale=True),\n",
    "])\n",
    "train_dataset = StateFarmDD(training_path, path_prefix='/kaggle/input/state-farm-distracted-driver-detection/imgs/train',transform_pipeline=transformation_pipeline)\n",
    "valid_dataset = StateFarmDD(validation_path, path_prefix='/kaggle/input/state-farm-distracted-driver-detection/imgs/train',transform_pipeline=transformation_pipeline)\n",
    "train_loader = DataLoader(train_dataset, batch_size=32, shuffle=True)\n",
    "valid_loader = DataLoader(valid_dataset, batch_size=32, shuffle=True)"
   ]
  },
  {
   "cell_type": "code",
   "execution_count": 6,
   "id": "57d2c708",
   "metadata": {
    "execution": {
     "iopub.execute_input": "2024-09-18T21:32:22.061851Z",
     "iopub.status.busy": "2024-09-18T21:32:22.061566Z",
     "iopub.status.idle": "2024-09-18T21:55:46.398350Z",
     "shell.execute_reply": "2024-09-18T21:55:46.397286Z"
    },
    "papermill": {
     "duration": 1404.349984,
     "end_time": "2024-09-18T21:55:46.406074",
     "exception": false,
     "start_time": "2024-09-18T21:32:22.056090",
     "status": "completed"
    },
    "tags": []
   },
   "outputs": [
    {
     "name": "stdout",
     "output_type": "stream",
     "text": [
      "-----------------------------------\n",
      "Epoch 0\n",
      "Training Loss: 2.2929\n",
      "Validation Loss: 2.2899\n",
      "Training Accuracy: 12.9133%\n",
      "Validation Accuracy: 12.2562%\n",
      "\n",
      "Best Validation Loss: 2.2899\n",
      "Best Epoch: 0\n",
      "-----------------------------------\n",
      "\n",
      "-----------------------------------\n",
      "Epoch 1\n",
      "Training Loss: 1.7983\n",
      "Validation Loss: 2.8484\n",
      "Training Accuracy: 39.4011%\n",
      "Validation Accuracy: 14.602%\n",
      "\n",
      "Best Validation Loss: 2.2899\n",
      "Best Epoch: 0\n",
      "-----------------------------------\n",
      "\n",
      "-----------------------------------\n",
      "Epoch 2\n",
      "Training Loss: 0.542\n",
      "Validation Loss: 3.9561\n",
      "Training Accuracy: 85.4523%\n",
      "Validation Accuracy: 19.2033%\n",
      "\n",
      "Best Validation Loss: 2.2899\n",
      "Best Epoch: 0\n",
      "-----------------------------------\n",
      "\n",
      "-----------------------------------\n",
      "Epoch 3\n",
      "Training Loss: 0.1901\n",
      "Validation Loss: 4.4705\n",
      "Training Accuracy: 95.8079%\n",
      "Validation Accuracy: 18.3843%\n",
      "\n",
      "Best Validation Loss: 2.2899\n",
      "Best Epoch: 0\n",
      "-----------------------------------\n",
      "\n",
      "-----------------------------------\n",
      "Epoch 4\n",
      "Training Loss: 0.1115\n",
      "Validation Loss: 4.7978\n",
      "Training Accuracy: 97.4173%\n",
      "Validation Accuracy: 18.9673%\n",
      "\n",
      "Best Validation Loss: 2.2899\n",
      "Best Epoch: 0\n",
      "-----------------------------------\n",
      "\n",
      "Stopping training due to early stopping!!!\n"
     ]
    }
   ],
   "source": [
    "model = ViT(\n",
    "    image_size=224,\n",
    "    patch_size=16,\n",
    "    num_classes=10,\n",
    "    dim=768,\n",
    "    depth=3,\n",
    "    heads=8,\n",
    "    mlp_dim=3072,\n",
    "    channels=3,\n",
    "    dropout=0.2,\n",
    "    emb_dropout=0\n",
    ")\n",
    "device = torch.device(\"cuda\" if torch.cuda.is_available() else \"cpu\")\n",
    "model.to(device)\n",
    "model_name = 'vit'\n",
    "model_number = 23\n",
    "loss_fn = torch.nn.CrossEntropyLoss(reduction='sum').to(device)\n",
    "optimizer = torch.optim.Adam(model.parameters(), lr=1e-5)\n",
    "training_history_loss = []\n",
    "validation_history_loss = []\n",
    "train_history_accuracy = []\n",
    "valid_history_accuracy = []\n",
    "epochs = 25\n",
    "current_count = 0\n",
    "early_stopping_threshold = 1e-4\n",
    "early_stopping_count = 5\n",
    "best_val_loss = float('inf')\n",
    "best_epoch = -1\n",
    "\n",
    "# Training the model\n",
    "for epoch in range(epochs):\n",
    "    model.train()\n",
    "    train_loss = 0\n",
    "    valid_loss = 0\n",
    "    train_accuracy = 0\n",
    "    valid_accuracy = 0\n",
    "    for X_batch, y_batch in train_loader:\n",
    "        X_batch, y_batch = X_batch.to(device), y_batch.to(device)\n",
    "        y_pred = model(X_batch)\n",
    "        loss = loss_fn(y_pred, y_batch)\n",
    "        train_loss += loss.item()\n",
    "        optimizer.zero_grad()\n",
    "        loss.backward()\n",
    "        optimizer.step()\n",
    "\n",
    "        # Computing the accuracy\n",
    "        y_pred_labels = torch.argmax(y_pred, dim=1)\n",
    "        train_accuracy += torch.sum(y_pred_labels == y_batch).item()\n",
    "\n",
    "    model.eval()\n",
    "    for X_batch, y_batch in valid_loader:\n",
    "        X_batch, y_batch = X_batch.to(device), y_batch.to(device)\n",
    "        y_pred = model(X_batch)\n",
    "        loss = loss_fn(y_pred, y_batch)\n",
    "        valid_loss += loss.item()\n",
    "\n",
    "        # Computing the accuracy\n",
    "        y_pred_labels = torch.argmax(y_pred, dim=1)\n",
    "        valid_accuracy += torch.sum(y_pred_labels == y_batch).item()\n",
    "    \n",
    "    train_loss /= len(train_loader.dataset)\n",
    "    valid_loss /= len(valid_loader.dataset)\n",
    "    train_accuracy /= len(train_loader.dataset)\n",
    "    valid_accuracy /= len(valid_loader.dataset)\n",
    "    training_history_loss.append(train_loss)\n",
    "    validation_history_loss.append(valid_loss)\n",
    "    train_history_accuracy.append(train_accuracy)\n",
    "    valid_history_accuracy.append(valid_accuracy)\n",
    "\n",
    "    # Early stopping\n",
    "    if epoch > 0:\n",
    "        if validation_history_loss[-1] - best_val_loss > early_stopping_threshold:\n",
    "            current_count += 1\n",
    "        else:\n",
    "            best_val_loss = validation_history_loss[-1]\n",
    "            best_epoch = epoch\n",
    "            current_count = 0\n",
    "    else:\n",
    "        best_val_loss = validation_history_loss[-1]\n",
    "        best_epoch = epoch\n",
    "        \n",
    "    if current_count == early_stopping_count:\n",
    "        print('Stopping training due to early stopping!!!')\n",
    "        break\n",
    "    elif current_count == 0:\n",
    "        # Saving the best model\n",
    "        # Saving the best model\n",
    "        model.to('cpu')\n",
    "        torch.save(model.state_dict(), f'{model_name}.pth')\n",
    "        model.to(device)\n",
    "    \n",
    "    print('-----------------------------------')\n",
    "    print(f'Epoch {epoch}')\n",
    "    print(f'Training Loss: {round(train_loss,4)}')\n",
    "    print(f'Validation Loss: {round(valid_loss,4)}')\n",
    "    print(f'Training Accuracy: {round(train_accuracy*100,4)}%')\n",
    "    print(f'Validation Accuracy: {round(valid_accuracy*100,4)}%')\n",
    "    print()\n",
    "    print(f'Best Validation Loss: {round(best_val_loss,4)}')\n",
    "    print(f'Best Epoch: {best_epoch}')\n",
    "    print('-----------------------------------')\n",
    "    print()"
   ]
  },
  {
   "cell_type": "code",
   "execution_count": 7,
   "id": "cc8040f7",
   "metadata": {
    "execution": {
     "iopub.execute_input": "2024-09-18T21:55:46.418708Z",
     "iopub.status.busy": "2024-09-18T21:55:46.418359Z",
     "iopub.status.idle": "2024-09-18T21:55:46.927955Z",
     "shell.execute_reply": "2024-09-18T21:55:46.927102Z"
    },
    "papermill": {
     "duration": 0.51838,
     "end_time": "2024-09-18T21:55:46.930414",
     "exception": false,
     "start_time": "2024-09-18T21:55:46.412034",
     "status": "completed"
    },
    "tags": []
   },
   "outputs": [],
   "source": [
    "# Saving Plots for the training and validation loss\n",
    "plt.figure(figsize=(10, 6))\n",
    "plt.plot(training_history_loss, label='Training Loss')\n",
    "plt.plot(validation_history_loss, label='Validation Loss')\n",
    "plt.legend()\n",
    "plt.xlabel('Epochs')\n",
    "plt.ylabel('Loss')\n",
    "plt.title('Training and Validation Loss')\n",
    "plt.savefig(f'{model_name}_loss.png')\n",
    "plt.close()\n",
    "\n",
    "# Saving plot for the training and validation accuracy \n",
    "plt.figure(figsize=(10, 6))\n",
    "plt.plot(train_history_accuracy, label='Training Accuracy')\n",
    "plt.plot(valid_history_accuracy, label='Validation Accuracy')\n",
    "plt.legend()\n",
    "plt.xlabel('Epochs')\n",
    "plt.ylabel('Accuracy')\n",
    "plt.title('Training and Validation Accuracy')\n",
    "plt.savefig(f'{model_name}_accuracy.png')\n",
    "plt.close()"
   ]
  },
  {
   "cell_type": "code",
   "execution_count": 8,
   "id": "630547f4",
   "metadata": {
    "execution": {
     "iopub.execute_input": "2024-09-18T21:55:46.942651Z",
     "iopub.status.busy": "2024-09-18T21:55:46.942359Z",
     "iopub.status.idle": "2024-09-18T21:55:47.006130Z",
     "shell.execute_reply": "2024-09-18T21:55:47.005193Z"
    },
    "papermill": {
     "duration": 0.072189,
     "end_time": "2024-09-18T21:55:47.008361",
     "exception": false,
     "start_time": "2024-09-18T21:55:46.936172",
     "status": "completed"
    },
    "tags": []
   },
   "outputs": [
    {
     "name": "stderr",
     "output_type": "stream",
     "text": [
      "/tmp/ipykernel_23/1877011205.py:2: FutureWarning: You are using `torch.load` with `weights_only=False` (the current default value), which uses the default pickle module implicitly. It is possible to construct malicious pickle data which will execute arbitrary code during unpickling (See https://github.com/pytorch/pytorch/blob/main/SECURITY.md#untrusted-models for more details). In a future release, the default value for `weights_only` will be flipped to `True`. This limits the functions that could be executed during unpickling. Arbitrary objects will no longer be allowed to be loaded via this mode unless they are explicitly allowlisted by the user via `torch.serialization.add_safe_globals`. We recommend you start setting `weights_only=True` for any use case where you don't have full control of the loaded file. Please open an issue on GitHub for any issues related to this experimental feature.\n",
      "  model.load_state_dict(torch.load(f'{model_name}.pth')) # loading the best model\n"
     ]
    }
   ],
   "source": [
    "# Making the predictions for the training & validation for metric logging\n",
    "model.load_state_dict(torch.load(f'{model_name}.pth')) # loading the best model\n",
    "model.eval()\n",
    "model.to(device)\n",
    "train_pred = []\n",
    "valid_pred = []\n",
    "train_truth = []\n",
    "valid_truth = []"
   ]
  },
  {
   "cell_type": "code",
   "execution_count": 9,
   "id": "137c5b64",
   "metadata": {
    "execution": {
     "iopub.execute_input": "2024-09-18T21:55:47.020208Z",
     "iopub.status.busy": "2024-09-18T21:55:47.019873Z",
     "iopub.status.idle": "2024-09-18T21:58:42.072411Z",
     "shell.execute_reply": "2024-09-18T21:58:42.071303Z"
    },
    "papermill": {
     "duration": 175.066811,
     "end_time": "2024-09-18T21:58:42.080376",
     "exception": false,
     "start_time": "2024-09-18T21:55:47.013565",
     "status": "completed"
    },
    "tags": []
   },
   "outputs": [
    {
     "name": "stdout",
     "output_type": "stream",
     "text": [
      "{'model_id': 23, 'model_name': 'vit', 'train_CE_loss': 2.214328674014989, 'train_acc': 0.2832189644416719, 'validation_CE_loss': 2.289904279112905, 'validation_acc': 0.12256228745922687}\n"
     ]
    }
   ],
   "source": [
    "# Running through data loaders to store the predictions\n",
    "with torch.no_grad():\n",
    "    for X_batch, y_batch in train_loader:\n",
    "        X_batch = X_batch.to(device)\n",
    "        y_pred = torch.nn.functional.softmax(model(X_batch),dim=1)\n",
    "        train_pred.extend(y_pred.detach().cpu().numpy())\n",
    "        train_truth.extend(y_batch.numpy())\n",
    "\n",
    "    for X_batch, y_batch in valid_loader:\n",
    "        X_batch = X_batch.to(device)\n",
    "        y_pred = torch.nn.functional.softmax(model(X_batch),dim=1)\n",
    "        valid_pred.extend(y_pred.detach().cpu().numpy())\n",
    "        valid_truth.extend(y_batch.numpy())\n",
    "\n",
    "# Printing out the metrics \n",
    "metrics = calculate_metrics(model_number,f'{model_name}',train_truth,np.array(train_pred),valid_truth,np.array(valid_pred))\n",
    "print(metrics)"
   ]
  }
 ],
 "metadata": {
  "kaggle": {
   "accelerator": "nvidiaTeslaT4",
   "dataSources": [
    {
     "databundleVersionId": 868335,
     "sourceId": 5048,
     "sourceType": "competition"
    },
    {
     "datasetId": 5613929,
     "sourceId": 9275719,
     "sourceType": "datasetVersion"
    }
   ],
   "dockerImageVersionId": 30762,
   "isGpuEnabled": true,
   "isInternetEnabled": true,
   "language": "python",
   "sourceType": "notebook"
  },
  "kernelspec": {
   "display_name": "Python 3",
   "language": "python",
   "name": "python3"
  },
  "language_info": {
   "codemirror_mode": {
    "name": "ipython",
    "version": 3
   },
   "file_extension": ".py",
   "mimetype": "text/x-python",
   "name": "python",
   "nbconvert_exporter": "python",
   "pygments_lexer": "ipython3",
   "version": "3.10.14"
  },
  "papermill": {
   "default_parameters": {},
   "duration": 1608.399504,
   "end_time": "2024-09-18T21:58:44.599985",
   "environment_variables": {},
   "exception": null,
   "input_path": "__notebook__.ipynb",
   "output_path": "__notebook__.ipynb",
   "parameters": {},
   "start_time": "2024-09-18T21:31:56.200481",
   "version": "2.6.0"
  }
 },
 "nbformat": 4,
 "nbformat_minor": 5
}
