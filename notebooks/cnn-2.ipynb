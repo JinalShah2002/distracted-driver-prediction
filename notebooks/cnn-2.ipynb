{
 "cells": [
  {
   "cell_type": "markdown",
   "id": "a5424f8f",
   "metadata": {
    "_cell_guid": "b1076dfc-b9ad-4769-8c92-a6c4dae69d19",
    "_uuid": "8f2839f25d086af736a60e9eeb907d3b93b6e0e5",
    "papermill": {
     "duration": 0.003734,
     "end_time": "2024-08-31T00:14:15.671738",
     "exception": false,
     "start_time": "2024-08-31T00:14:15.668004",
     "status": "completed"
    },
    "tags": []
   },
   "source": [
    "# CNN_2\n",
    "\n",
    "This notebook will train & save a CNN model similar to the model presented in the [Detection of Distracted Driver using Convolution Neural Network](https://arxiv.org/abs/2204.03371) paper (Section D). "
   ]
  },
  {
   "cell_type": "code",
   "execution_count": 1,
   "id": "7a00772c",
   "metadata": {
    "execution": {
     "iopub.execute_input": "2024-08-31T00:14:15.679504Z",
     "iopub.status.busy": "2024-08-31T00:14:15.679206Z",
     "iopub.status.idle": "2024-08-31T00:14:22.279695Z",
     "shell.execute_reply": "2024-08-31T00:14:22.278899Z"
    },
    "papermill": {
     "duration": 6.606739,
     "end_time": "2024-08-31T00:14:22.281944",
     "exception": false,
     "start_time": "2024-08-31T00:14:15.675205",
     "status": "completed"
    },
    "tags": []
   },
   "outputs": [],
   "source": [
    "# Imports\n",
    "import pandas as pd\n",
    "import numpy as np \n",
    "import matplotlib.pyplot as plt\n",
    "import torch\n",
    "import torch.nn as nn\n",
    "from torch.utils.data import Dataset, DataLoader\n",
    "from torchvision.transforms import v2\n",
    "from sklearn.metrics import log_loss, accuracy_score"
   ]
  },
  {
   "cell_type": "markdown",
   "id": "3140c524",
   "metadata": {
    "papermill": {
     "duration": 0.003062,
     "end_time": "2024-08-31T00:14:22.288516",
     "exception": false,
     "start_time": "2024-08-31T00:14:22.285454",
     "status": "completed"
    },
    "tags": []
   },
   "source": [
    "## Classes & Functions"
   ]
  },
  {
   "cell_type": "code",
   "execution_count": 2,
   "id": "d0c5de9f",
   "metadata": {
    "execution": {
     "iopub.execute_input": "2024-08-31T00:14:22.296770Z",
     "iopub.status.busy": "2024-08-31T00:14:22.296044Z",
     "iopub.status.idle": "2024-08-31T00:14:22.304619Z",
     "shell.execute_reply": "2024-08-31T00:14:22.303759Z"
    },
    "papermill": {
     "duration": 0.014768,
     "end_time": "2024-08-31T00:14:22.306460",
     "exception": false,
     "start_time": "2024-08-31T00:14:22.291692",
     "status": "completed"
    },
    "tags": []
   },
   "outputs": [],
   "source": [
    "class StateFarmDD(Dataset):\n",
    "    # Constructor\n",
    "    def __init__(self,annotations_path,path_prefix='../data/imgs/train',transform_pipeline=None):\n",
    "        self.annotations = pd.read_csv(annotations_path)\n",
    "        self.transformation_pipeline = transform_pipeline\n",
    "        self.path_prefix = path_prefix\n",
    "        self.label_to_int_dict = {'c0':0,'c1':1,'c2':2,'c3':3,'c4':4,'c5':5,'c6':6,'c7':7,'c8':8,'c9':9}\n",
    "    \n",
    "    # Method to get the length of the dataset\n",
    "    def __len__(self):\n",
    "        return len(self.annotations)\n",
    "    \n",
    "    # Method to get the item at a particular index\n",
    "    def __getitem__(self,index):\n",
    "        label = self.annotations.iloc[index,1]\n",
    "        image_name = self.annotations.iloc[index,2]\n",
    "        image = plt.imread(f'{self.path_prefix}/{label}/{image_name}')\n",
    "\n",
    "        # Throwing image through pipeline if it exists\n",
    "        if self.transformation_pipeline:\n",
    "            transformed_image = self.transformation_pipeline(image.copy()).squeeze(0)\n",
    "            return transformed_image, self.label_to_int_dict[label]\n",
    "        else:\n",
    "            return image, self.label_to_int_dict[label]"
   ]
  },
  {
   "cell_type": "code",
   "execution_count": 3,
   "id": "b2bfc441",
   "metadata": {
    "execution": {
     "iopub.execute_input": "2024-08-31T00:14:22.314172Z",
     "iopub.status.busy": "2024-08-31T00:14:22.313871Z",
     "iopub.status.idle": "2024-08-31T00:14:22.319770Z",
     "shell.execute_reply": "2024-08-31T00:14:22.319012Z"
    },
    "papermill": {
     "duration": 0.011774,
     "end_time": "2024-08-31T00:14:22.321600",
     "exception": false,
     "start_time": "2024-08-31T00:14:22.309826",
     "status": "completed"
    },
    "tags": []
   },
   "outputs": [],
   "source": [
    "# Function to calculate the metrics\n",
    "def calculate_metrics(model_id,model_name,training_targets,training_predictions,val_targets,val_predictions):\n",
    "\n",
    "    # Getting the metrics\n",
    "    train_CE_loss = log_loss(training_targets,training_predictions)\n",
    "    validation_CE_loss = log_loss(val_targets,val_predictions)\n",
    "\n",
    "    # Getting the accuracy\n",
    "    train_class_preds = np.array(training_predictions).argmax(axis=1)\n",
    "    valid_class_preds = np.array(val_predictions).argmax(axis=1)\n",
    "    train_acc = accuracy_score(training_targets,train_class_preds)\n",
    "    valid_acc = accuracy_score(val_targets,valid_class_preds)\n",
    "\n",
    "    return {'model_id':model_id,'model_name':model_name,'train_CE_loss':train_CE_loss,\n",
    "            'train_acc':train_acc,'validation_CE_loss':validation_CE_loss,'validation_acc':valid_acc}"
   ]
  },
  {
   "cell_type": "markdown",
   "id": "2665c337",
   "metadata": {
    "papermill": {
     "duration": 0.003115,
     "end_time": "2024-08-31T00:14:22.327971",
     "exception": false,
     "start_time": "2024-08-31T00:14:22.324856",
     "status": "completed"
    },
    "tags": []
   },
   "source": [
    "## Model Building & Training"
   ]
  },
  {
   "cell_type": "code",
   "execution_count": 4,
   "id": "31a86ca3",
   "metadata": {
    "execution": {
     "iopub.execute_input": "2024-08-31T00:14:22.335979Z",
     "iopub.status.busy": "2024-08-31T00:14:22.335426Z",
     "iopub.status.idle": "2024-08-31T00:14:22.398386Z",
     "shell.execute_reply": "2024-08-31T00:14:22.397659Z"
    },
    "papermill": {
     "duration": 0.068928,
     "end_time": "2024-08-31T00:14:22.400239",
     "exception": false,
     "start_time": "2024-08-31T00:14:22.331311",
     "status": "completed"
    },
    "tags": []
   },
   "outputs": [],
   "source": [
    "# Getting the data\n",
    "training_path = '/kaggle/input/statefarmdd/training.csv'\n",
    "validation_path = '/kaggle/input/statefarmdd/validation.csv'\n",
    "\n",
    "# Creating the Datasets\n",
    "transformation_pipeline = v2.Compose([\n",
    "        v2.ToImage(),\n",
    "        v2.Resize([128,128]),\n",
    "        v2.ToDtype(torch.float32, scale=True),\n",
    "])\n",
    "train_dataset = StateFarmDD(training_path, path_prefix='/kaggle/input/state-farm-distracted-driver-detection/imgs/train',transform_pipeline=transformation_pipeline)\n",
    "valid_dataset = StateFarmDD(validation_path, path_prefix='/kaggle/input/state-farm-distracted-driver-detection/imgs/train',transform_pipeline=transformation_pipeline)\n",
    "train_loader = DataLoader(train_dataset, batch_size=40, shuffle=True)\n",
    "valid_loader = DataLoader(valid_dataset, batch_size=40, shuffle=True)"
   ]
  },
  {
   "cell_type": "code",
   "execution_count": 5,
   "id": "e78da7fa",
   "metadata": {
    "execution": {
     "iopub.execute_input": "2024-08-31T00:14:22.408422Z",
     "iopub.status.busy": "2024-08-31T00:14:22.407878Z",
     "iopub.status.idle": "2024-08-31T00:50:44.868331Z",
     "shell.execute_reply": "2024-08-31T00:50:44.867262Z"
    },
    "papermill": {
     "duration": 2182.471532,
     "end_time": "2024-08-31T00:50:44.875221",
     "exception": false,
     "start_time": "2024-08-31T00:14:22.403689",
     "status": "completed"
    },
    "tags": []
   },
   "outputs": [
    {
     "name": "stdout",
     "output_type": "stream",
     "text": [
      "-----------------------------------\n",
      "Epoch 0\n",
      "Training Loss: 2.7913\n",
      "Validation Loss: 3.4265\n",
      "Training Accuracy: 33.3749%\n",
      "Validation Accuracy: 29.0096%\n",
      "\n",
      "Best Validation Loss: 3.4265\n",
      "Best Epoch: 0\n",
      "-----------------------------------\n",
      "\n",
      "-----------------------------------\n",
      "Epoch 1\n",
      "Training Loss: 1.3062\n",
      "Validation Loss: 3.1449\n",
      "Training Accuracy: 67.0119%\n",
      "Validation Accuracy: 39.6905%\n",
      "\n",
      "Best Validation Loss: 3.1449\n",
      "Best Epoch: 1\n",
      "-----------------------------------\n",
      "\n",
      "-----------------------------------\n",
      "Epoch 2\n",
      "Training Loss: 0.7379\n",
      "Validation Loss: 4.8091\n",
      "Training Accuracy: 81.9214%\n",
      "Validation Accuracy: 29.0999%\n",
      "\n",
      "Best Validation Loss: 3.1449\n",
      "Best Epoch: 1\n",
      "-----------------------------------\n",
      "\n",
      "-----------------------------------\n",
      "Epoch 3\n",
      "Training Loss: 0.4128\n",
      "Validation Loss: 3.505\n",
      "Training Accuracy: 87.7355%\n",
      "Validation Accuracy: 38.698%\n",
      "\n",
      "Best Validation Loss: 3.1449\n",
      "Best Epoch: 1\n",
      "-----------------------------------\n",
      "\n",
      "-----------------------------------\n",
      "Epoch 4\n",
      "Training Loss: 0.2626\n",
      "Validation Loss: 2.2709\n",
      "Training Accuracy: 92.0274%\n",
      "Validation Accuracy: 45.0968%\n",
      "\n",
      "Best Validation Loss: 2.2709\n",
      "Best Epoch: 4\n",
      "-----------------------------------\n",
      "\n",
      "-----------------------------------\n",
      "Epoch 5\n",
      "Training Loss: 0.1598\n",
      "Validation Loss: 2.3841\n",
      "Training Accuracy: 95.8079%\n",
      "Validation Accuracy: 38.7397%\n",
      "\n",
      "Best Validation Loss: 2.2709\n",
      "Best Epoch: 4\n",
      "-----------------------------------\n",
      "\n",
      "-----------------------------------\n",
      "Epoch 6\n",
      "Training Loss: 0.1577\n",
      "Validation Loss: 2.0612\n",
      "Training Accuracy: 96.3194%\n",
      "Validation Accuracy: 41.9876%\n",
      "\n",
      "Best Validation Loss: 2.0612\n",
      "Best Epoch: 6\n",
      "-----------------------------------\n",
      "\n",
      "-----------------------------------\n",
      "Epoch 7\n",
      "Training Loss: 0.1457\n",
      "Validation Loss: 1.9536\n",
      "Training Accuracy: 96.8434%\n",
      "Validation Accuracy: 43.8892%\n",
      "\n",
      "Best Validation Loss: 1.9536\n",
      "Best Epoch: 7\n",
      "-----------------------------------\n",
      "\n",
      "-----------------------------------\n",
      "Epoch 8\n",
      "Training Loss: 0.1488\n",
      "Validation Loss: 1.6517\n",
      "Training Accuracy: 96.8684%\n",
      "Validation Accuracy: 49.011%\n",
      "\n",
      "Best Validation Loss: 1.6517\n",
      "Best Epoch: 8\n",
      "-----------------------------------\n",
      "\n",
      "-----------------------------------\n",
      "Epoch 9\n",
      "Training Loss: 0.1431\n",
      "Validation Loss: 2.2414\n",
      "Training Accuracy: 97.1928%\n",
      "Validation Accuracy: 40.2873%\n",
      "\n",
      "Best Validation Loss: 1.6517\n",
      "Best Epoch: 8\n",
      "-----------------------------------\n",
      "\n",
      "-----------------------------------\n",
      "Epoch 10\n",
      "Training Loss: 0.1509\n",
      "Validation Loss: 1.8885\n",
      "Training Accuracy: 96.8185%\n",
      "Validation Accuracy: 44.6457%\n",
      "\n",
      "Best Validation Loss: 1.6517\n",
      "Best Epoch: 8\n",
      "-----------------------------------\n",
      "\n",
      "-----------------------------------\n",
      "Epoch 11\n",
      "Training Loss: 0.1435\n",
      "Validation Loss: 1.7978\n",
      "Training Accuracy: 96.8808%\n",
      "Validation Accuracy: 47.5328%\n",
      "\n",
      "Best Validation Loss: 1.6517\n",
      "Best Epoch: 8\n",
      "-----------------------------------\n",
      "\n",
      "-----------------------------------\n",
      "Epoch 12\n",
      "Training Loss: 0.1451\n",
      "Validation Loss: 1.9728\n",
      "Training Accuracy: 96.8684%\n",
      "Validation Accuracy: 38.2122%\n",
      "\n",
      "Best Validation Loss: 1.6517\n",
      "Best Epoch: 8\n",
      "-----------------------------------\n",
      "\n",
      "Stopping training due to early stopping!!!\n"
     ]
    }
   ],
   "source": [
    "# Defining the model\n",
    "model = nn.Sequential(\n",
    "    nn.Conv2d(3,64,kernel_size=3,stride=1,padding=1),\n",
    "    nn.ReLU(),\n",
    "    nn.MaxPool2d(kernel_size=2,stride=2),\n",
    "    nn.BatchNorm2d(64),\n",
    "    nn.Conv2d(64,128,kernel_size=3,stride=1,padding=1),\n",
    "    nn.ReLU(),\n",
    "    nn.MaxPool2d(kernel_size=2,stride=2),\n",
    "    nn.BatchNorm2d(128),\n",
    "    nn.Dropout(p=0.5),\n",
    "    nn.Conv2d(128,256,kernel_size=3,stride=1,padding=1),\n",
    "    nn.ReLU(),\n",
    "    nn.BatchNorm2d(256),\n",
    "    nn.Conv2d(256,512,kernel_size=3,stride=1,padding=1),\n",
    "    nn.ReLU(),\n",
    "    nn.MaxPool2d(kernel_size=2,stride=2),\n",
    "    nn.BatchNorm2d(512),\n",
    "    nn.Dropout(p=0.5),\n",
    "    nn.Flatten(),\n",
    "    nn.Linear(131072,500),\n",
    "    nn.ReLU(),\n",
    "    nn.Dropout(p=0.5),\n",
    "    nn.Linear(500,10)\n",
    ")\n",
    "\n",
    "# Training the model\n",
    "device = torch.device(\"cuda\" if torch.cuda.is_available() else \"cpu\")\n",
    "model.to(device)\n",
    "loss_fn = torch.nn.CrossEntropyLoss(reduction='sum').to(device)\n",
    "optimizer = torch.optim.Adam(model.parameters(), lr=0.001, weight_decay=1.5)\n",
    "training_history_loss = []\n",
    "validation_history_loss = []\n",
    "train_history_accuracy = []\n",
    "valid_history_accuracy = []\n",
    "epochs = 25\n",
    "current_count = 0\n",
    "early_stopping_threshold = 1e-4\n",
    "early_stopping_count = 5\n",
    "best_val_loss = float('inf')\n",
    "best_epoch = -1\n",
    "\n",
    "# Training the model\n",
    "for epoch in range(epochs):\n",
    "    model.train()\n",
    "    train_loss = 0\n",
    "    valid_loss = 0\n",
    "    train_accuracy = 0\n",
    "    valid_accuracy = 0\n",
    "    for X_batch, y_batch in train_loader:\n",
    "        X_batch, y_batch = X_batch.to(device), y_batch.to(device)\n",
    "        y_pred = model(X_batch)\n",
    "        loss = loss_fn(y_pred, y_batch)\n",
    "        train_loss += loss.item()\n",
    "        optimizer.zero_grad()\n",
    "        loss.backward()\n",
    "        optimizer.step()\n",
    "\n",
    "        # Computing the accuracy\n",
    "        y_pred_labels = torch.argmax(y_pred, dim=1)\n",
    "        train_accuracy += torch.sum(y_pred_labels == y_batch).item()\n",
    "\n",
    "    model.eval()\n",
    "    with torch.no_grad():\n",
    "        for X_batch, y_batch in valid_loader:\n",
    "            X_batch, y_batch = X_batch.to(device), y_batch.to(device)\n",
    "            y_pred = model(X_batch)\n",
    "            loss = loss_fn(y_pred, y_batch)\n",
    "            valid_loss += loss.item()\n",
    "\n",
    "            # Computing the accuracy\n",
    "            y_pred_labels = torch.argmax(y_pred, dim=1)\n",
    "            valid_accuracy += torch.sum(y_pred_labels == y_batch).item()\n",
    "    \n",
    "    train_loss /= len(train_loader.dataset)\n",
    "    valid_loss /= len(valid_loader.dataset)\n",
    "    train_accuracy /= len(train_loader.dataset)\n",
    "    valid_accuracy /= len(valid_loader.dataset)\n",
    "    training_history_loss.append(train_loss)\n",
    "    validation_history_loss.append(valid_loss)\n",
    "    train_history_accuracy.append(train_accuracy)\n",
    "    valid_history_accuracy.append(valid_accuracy)\n",
    "    \n",
    "    # Early stopping\n",
    "    if epoch > 0:\n",
    "        if validation_history_loss[-1] - best_val_loss > early_stopping_threshold:\n",
    "            current_count += 1\n",
    "        else:\n",
    "            best_val_loss = validation_history_loss[-1]\n",
    "            best_epoch = epoch\n",
    "            current_count = 0\n",
    "    else:\n",
    "        best_val_loss = validation_history_loss[-1]\n",
    "        best_epoch = epoch\n",
    "        \n",
    "    if current_count == early_stopping_count:\n",
    "        print('Stopping training due to early stopping!!!')\n",
    "        break\n",
    "    elif current_count == 0:\n",
    "        # Saving the best model\n",
    "        model.to('cpu')\n",
    "        torch.save(model.state_dict(), 'cnn_2.pth')\n",
    "        model.to(device)\n",
    "    print('-----------------------------------')\n",
    "    print(f'Epoch {epoch}')\n",
    "    print(f'Training Loss: {round(train_loss,4)}')\n",
    "    print(f'Validation Loss: {round(valid_loss,4)}')\n",
    "    print(f'Training Accuracy: {round(train_accuracy*100,4)}%')\n",
    "    print(f'Validation Accuracy: {round(valid_accuracy*100,4)}%')\n",
    "    print()\n",
    "    print(f'Best Validation Loss: {round(best_val_loss,4)}')\n",
    "    print(f'Best Epoch: {best_epoch}')\n",
    "    print('-----------------------------------')\n",
    "    print()"
   ]
  },
  {
   "cell_type": "code",
   "execution_count": 6,
   "id": "9219250b",
   "metadata": {
    "execution": {
     "iopub.execute_input": "2024-08-31T00:50:44.886686Z",
     "iopub.status.busy": "2024-08-31T00:50:44.885705Z",
     "iopub.status.idle": "2024-08-31T00:50:45.390225Z",
     "shell.execute_reply": "2024-08-31T00:50:45.389459Z"
    },
    "papermill": {
     "duration": 0.512537,
     "end_time": "2024-08-31T00:50:45.392422",
     "exception": false,
     "start_time": "2024-08-31T00:50:44.879885",
     "status": "completed"
    },
    "tags": []
   },
   "outputs": [],
   "source": [
    "# Saving Plots for the training and validation loss\n",
    "plt.figure(figsize=(10, 6))\n",
    "plt.plot(training_history_loss, label='Training Loss')\n",
    "plt.plot(validation_history_loss, label='Validation Loss')\n",
    "plt.legend()\n",
    "plt.xlabel('Epochs')\n",
    "plt.ylabel('Loss')\n",
    "plt.title('Training and Validation Loss')\n",
    "plt.savefig('cnn_2_loss.png')\n",
    "plt.close()\n",
    "\n",
    "# Saving plot for the training and validation accuracy \n",
    "plt.figure(figsize=(10, 6))\n",
    "plt.plot(train_history_accuracy, label='Training Accuracy')\n",
    "plt.plot(valid_history_accuracy, label='Validation Accuracy')\n",
    "plt.legend()\n",
    "plt.xlabel('Epochs')\n",
    "plt.ylabel('Accuracy')\n",
    "plt.title('Training and Validation Accuracy')\n",
    "plt.savefig('cnn_accuracy_2.png')\n",
    "plt.close()"
   ]
  },
  {
   "cell_type": "code",
   "execution_count": 7,
   "id": "354ffd68",
   "metadata": {
    "execution": {
     "iopub.execute_input": "2024-08-31T00:50:45.403638Z",
     "iopub.status.busy": "2024-08-31T00:50:45.403351Z",
     "iopub.status.idle": "2024-08-31T00:50:45.623884Z",
     "shell.execute_reply": "2024-08-31T00:50:45.622949Z"
    },
    "papermill": {
     "duration": 0.228461,
     "end_time": "2024-08-31T00:50:45.625964",
     "exception": false,
     "start_time": "2024-08-31T00:50:45.397503",
     "status": "completed"
    },
    "tags": []
   },
   "outputs": [
    {
     "name": "stderr",
     "output_type": "stream",
     "text": [
      "/tmp/ipykernel_23/1665076068.py:2: FutureWarning: You are using `torch.load` with `weights_only=False` (the current default value), which uses the default pickle module implicitly. It is possible to construct malicious pickle data which will execute arbitrary code during unpickling (See https://github.com/pytorch/pytorch/blob/main/SECURITY.md#untrusted-models for more details). In a future release, the default value for `weights_only` will be flipped to `True`. This limits the functions that could be executed during unpickling. Arbitrary objects will no longer be allowed to be loaded via this mode unless they are explicitly allowlisted by the user via `torch.serialization.add_safe_globals`. We recommend you start setting `weights_only=True` for any use case where you don't have full control of the loaded file. Please open an issue on GitHub for any issues related to this experimental feature.\n",
      "  model.load_state_dict(torch.load('cnn_2.pth')) # loading the best model\n"
     ]
    }
   ],
   "source": [
    "# Making the predictions for the training & validation for metric logging\n",
    "model.load_state_dict(torch.load('cnn_2.pth')) # loading the best model\n",
    "model.eval()\n",
    "model.to(device)\n",
    "train_pred = []\n",
    "valid_pred = []\n",
    "train_truth = []\n",
    "valid_truth = []"
   ]
  },
  {
   "cell_type": "code",
   "execution_count": 8,
   "id": "fb345869",
   "metadata": {
    "execution": {
     "iopub.execute_input": "2024-08-31T00:50:45.637173Z",
     "iopub.status.busy": "2024-08-31T00:50:45.636842Z",
     "iopub.status.idle": "2024-08-31T00:52:58.121945Z",
     "shell.execute_reply": "2024-08-31T00:52:58.120869Z"
    },
    "papermill": {
     "duration": 132.498046,
     "end_time": "2024-08-31T00:52:58.129084",
     "exception": false,
     "start_time": "2024-08-31T00:50:45.631038",
     "status": "completed"
    },
    "tags": []
   },
   "outputs": [
    {
     "name": "stdout",
     "output_type": "stream",
     "text": [
      "{'model_id': '9', 'model_name': 'CNN_2', 'train_CE_loss': 0.12297772324871244, 'train_acc': 0.9836556456643792, 'validation_CE_loss': 1.6516562125279566, 'validation_acc': 0.4901103476993546}\n"
     ]
    }
   ],
   "source": [
    "# Running through data loaders to store the predictions\n",
    "with torch.no_grad():\n",
    "    for X_batch, y_batch in train_loader:\n",
    "        X_batch = X_batch.to(device)\n",
    "        y_pred = torch.nn.functional.softmax(model(X_batch),dim=1)\n",
    "        train_pred.extend(y_pred.detach().cpu().numpy())\n",
    "        train_truth.extend(y_batch.numpy())\n",
    "\n",
    "    for X_batch, y_batch in valid_loader:\n",
    "        X_batch = X_batch.to(device)\n",
    "        y_pred = torch.nn.functional.softmax(model(X_batch),dim=1)\n",
    "        valid_pred.extend(y_pred.detach().cpu().numpy())\n",
    "        valid_truth.extend(y_batch.numpy())\n",
    "\n",
    "# Printing out the metrics \n",
    "metrics = calculate_metrics('9',\"CNN_2\",train_truth,np.array(train_pred),valid_truth,np.array(valid_pred))\n",
    "print(metrics)"
   ]
  }
 ],
 "metadata": {
  "kaggle": {
   "accelerator": "nvidiaTeslaT4",
   "dataSources": [
    {
     "databundleVersionId": 868335,
     "sourceId": 5048,
     "sourceType": "competition"
    },
    {
     "datasetId": 5613929,
     "sourceId": 9275719,
     "sourceType": "datasetVersion"
    }
   ],
   "dockerImageVersionId": 30762,
   "isGpuEnabled": true,
   "isInternetEnabled": true,
   "language": "python",
   "sourceType": "notebook"
  },
  "kernelspec": {
   "display_name": "Python 3",
   "language": "python",
   "name": "python3"
  },
  "language_info": {
   "codemirror_mode": {
    "name": "ipython",
    "version": 3
   },
   "file_extension": ".py",
   "mimetype": "text/x-python",
   "name": "python",
   "nbconvert_exporter": "python",
   "pygments_lexer": "ipython3",
   "version": "3.10.14"
  },
  "papermill": {
   "default_parameters": {},
   "duration": 2327.534085,
   "end_time": "2024-08-31T00:53:00.476882",
   "environment_variables": {},
   "exception": null,
   "input_path": "__notebook__.ipynb",
   "output_path": "__notebook__.ipynb",
   "parameters": {},
   "start_time": "2024-08-31T00:14:12.942797",
   "version": "2.6.0"
  }
 },
 "nbformat": 4,
 "nbformat_minor": 5
}
