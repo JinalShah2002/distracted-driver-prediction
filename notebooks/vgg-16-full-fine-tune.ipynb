{
 "cells": [
  {
   "cell_type": "markdown",
   "id": "509ad7de",
   "metadata": {
    "_cell_guid": "b1076dfc-b9ad-4769-8c92-a6c4dae69d19",
    "_uuid": "8f2839f25d086af736a60e9eeb907d3b93b6e0e5",
    "papermill": {
     "duration": 0.004001,
     "end_time": "2024-09-09T17:15:50.358207",
     "exception": false,
     "start_time": "2024-09-09T17:15:50.354206",
     "status": "completed"
    },
    "tags": []
   },
   "source": [
    "# VGG-16 Full Fine Tune\n",
    "\n",
    "Papers [Are You Paying Attention? Detecting Distracted Driving in Real-Time](https://ieeexplore.ieee.org/document/8919430) and [Detection of Distracted Driver using Convolutional Neural Network](https://openaccess.thecvf.com/content_cvpr_2018_workshops/papers/w14/Baheti_Detection_of_Distracted_CVPR_2018_paper.pdf) illustrate how VGG-16 can produce high quality predictions. In this notebook, I perform a full fine-tuning of VGG-16."
   ]
  },
  {
   "cell_type": "code",
   "execution_count": 1,
   "id": "97641f8f",
   "metadata": {
    "execution": {
     "iopub.execute_input": "2024-09-09T17:15:50.367822Z",
     "iopub.status.busy": "2024-09-09T17:15:50.366739Z",
     "iopub.status.idle": "2024-09-09T17:16:02.513921Z",
     "shell.execute_reply": "2024-09-09T17:16:02.513097Z"
    },
    "papermill": {
     "duration": 12.154543,
     "end_time": "2024-09-09T17:16:02.516340",
     "exception": false,
     "start_time": "2024-09-09T17:15:50.361797",
     "status": "completed"
    },
    "tags": []
   },
   "outputs": [],
   "source": [
    "# Imports\n",
    "import pandas as pd\n",
    "import numpy as np \n",
    "import matplotlib.pyplot as plt\n",
    "import torch\n",
    "import torch.nn as nn\n",
    "from torch.utils.data import Dataset, DataLoader\n",
    "from torchvision.transforms import v2\n",
    "from torchvision.models import vgg16_bn\n",
    "from sklearn.metrics import log_loss, accuracy_score"
   ]
  },
  {
   "cell_type": "markdown",
   "id": "d55c2f39",
   "metadata": {
    "papermill": {
     "duration": 0.003214,
     "end_time": "2024-09-09T17:16:02.523299",
     "exception": false,
     "start_time": "2024-09-09T17:16:02.520085",
     "status": "completed"
    },
    "tags": []
   },
   "source": [
    "## Classes & Functions"
   ]
  },
  {
   "cell_type": "code",
   "execution_count": 2,
   "id": "c2b4ee17",
   "metadata": {
    "execution": {
     "iopub.execute_input": "2024-09-09T17:16:02.531319Z",
     "iopub.status.busy": "2024-09-09T17:16:02.530827Z",
     "iopub.status.idle": "2024-09-09T17:16:02.540092Z",
     "shell.execute_reply": "2024-09-09T17:16:02.539312Z"
    },
    "papermill": {
     "duration": 0.015569,
     "end_time": "2024-09-09T17:16:02.542073",
     "exception": false,
     "start_time": "2024-09-09T17:16:02.526504",
     "status": "completed"
    },
    "tags": []
   },
   "outputs": [],
   "source": [
    "class StateFarmDD(Dataset):\n",
    "    # Constructor\n",
    "    def __init__(self,annotations_path,path_prefix='../data/imgs/train',transform_pipeline=None):\n",
    "        self.annotations = pd.read_csv(annotations_path)\n",
    "        self.transformation_pipeline = transform_pipeline\n",
    "        self.path_prefix = path_prefix\n",
    "        self.label_to_int_dict = {'c0':0,'c1':1,'c2':2,'c3':3,'c4':4,'c5':5,'c6':6,'c7':7,'c8':8,'c9':9}\n",
    "    \n",
    "    # Method to get the length of the dataset\n",
    "    def __len__(self):\n",
    "        return len(self.annotations)\n",
    "    \n",
    "    # Method to get the item at a particular index\n",
    "    def __getitem__(self,index):\n",
    "        label = self.annotations.iloc[index,1]\n",
    "        image_name = self.annotations.iloc[index,2]\n",
    "        image = plt.imread(f'{self.path_prefix}/{label}/{image_name}')\n",
    "\n",
    "        # Throwing image through pipeline if it exists\n",
    "        if self.transformation_pipeline:\n",
    "            transformed_image = self.transformation_pipeline(image.copy()).squeeze(0)\n",
    "            return transformed_image, self.label_to_int_dict[label]\n",
    "        else:\n",
    "            return image, self.label_to_int_dict[label]"
   ]
  },
  {
   "cell_type": "code",
   "execution_count": 3,
   "id": "bb040f5f",
   "metadata": {
    "execution": {
     "iopub.execute_input": "2024-09-09T17:16:02.550397Z",
     "iopub.status.busy": "2024-09-09T17:16:02.550051Z",
     "iopub.status.idle": "2024-09-09T17:16:02.556578Z",
     "shell.execute_reply": "2024-09-09T17:16:02.555695Z"
    },
    "papermill": {
     "duration": 0.013076,
     "end_time": "2024-09-09T17:16:02.558669",
     "exception": false,
     "start_time": "2024-09-09T17:16:02.545593",
     "status": "completed"
    },
    "tags": []
   },
   "outputs": [],
   "source": [
    "# Function to calculate the metrics\n",
    "def calculate_metrics(model_id,model_name,training_targets,training_predictions,val_targets,val_predictions):\n",
    "\n",
    "    # Getting the metrics\n",
    "    train_CE_loss = log_loss(training_targets,training_predictions)\n",
    "    validation_CE_loss = log_loss(val_targets,val_predictions)\n",
    "\n",
    "    # Getting the accuracy\n",
    "    train_class_preds = np.array(training_predictions).argmax(axis=1)\n",
    "    valid_class_preds = np.array(val_predictions).argmax(axis=1)\n",
    "    train_acc = accuracy_score(training_targets,train_class_preds)\n",
    "    valid_acc = accuracy_score(val_targets,valid_class_preds)\n",
    "\n",
    "    return {'model_id':model_id,'model_name':model_name,'train_CE_loss':train_CE_loss,\n",
    "            'train_acc':train_acc,'validation_CE_loss':validation_CE_loss,'validation_acc':valid_acc}"
   ]
  },
  {
   "cell_type": "markdown",
   "id": "0f087fed",
   "metadata": {
    "papermill": {
     "duration": 0.003426,
     "end_time": "2024-09-09T17:16:02.565777",
     "exception": false,
     "start_time": "2024-09-09T17:16:02.562351",
     "status": "completed"
    },
    "tags": []
   },
   "source": [
    "## Model Building & Training"
   ]
  },
  {
   "cell_type": "code",
   "execution_count": 4,
   "id": "2ccf24e5",
   "metadata": {
    "execution": {
     "iopub.execute_input": "2024-09-09T17:16:02.574170Z",
     "iopub.status.busy": "2024-09-09T17:16:02.573831Z",
     "iopub.status.idle": "2024-09-09T17:16:02.639996Z",
     "shell.execute_reply": "2024-09-09T17:16:02.639124Z"
    },
    "papermill": {
     "duration": 0.07332,
     "end_time": "2024-09-09T17:16:02.642594",
     "exception": false,
     "start_time": "2024-09-09T17:16:02.569274",
     "status": "completed"
    },
    "tags": []
   },
   "outputs": [],
   "source": [
    "# Getting the data\n",
    "training_path = '/kaggle/input/statefarmdd/training.csv'\n",
    "validation_path = '/kaggle/input/statefarmdd/validation.csv'\n",
    "\n",
    "# Creating the Datasets\n",
    "transformation_pipeline = v2.Compose([\n",
    "    v2.Resize(256),\n",
    "    v2.CenterCrop(224),\n",
    "    v2.ToImage(), \n",
    "    v2.ToDtype(torch.float32, scale=True),\n",
    "    v2.Normalize(mean=[0.485, 0.456, 0.406], std=[0.229, 0.224, 0.225]),\n",
    "])\n",
    "train_dataset = StateFarmDD(training_path, path_prefix='/kaggle/input/state-farm-distracted-driver-detection/imgs/train',transform_pipeline=transformation_pipeline)\n",
    "valid_dataset = StateFarmDD(validation_path, path_prefix='/kaggle/input/state-farm-distracted-driver-detection/imgs/train',transform_pipeline=transformation_pipeline)\n",
    "train_loader = DataLoader(train_dataset, batch_size=16, shuffle=True)\n",
    "valid_loader = DataLoader(valid_dataset, batch_size=16, shuffle=True)"
   ]
  },
  {
   "cell_type": "code",
   "execution_count": 5,
   "id": "dad9370e",
   "metadata": {
    "execution": {
     "iopub.execute_input": "2024-09-09T17:16:02.653244Z",
     "iopub.status.busy": "2024-09-09T17:16:02.652188Z",
     "iopub.status.idle": "2024-09-10T01:35:24.310855Z",
     "shell.execute_reply": "2024-09-10T01:35:24.309792Z"
    },
    "papermill": {
     "duration": 29961.673755,
     "end_time": "2024-09-10T01:35:24.320698",
     "exception": false,
     "start_time": "2024-09-09T17:16:02.646943",
     "status": "completed"
    },
    "tags": []
   },
   "outputs": [
    {
     "name": "stderr",
     "output_type": "stream",
     "text": [
      "Downloading: \"https://download.pytorch.org/models/vgg16_bn-6c64b313.pth\" to /root/.cache/torch/hub/checkpoints/vgg16_bn-6c64b313.pth\n",
      "100%|██████████| 528M/528M [00:02<00:00, 198MB/s]\n"
     ]
    },
    {
     "name": "stdout",
     "output_type": "stream",
     "text": [
      "-----------------------------------\n",
      "Epoch 0\n",
      "Training Loss: 1.8226\n",
      "Validation Loss: 2.2201\n",
      "Training Accuracy: 36.0948%\n",
      "Validation Accuracy: 20.8411%\n",
      "\n",
      "Best Validation Loss: 2.2201\n",
      "Best Epoch: 0\n",
      "-----------------------------------\n",
      "\n",
      "-----------------------------------\n",
      "Epoch 1\n",
      "Training Loss: 1.4176\n",
      "Validation Loss: 1.9727\n",
      "Training Accuracy: 47.7355%\n",
      "Validation Accuracy: 30.0298%\n",
      "\n",
      "Best Validation Loss: 1.9727\n",
      "Best Epoch: 1\n",
      "-----------------------------------\n",
      "\n",
      "-----------------------------------\n",
      "Epoch 2\n",
      "Training Loss: 1.2866\n",
      "Validation Loss: 1.8224\n",
      "Training Accuracy: 51.5159%\n",
      "Validation Accuracy: 33.5068%\n",
      "\n",
      "Best Validation Loss: 1.8224\n",
      "Best Epoch: 2\n",
      "-----------------------------------\n",
      "\n",
      "-----------------------------------\n",
      "Epoch 3\n",
      "Training Loss: 1.2207\n",
      "Validation Loss: 1.7969\n",
      "Training Accuracy: 54.0736%\n",
      "Validation Accuracy: 34.3258%\n",
      "\n",
      "Best Validation Loss: 1.7969\n",
      "Best Epoch: 3\n",
      "-----------------------------------\n",
      "\n",
      "-----------------------------------\n",
      "Epoch 4\n",
      "Training Loss: 1.1405\n",
      "Validation Loss: 1.8038\n",
      "Training Accuracy: 57.6294%\n",
      "Validation Accuracy: 37.2129%\n",
      "\n",
      "Best Validation Loss: 1.7969\n",
      "Best Epoch: 3\n",
      "-----------------------------------\n",
      "\n",
      "-----------------------------------\n",
      "Epoch 5\n",
      "Training Loss: 1.0653\n",
      "Validation Loss: 2.207\n",
      "Training Accuracy: 62.4953%\n",
      "Validation Accuracy: 29.7731%\n",
      "\n",
      "Best Validation Loss: 1.7969\n",
      "Best Epoch: 3\n",
      "-----------------------------------\n",
      "\n",
      "-----------------------------------\n",
      "Epoch 6\n",
      "Training Loss: 0.9528\n",
      "Validation Loss: 3.2306\n",
      "Training Accuracy: 68.6837%\n",
      "Validation Accuracy: 36.1233%\n",
      "\n",
      "Best Validation Loss: 1.7969\n",
      "Best Epoch: 3\n",
      "-----------------------------------\n",
      "\n",
      "-----------------------------------\n",
      "Epoch 7\n",
      "Training Loss: 0.8035\n",
      "Validation Loss: 1.7774\n",
      "Training Accuracy: 74.2857%\n",
      "Validation Accuracy: 43.8962%\n",
      "\n",
      "Best Validation Loss: 1.7774\n",
      "Best Epoch: 7\n",
      "-----------------------------------\n",
      "\n",
      "-----------------------------------\n",
      "Epoch 8\n",
      "Training Loss: 0.7418\n",
      "Validation Loss: 2.3785\n",
      "Training Accuracy: 76.1198%\n",
      "Validation Accuracy: 38.011%\n",
      "\n",
      "Best Validation Loss: 1.7774\n",
      "Best Epoch: 7\n",
      "-----------------------------------\n",
      "\n",
      "-----------------------------------\n",
      "Epoch 9\n",
      "Training Loss: 0.7078\n",
      "Validation Loss: 1.6622\n",
      "Training Accuracy: 77.7792%\n",
      "Validation Accuracy: 46.0198%\n",
      "\n",
      "Best Validation Loss: 1.6622\n",
      "Best Epoch: 9\n",
      "-----------------------------------\n",
      "\n",
      "-----------------------------------\n",
      "Epoch 10\n",
      "Training Loss: 0.6667\n",
      "Validation Loss: 2.1449\n",
      "Training Accuracy: 79.713%\n",
      "Validation Accuracy: 38.011%\n",
      "\n",
      "Best Validation Loss: 1.6622\n",
      "Best Epoch: 9\n",
      "-----------------------------------\n",
      "\n",
      "-----------------------------------\n",
      "Epoch 11\n",
      "Training Loss: 0.6358\n",
      "Validation Loss: 1.5908\n",
      "Training Accuracy: 81.1978%\n",
      "Validation Accuracy: 50.753%\n",
      "\n",
      "Best Validation Loss: 1.5908\n",
      "Best Epoch: 11\n",
      "-----------------------------------\n",
      "\n",
      "-----------------------------------\n",
      "Epoch 12\n",
      "Training Loss: 0.613\n",
      "Validation Loss: 1.5888\n",
      "Training Accuracy: 81.8465%\n",
      "Validation Accuracy: 47.3523%\n",
      "\n",
      "Best Validation Loss: 1.5888\n",
      "Best Epoch: 12\n",
      "-----------------------------------\n",
      "\n",
      "-----------------------------------\n",
      "Epoch 13\n",
      "Training Loss: 0.5925\n",
      "Validation Loss: 1.7536\n",
      "Training Accuracy: 82.9445%\n",
      "Validation Accuracy: 38.816%\n",
      "\n",
      "Best Validation Loss: 1.5888\n",
      "Best Epoch: 12\n",
      "-----------------------------------\n",
      "\n",
      "-----------------------------------\n",
      "Epoch 14\n",
      "Training Loss: 0.5972\n",
      "Validation Loss: 1.6843\n",
      "Training Accuracy: 83.0692%\n",
      "Validation Accuracy: 43.2924%\n",
      "\n",
      "Best Validation Loss: 1.5888\n",
      "Best Epoch: 12\n",
      "-----------------------------------\n",
      "\n",
      "-----------------------------------\n",
      "Epoch 15\n",
      "Training Loss: 0.5662\n",
      "Validation Loss: 1.6179\n",
      "Training Accuracy: 83.6307%\n",
      "Validation Accuracy: 49.1568%\n",
      "\n",
      "Best Validation Loss: 1.5888\n",
      "Best Epoch: 12\n",
      "-----------------------------------\n",
      "\n",
      "-----------------------------------\n",
      "Epoch 16\n",
      "Training Loss: 0.5649\n",
      "Validation Loss: 1.9436\n",
      "Training Accuracy: 84.529%\n",
      "Validation Accuracy: 40.4469%\n",
      "\n",
      "Best Validation Loss: 1.5888\n",
      "Best Epoch: 12\n",
      "-----------------------------------\n",
      "\n",
      "Stopping training due to early stopping!!!\n"
     ]
    }
   ],
   "source": [
    "# Defining the model\n",
    "model = vgg16_bn(weights='DEFAULT')\n",
    "model.classifier[6] = nn.Linear(model.classifier[6].in_features, 10)\n",
    "\n",
    "# Making sure all parameters are set to true for fine-tuning\n",
    "for param in model.parameters():\n",
    "    param.requires_grad = True\n",
    "    \n",
    "# Training the model\n",
    "model_name = 'vgg16_5'\n",
    "model_number = 19\n",
    "device = torch.device(\"cuda\" if torch.cuda.is_available() else \"cpu\")\n",
    "model.to(device)\n",
    "loss_fn = torch.nn.CrossEntropyLoss(reduction='sum').to(device)\n",
    "optimizer = torch.optim.Adam(model.parameters(), lr=0.001,weight_decay=1.5)\n",
    "training_history_loss = []\n",
    "validation_history_loss = []\n",
    "train_history_accuracy = []\n",
    "valid_history_accuracy = []\n",
    "epochs = 100\n",
    "current_count = 0\n",
    "early_stopping_threshold = 1e-4\n",
    "early_stopping_count = 5\n",
    "best_val_loss = float('inf')\n",
    "best_epoch = -1\n",
    "\n",
    "# Training the model\n",
    "for epoch in range(epochs):\n",
    "    model.train()\n",
    "    train_loss = 0\n",
    "    valid_loss = 0\n",
    "    train_accuracy = 0\n",
    "    valid_accuracy = 0\n",
    "    for X_batch, y_batch in train_loader:\n",
    "        X_batch, y_batch = X_batch.to(device), y_batch.to(device)\n",
    "        y_pred = model(X_batch)\n",
    "        loss = loss_fn(y_pred, y_batch)\n",
    "        train_loss += loss.item()\n",
    "        optimizer.zero_grad()\n",
    "        loss.backward()\n",
    "        optimizer.step()\n",
    "\n",
    "        # Computing the accuracy\n",
    "        y_pred_labels = torch.argmax(y_pred, dim=1)\n",
    "        train_accuracy += torch.sum(y_pred_labels == y_batch).item()\n",
    "\n",
    "    model.eval()\n",
    "    with torch.no_grad():\n",
    "        for X_batch, y_batch in valid_loader:\n",
    "            X_batch, y_batch = X_batch.to(device), y_batch.to(device)\n",
    "            y_pred = model(X_batch)\n",
    "            loss = loss_fn(y_pred, y_batch)\n",
    "            valid_loss += loss.item()\n",
    "\n",
    "            # Computing the accuracy\n",
    "            y_pred_labels = torch.argmax(y_pred, dim=1)\n",
    "            valid_accuracy += torch.sum(y_pred_labels == y_batch).item()\n",
    "    \n",
    "    train_loss /= len(train_loader.dataset)\n",
    "    valid_loss /= len(valid_loader.dataset)\n",
    "    train_accuracy /= len(train_loader.dataset)\n",
    "    valid_accuracy /= len(valid_loader.dataset)\n",
    "    training_history_loss.append(train_loss)\n",
    "    validation_history_loss.append(valid_loss)\n",
    "    train_history_accuracy.append(train_accuracy)\n",
    "    valid_history_accuracy.append(valid_accuracy)\n",
    "    \n",
    "    # Early stopping\n",
    "    if epoch > 0:\n",
    "        if validation_history_loss[-1] - best_val_loss > early_stopping_threshold:\n",
    "            current_count += 1\n",
    "        else:\n",
    "            best_val_loss = validation_history_loss[-1]\n",
    "            best_epoch = epoch\n",
    "            current_count = 0\n",
    "    else:\n",
    "        best_val_loss = validation_history_loss[-1]\n",
    "        best_epoch = epoch\n",
    "        \n",
    "    if current_count == early_stopping_count:\n",
    "        print('Stopping training due to early stopping!!!')\n",
    "        break\n",
    "    elif current_count == 0:\n",
    "        # Saving the best model\n",
    "        model.to('cpu')\n",
    "        torch.save(model.state_dict(), f'{model_name}.pth')\n",
    "        model.to(device)\n",
    "    print('-----------------------------------')\n",
    "    print(f'Epoch {epoch}')\n",
    "    print(f'Training Loss: {round(train_loss,4)}')\n",
    "    print(f'Validation Loss: {round(valid_loss,4)}')\n",
    "    print(f'Training Accuracy: {round(train_accuracy*100,4)}%')\n",
    "    print(f'Validation Accuracy: {round(valid_accuracy*100,4)}%')\n",
    "    print()\n",
    "    print(f'Best Validation Loss: {round(best_val_loss,4)}')\n",
    "    print(f'Best Epoch: {best_epoch}')\n",
    "    print('-----------------------------------')\n",
    "    print()"
   ]
  },
  {
   "cell_type": "code",
   "execution_count": 6,
   "id": "4f73e380",
   "metadata": {
    "execution": {
     "iopub.execute_input": "2024-09-10T01:35:24.337796Z",
     "iopub.status.busy": "2024-09-10T01:35:24.337462Z",
     "iopub.status.idle": "2024-09-10T01:35:24.926624Z",
     "shell.execute_reply": "2024-09-10T01:35:24.925810Z"
    },
    "papermill": {
     "duration": 0.600526,
     "end_time": "2024-09-10T01:35:24.929006",
     "exception": false,
     "start_time": "2024-09-10T01:35:24.328480",
     "status": "completed"
    },
    "tags": []
   },
   "outputs": [],
   "source": [
    "# Saving Plots for the training and validation loss\n",
    "plt.figure(figsize=(10, 6))\n",
    "plt.plot(training_history_loss, label='Training Loss')\n",
    "plt.plot(validation_history_loss, label='Validation Loss')\n",
    "plt.legend()\n",
    "plt.xlabel('Epochs')\n",
    "plt.ylabel('Loss')\n",
    "plt.title('Training and Validation Loss')\n",
    "plt.savefig(f'{model_name}_loss.png')\n",
    "plt.close()\n",
    "\n",
    "# Saving plot for the training and validation accuracy \n",
    "plt.figure(figsize=(10, 6))\n",
    "plt.plot(train_history_accuracy, label='Training Accuracy')\n",
    "plt.plot(valid_history_accuracy, label='Validation Accuracy')\n",
    "plt.legend()\n",
    "plt.xlabel('Epochs')\n",
    "plt.ylabel('Accuracy')\n",
    "plt.title('Training and Validation Accuracy')\n",
    "plt.savefig(f'{model_name}_accuracy.png')\n",
    "plt.close()"
   ]
  },
  {
   "cell_type": "code",
   "execution_count": 7,
   "id": "57e9d08e",
   "metadata": {
    "execution": {
     "iopub.execute_input": "2024-09-10T01:35:24.946284Z",
     "iopub.status.busy": "2024-09-10T01:35:24.945879Z",
     "iopub.status.idle": "2024-09-10T01:35:25.380118Z",
     "shell.execute_reply": "2024-09-10T01:35:25.379267Z"
    },
    "papermill": {
     "duration": 0.445656,
     "end_time": "2024-09-10T01:35:25.382559",
     "exception": false,
     "start_time": "2024-09-10T01:35:24.936903",
     "status": "completed"
    },
    "tags": []
   },
   "outputs": [
    {
     "name": "stderr",
     "output_type": "stream",
     "text": [
      "/tmp/ipykernel_23/1877011205.py:2: FutureWarning: You are using `torch.load` with `weights_only=False` (the current default value), which uses the default pickle module implicitly. It is possible to construct malicious pickle data which will execute arbitrary code during unpickling (See https://github.com/pytorch/pytorch/blob/main/SECURITY.md#untrusted-models for more details). In a future release, the default value for `weights_only` will be flipped to `True`. This limits the functions that could be executed during unpickling. Arbitrary objects will no longer be allowed to be loaded via this mode unless they are explicitly allowlisted by the user via `torch.serialization.add_safe_globals`. We recommend you start setting `weights_only=True` for any use case where you don't have full control of the loaded file. Please open an issue on GitHub for any issues related to this experimental feature.\n",
      "  model.load_state_dict(torch.load(f'{model_name}.pth')) # loading the best model\n"
     ]
    }
   ],
   "source": [
    "# Making the predictions for the training & validation for metric logging\n",
    "model.load_state_dict(torch.load(f'{model_name}.pth')) # loading the best model\n",
    "model.eval()\n",
    "model.to(device)\n",
    "train_pred = []\n",
    "valid_pred = []\n",
    "train_truth = []\n",
    "valid_truth = []"
   ]
  },
  {
   "cell_type": "code",
   "execution_count": 8,
   "id": "f02cd944",
   "metadata": {
    "execution": {
     "iopub.execute_input": "2024-09-10T01:35:25.400039Z",
     "iopub.status.busy": "2024-09-10T01:35:25.399668Z",
     "iopub.status.idle": "2024-09-10T01:50:01.950556Z",
     "shell.execute_reply": "2024-09-10T01:50:01.949383Z"
    },
    "papermill": {
     "duration": 876.570813,
     "end_time": "2024-09-10T01:50:01.961488",
     "exception": false,
     "start_time": "2024-09-10T01:35:25.390675",
     "status": "completed"
    },
    "tags": []
   },
   "outputs": [
    {
     "name": "stdout",
     "output_type": "stream",
     "text": [
      "{'model_id': 19, 'model_name': 'vgg16_5', 'train_CE_loss': 0.9348567149995235, 'train_acc': 0.827573300062383, 'validation_CE_loss': 1.5888413385167652, 'validation_acc': 0.4735234922617808}\n"
     ]
    }
   ],
   "source": [
    "# Running through data loaders to store the predictions\n",
    "with torch.no_grad():\n",
    "    for X_batch, y_batch in train_loader:\n",
    "        X_batch = X_batch.to(device)\n",
    "        y_pred = torch.nn.functional.softmax(model(X_batch),dim=1)\n",
    "        train_pred.extend(y_pred.detach().cpu().numpy())\n",
    "        train_truth.extend(y_batch.numpy())\n",
    "\n",
    "    for X_batch, y_batch in valid_loader:\n",
    "        X_batch = X_batch.to(device)\n",
    "        y_pred = torch.nn.functional.softmax(model(X_batch),dim=1)\n",
    "        valid_pred.extend(y_pred.detach().cpu().numpy())\n",
    "        valid_truth.extend(y_batch.numpy())\n",
    "\n",
    "# Printing out the metrics \n",
    "metrics = calculate_metrics(model_number,f'{model_name}',train_truth,np.array(train_pred),valid_truth,np.array(valid_pred))\n",
    "print(metrics)"
   ]
  }
 ],
 "metadata": {
  "kaggle": {
   "accelerator": "nvidiaTeslaT4",
   "dataSources": [
    {
     "databundleVersionId": 868335,
     "sourceId": 5048,
     "sourceType": "competition"
    },
    {
     "datasetId": 5613929,
     "sourceId": 9275719,
     "sourceType": "datasetVersion"
    }
   ],
   "dockerImageVersionId": 30762,
   "isGpuEnabled": true,
   "isInternetEnabled": true,
   "language": "python",
   "sourceType": "notebook"
  },
  "kernelspec": {
   "display_name": "Python 3",
   "language": "python",
   "name": "python3"
  },
  "language_info": {
   "codemirror_mode": {
    "name": "ipython",
    "version": 3
   },
   "file_extension": ".py",
   "mimetype": "text/x-python",
   "name": "python",
   "nbconvert_exporter": "python",
   "pygments_lexer": "ipython3",
   "version": "3.10.14"
  },
  "papermill": {
   "default_parameters": {},
   "duration": 30858.28768,
   "end_time": "2024-09-10T01:50:04.470269",
   "environment_variables": {},
   "exception": null,
   "input_path": "__notebook__.ipynb",
   "output_path": "__notebook__.ipynb",
   "parameters": {},
   "start_time": "2024-09-09T17:15:46.182589",
   "version": "2.6.0"
  }
 },
 "nbformat": 4,
 "nbformat_minor": 5
}
