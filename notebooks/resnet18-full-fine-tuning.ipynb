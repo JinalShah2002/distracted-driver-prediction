{
 "cells": [
  {
   "cell_type": "markdown",
   "id": "fa693075",
   "metadata": {
    "_cell_guid": "b1076dfc-b9ad-4769-8c92-a6c4dae69d19",
    "_uuid": "8f2839f25d086af736a60e9eeb907d3b93b6e0e5",
    "papermill": {
     "duration": 0.004409,
     "end_time": "2024-09-11T01:41:57.520375",
     "exception": false,
     "start_time": "2024-09-11T01:41:57.515966",
     "status": "completed"
    },
    "tags": []
   },
   "source": [
    "# ResNet18-2"
   ]
  },
  {
   "cell_type": "code",
   "execution_count": 1,
   "id": "52a8aca2",
   "metadata": {
    "execution": {
     "iopub.execute_input": "2024-09-11T01:41:57.530904Z",
     "iopub.status.busy": "2024-09-11T01:41:57.529839Z",
     "iopub.status.idle": "2024-09-11T01:42:05.007119Z",
     "shell.execute_reply": "2024-09-11T01:42:05.006108Z"
    },
    "papermill": {
     "duration": 7.485436,
     "end_time": "2024-09-11T01:42:05.009915",
     "exception": false,
     "start_time": "2024-09-11T01:41:57.524479",
     "status": "completed"
    },
    "tags": []
   },
   "outputs": [],
   "source": [
    "# Imports\n",
    "import pandas as pd\n",
    "import numpy as np \n",
    "import matplotlib.pyplot as plt\n",
    "import torch\n",
    "import torch.nn as nn\n",
    "from torch.utils.data import Dataset, DataLoader\n",
    "from torchvision.transforms import v2\n",
    "from torchvision.models import resnet18\n",
    "from sklearn.metrics import log_loss, accuracy_score"
   ]
  },
  {
   "cell_type": "markdown",
   "id": "724dde49",
   "metadata": {
    "papermill": {
     "duration": 0.003907,
     "end_time": "2024-09-11T01:42:05.017959",
     "exception": false,
     "start_time": "2024-09-11T01:42:05.014052",
     "status": "completed"
    },
    "tags": []
   },
   "source": [
    "## Classes & Functions"
   ]
  },
  {
   "cell_type": "code",
   "execution_count": 2,
   "id": "92f3a232",
   "metadata": {
    "execution": {
     "iopub.execute_input": "2024-09-11T01:42:05.027860Z",
     "iopub.status.busy": "2024-09-11T01:42:05.027255Z",
     "iopub.status.idle": "2024-09-11T01:42:05.037279Z",
     "shell.execute_reply": "2024-09-11T01:42:05.036243Z"
    },
    "papermill": {
     "duration": 0.017615,
     "end_time": "2024-09-11T01:42:05.039588",
     "exception": false,
     "start_time": "2024-09-11T01:42:05.021973",
     "status": "completed"
    },
    "tags": []
   },
   "outputs": [],
   "source": [
    "class StateFarmDD(Dataset):\n",
    "    # Constructor\n",
    "    def __init__(self,annotations_path,path_prefix='../data/imgs/train',transform_pipeline=None):\n",
    "        self.annotations = pd.read_csv(annotations_path)\n",
    "        self.transformation_pipeline = transform_pipeline\n",
    "        self.path_prefix = path_prefix\n",
    "        self.label_to_int_dict = {'c0':0,'c1':1,'c2':2,'c3':3,'c4':4,'c5':5,'c6':6,'c7':7,'c8':8,'c9':9}\n",
    "    \n",
    "    # Method to get the length of the dataset\n",
    "    def __len__(self):\n",
    "        return len(self.annotations)\n",
    "    \n",
    "    # Method to get the item at a particular index\n",
    "    def __getitem__(self,index):\n",
    "        label = self.annotations.iloc[index,1]\n",
    "        image_name = self.annotations.iloc[index,2]\n",
    "        image = plt.imread(f'{self.path_prefix}/{label}/{image_name}')\n",
    "\n",
    "        # Throwing image through pipeline if it exists\n",
    "        if self.transformation_pipeline:\n",
    "            transformed_image = self.transformation_pipeline(image.copy()).squeeze(0)\n",
    "            return transformed_image, self.label_to_int_dict[label]\n",
    "        else:\n",
    "            return image, self.label_to_int_dict[label]"
   ]
  },
  {
   "cell_type": "code",
   "execution_count": 3,
   "id": "fa4dbbf2",
   "metadata": {
    "execution": {
     "iopub.execute_input": "2024-09-11T01:42:05.049042Z",
     "iopub.status.busy": "2024-09-11T01:42:05.048661Z",
     "iopub.status.idle": "2024-09-11T01:42:05.055696Z",
     "shell.execute_reply": "2024-09-11T01:42:05.054663Z"
    },
    "papermill": {
     "duration": 0.014286,
     "end_time": "2024-09-11T01:42:05.058005",
     "exception": false,
     "start_time": "2024-09-11T01:42:05.043719",
     "status": "completed"
    },
    "tags": []
   },
   "outputs": [],
   "source": [
    "# Function to calculate the metrics\n",
    "def calculate_metrics(model_id,model_name,training_targets,training_predictions,val_targets,val_predictions):\n",
    "\n",
    "    # Getting the metrics\n",
    "    train_CE_loss = log_loss(training_targets,training_predictions)\n",
    "    validation_CE_loss = log_loss(val_targets,val_predictions)\n",
    "\n",
    "    # Getting the accuracy\n",
    "    train_class_preds = np.array(training_predictions).argmax(axis=1)\n",
    "    valid_class_preds = np.array(val_predictions).argmax(axis=1)\n",
    "    train_acc = accuracy_score(training_targets,train_class_preds)\n",
    "    valid_acc = accuracy_score(val_targets,valid_class_preds)\n",
    "\n",
    "    return {'model_id':model_id,'model_name':model_name,'train_CE_loss':train_CE_loss,\n",
    "            'train_acc':train_acc,'validation_CE_loss':validation_CE_loss,'validation_acc':valid_acc}"
   ]
  },
  {
   "cell_type": "markdown",
   "id": "29c3f71d",
   "metadata": {
    "papermill": {
     "duration": 0.003662,
     "end_time": "2024-09-11T01:42:05.065554",
     "exception": false,
     "start_time": "2024-09-11T01:42:05.061892",
     "status": "completed"
    },
    "tags": []
   },
   "source": [
    "## Model Building & Training"
   ]
  },
  {
   "cell_type": "code",
   "execution_count": 4,
   "id": "cc92b428",
   "metadata": {
    "execution": {
     "iopub.execute_input": "2024-09-11T01:42:05.074913Z",
     "iopub.status.busy": "2024-09-11T01:42:05.074475Z",
     "iopub.status.idle": "2024-09-11T01:42:05.137158Z",
     "shell.execute_reply": "2024-09-11T01:42:05.136096Z"
    },
    "papermill": {
     "duration": 0.070317,
     "end_time": "2024-09-11T01:42:05.139669",
     "exception": false,
     "start_time": "2024-09-11T01:42:05.069352",
     "status": "completed"
    },
    "tags": []
   },
   "outputs": [],
   "source": [
    "# Getting the data\n",
    "training_path = '/kaggle/input/statefarmdd/training.csv'\n",
    "validation_path = '/kaggle/input/statefarmdd/validation.csv'\n",
    "\n",
    "# Creating the Datasets\n",
    "transformation_pipeline = v2.Compose([\n",
    "    v2.Resize(256),\n",
    "    v2.CenterCrop(224),\n",
    "    v2.ToImage(), \n",
    "    v2.ToDtype(torch.float32, scale=True),\n",
    "    v2.Normalize(mean=[0.485, 0.456, 0.406], std=[0.229, 0.224, 0.225]),\n",
    "])\n",
    "train_dataset = StateFarmDD(training_path, path_prefix='/kaggle/input/state-farm-distracted-driver-detection/imgs/train',transform_pipeline=transformation_pipeline)\n",
    "valid_dataset = StateFarmDD(validation_path, path_prefix='/kaggle/input/state-farm-distracted-driver-detection/imgs/train',transform_pipeline=transformation_pipeline)\n",
    "train_loader = DataLoader(train_dataset, batch_size=32, shuffle=True)\n",
    "valid_loader = DataLoader(valid_dataset, batch_size=32, shuffle=True)"
   ]
  },
  {
   "cell_type": "code",
   "execution_count": 5,
   "id": "f0b45ba8",
   "metadata": {
    "execution": {
     "iopub.execute_input": "2024-09-11T01:42:05.149702Z",
     "iopub.status.busy": "2024-09-11T01:42:05.148965Z",
     "iopub.status.idle": "2024-09-11T03:22:53.543705Z",
     "shell.execute_reply": "2024-09-11T03:22:53.542613Z"
    },
    "papermill": {
     "duration": 6048.408022,
     "end_time": "2024-09-11T03:22:53.551981",
     "exception": false,
     "start_time": "2024-09-11T01:42:05.143959",
     "status": "completed"
    },
    "tags": []
   },
   "outputs": [
    {
     "name": "stderr",
     "output_type": "stream",
     "text": [
      "Downloading: \"https://download.pytorch.org/models/resnet18-f37072fd.pth\" to /root/.cache/torch/hub/checkpoints/resnet18-f37072fd.pth\n",
      "100%|██████████| 44.7M/44.7M [00:00<00:00, 69.6MB/s]\n"
     ]
    },
    {
     "name": "stdout",
     "output_type": "stream",
     "text": [
      "-----------------------------------\n",
      "Epoch 0\n",
      "Training Loss: 2.0311\n",
      "Validation Loss: 2.1148\n",
      "Training Accuracy: 35.0967%\n",
      "Validation Accuracy: 24.7554%\n",
      "\n",
      "Best Validation Loss: 2.1148\n",
      "Best Epoch: 0\n",
      "-----------------------------------\n",
      "\n",
      "-----------------------------------\n",
      "Epoch 1\n",
      "Training Loss: 1.52\n",
      "Validation Loss: 1.9269\n",
      "Training Accuracy: 67.5733%\n",
      "Validation Accuracy: 37.5737%\n",
      "\n",
      "Best Validation Loss: 1.9269\n",
      "Best Epoch: 1\n",
      "-----------------------------------\n",
      "\n",
      "-----------------------------------\n",
      "Epoch 2\n",
      "Training Loss: 1.1717\n",
      "Validation Loss: 1.9182\n",
      "Training Accuracy: 82.2333%\n",
      "Validation Accuracy: 33.1668%\n",
      "\n",
      "Best Validation Loss: 1.9182\n",
      "Best Epoch: 2\n",
      "-----------------------------------\n",
      "\n",
      "-----------------------------------\n",
      "Epoch 3\n",
      "Training Loss: 0.946\n",
      "Validation Loss: 1.7753\n",
      "Training Accuracy: 87.7979%\n",
      "Validation Accuracy: 41.2173%\n",
      "\n",
      "Best Validation Loss: 1.7753\n",
      "Best Epoch: 3\n",
      "-----------------------------------\n",
      "\n",
      "-----------------------------------\n",
      "Epoch 4\n",
      "Training Loss: 0.7769\n",
      "Validation Loss: 1.7681\n",
      "Training Accuracy: 91.1167%\n",
      "Validation Accuracy: 38.2261%\n",
      "\n",
      "Best Validation Loss: 1.7681\n",
      "Best Epoch: 4\n",
      "-----------------------------------\n",
      "\n",
      "-----------------------------------\n",
      "Epoch 5\n",
      "Training Loss: 0.6592\n",
      "Validation Loss: 1.7784\n",
      "Training Accuracy: 92.6263%\n",
      "Validation Accuracy: 38.1914%\n",
      "\n",
      "Best Validation Loss: 1.7681\n",
      "Best Epoch: 4\n",
      "-----------------------------------\n",
      "\n",
      "-----------------------------------\n",
      "Epoch 6\n",
      "Training Loss: 0.5761\n",
      "Validation Loss: 1.7142\n",
      "Training Accuracy: 93.1004%\n",
      "Validation Accuracy: 41.5088%\n",
      "\n",
      "Best Validation Loss: 1.7142\n",
      "Best Epoch: 6\n",
      "-----------------------------------\n",
      "\n",
      "-----------------------------------\n",
      "Epoch 7\n",
      "Training Loss: 0.509\n",
      "Validation Loss: 1.7264\n",
      "Training Accuracy: 94.3606%\n",
      "Validation Accuracy: 40.8217%\n",
      "\n",
      "Best Validation Loss: 1.7142\n",
      "Best Epoch: 6\n",
      "-----------------------------------\n",
      "\n",
      "-----------------------------------\n",
      "Epoch 8\n",
      "Training Loss: 0.4526\n",
      "Validation Loss: 1.7227\n",
      "Training Accuracy: 94.4354%\n",
      "Validation Accuracy: 40.6204%\n",
      "\n",
      "Best Validation Loss: 1.7142\n",
      "Best Epoch: 6\n",
      "-----------------------------------\n",
      "\n",
      "-----------------------------------\n",
      "Epoch 9\n",
      "Training Loss: 0.4086\n",
      "Validation Loss: 1.6829\n",
      "Training Accuracy: 95.0468%\n",
      "Validation Accuracy: 42.4041%\n",
      "\n",
      "Best Validation Loss: 1.6829\n",
      "Best Epoch: 9\n",
      "-----------------------------------\n",
      "\n",
      "-----------------------------------\n",
      "Epoch 10\n",
      "Training Loss: 0.3717\n",
      "Validation Loss: 1.6465\n",
      "Training Accuracy: 95.4585%\n",
      "Validation Accuracy: 44.4236%\n",
      "\n",
      "Best Validation Loss: 1.6465\n",
      "Best Epoch: 10\n",
      "-----------------------------------\n",
      "\n",
      "-----------------------------------\n",
      "Epoch 11\n",
      "Training Loss: 0.3432\n",
      "Validation Loss: 1.7802\n",
      "Training Accuracy: 95.7205%\n",
      "Validation Accuracy: 40.5233%\n",
      "\n",
      "Best Validation Loss: 1.6465\n",
      "Best Epoch: 10\n",
      "-----------------------------------\n",
      "\n",
      "-----------------------------------\n",
      "Epoch 12\n",
      "Training Loss: 0.3135\n",
      "Validation Loss: 1.6972\n",
      "Training Accuracy: 96.1822%\n",
      "Validation Accuracy: 42.64%\n",
      "\n",
      "Best Validation Loss: 1.6465\n",
      "Best Epoch: 10\n",
      "-----------------------------------\n",
      "\n",
      "-----------------------------------\n",
      "Epoch 13\n",
      "Training Loss: 0.2961\n",
      "Validation Loss: 1.7219\n",
      "Training Accuracy: 96.3568%\n",
      "Validation Accuracy: 42.5706%\n",
      "\n",
      "Best Validation Loss: 1.6465\n",
      "Best Epoch: 10\n",
      "-----------------------------------\n",
      "\n",
      "-----------------------------------\n",
      "Epoch 14\n",
      "Training Loss: 0.2721\n",
      "Validation Loss: 1.7298\n",
      "Training Accuracy: 96.2695%\n",
      "Validation Accuracy: 42.6331%\n",
      "\n",
      "Best Validation Loss: 1.6465\n",
      "Best Epoch: 10\n",
      "-----------------------------------\n",
      "\n",
      "Stopping training due to early stopping!!!\n"
     ]
    }
   ],
   "source": [
    "# Defining the model\n",
    "model = resnet18(weights='DEFAULT')\n",
    "num_features = model.fc.in_features\n",
    "num_classes = 10 \n",
    "model.fc = nn.Linear(num_features, num_classes)\n",
    "\n",
    "# Ensuring model parameters are trainable\n",
    "for param in model.parameters():\n",
    "    param.requires_grad = True\n",
    "for param in model.fc.parameters():\n",
    "    param.requires_grad = True\n",
    "\n",
    "# Training the model\n",
    "model_name = 'resnet18_2'\n",
    "model_number = 23\n",
    "device = torch.device(\"cuda\" if torch.cuda.is_available() else \"cpu\")\n",
    "model.to(device)\n",
    "loss_fn = torch.nn.CrossEntropyLoss(reduction='sum').to(device)\n",
    "optimizer = torch.optim.Adam(model.fc.parameters(), lr=0.001)\n",
    "training_history_loss = []\n",
    "validation_history_loss = []\n",
    "train_history_accuracy = []\n",
    "valid_history_accuracy = []\n",
    "epochs = 100\n",
    "current_count = 0\n",
    "early_stopping_threshold = 1e-4\n",
    "early_stopping_count = 5\n",
    "best_val_loss = float('inf')\n",
    "best_epoch = -1\n",
    "\n",
    "# Training the model\n",
    "for epoch in range(epochs):\n",
    "    model.train()\n",
    "    train_loss = 0\n",
    "    valid_loss = 0\n",
    "    train_accuracy = 0\n",
    "    valid_accuracy = 0\n",
    "    for X_batch, y_batch in train_loader:\n",
    "        X_batch, y_batch = X_batch.to(device), y_batch.to(device)\n",
    "        y_pred = model(X_batch)\n",
    "        loss = loss_fn(y_pred, y_batch)\n",
    "        train_loss += loss.item()\n",
    "        optimizer.zero_grad()\n",
    "        loss.backward()\n",
    "        optimizer.step()\n",
    "\n",
    "        # Computing the accuracy\n",
    "        y_pred_labels = torch.argmax(y_pred, dim=1)\n",
    "        train_accuracy += torch.sum(y_pred_labels == y_batch).item()\n",
    "\n",
    "    model.eval()\n",
    "    with torch.no_grad():\n",
    "        for X_batch, y_batch in valid_loader:\n",
    "            X_batch, y_batch = X_batch.to(device), y_batch.to(device)\n",
    "            y_pred = model(X_batch)\n",
    "            loss = loss_fn(y_pred, y_batch)\n",
    "            valid_loss += loss.item()\n",
    "\n",
    "            # Computing the accuracy\n",
    "            y_pred_labels = torch.argmax(y_pred, dim=1)\n",
    "            valid_accuracy += torch.sum(y_pred_labels == y_batch).item()\n",
    "    \n",
    "    train_loss /= len(train_loader.dataset)\n",
    "    valid_loss /= len(valid_loader.dataset)\n",
    "    train_accuracy /= len(train_loader.dataset)\n",
    "    valid_accuracy /= len(valid_loader.dataset)\n",
    "    training_history_loss.append(train_loss)\n",
    "    validation_history_loss.append(valid_loss)\n",
    "    train_history_accuracy.append(train_accuracy)\n",
    "    valid_history_accuracy.append(valid_accuracy)\n",
    "    \n",
    "    # Early stopping\n",
    "    if epoch > 0:\n",
    "        if validation_history_loss[-1] - best_val_loss > early_stopping_threshold:\n",
    "            current_count += 1\n",
    "        else:\n",
    "            best_val_loss = validation_history_loss[-1]\n",
    "            best_epoch = epoch\n",
    "            current_count = 0\n",
    "    else:\n",
    "        best_val_loss = validation_history_loss[-1]\n",
    "        best_epoch = epoch\n",
    "        \n",
    "    if current_count == early_stopping_count:\n",
    "        print('Stopping training due to early stopping!!!')\n",
    "        break\n",
    "    elif current_count == 0:\n",
    "        # Saving the best model\n",
    "        model.to('cpu')\n",
    "        torch.save(model.state_dict(), f'{model_name}.pth')\n",
    "        model.to(device)\n",
    "    print('-----------------------------------')\n",
    "    print(f'Epoch {epoch}')\n",
    "    print(f'Training Loss: {round(train_loss,4)}')\n",
    "    print(f'Validation Loss: {round(valid_loss,4)}')\n",
    "    print(f'Training Accuracy: {round(train_accuracy*100,4)}%')\n",
    "    print(f'Validation Accuracy: {round(valid_accuracy*100,4)}%')\n",
    "    print()\n",
    "    print(f'Best Validation Loss: {round(best_val_loss,4)}')\n",
    "    print(f'Best Epoch: {best_epoch}')\n",
    "    print('-----------------------------------')\n",
    "    print()"
   ]
  },
  {
   "cell_type": "code",
   "execution_count": 6,
   "id": "03a15f5d",
   "metadata": {
    "execution": {
     "iopub.execute_input": "2024-09-11T03:22:53.566180Z",
     "iopub.status.busy": "2024-09-11T03:22:53.565550Z",
     "iopub.status.idle": "2024-09-11T03:22:54.143531Z",
     "shell.execute_reply": "2024-09-11T03:22:54.142558Z"
    },
    "papermill": {
     "duration": 0.587688,
     "end_time": "2024-09-11T03:22:54.145922",
     "exception": false,
     "start_time": "2024-09-11T03:22:53.558234",
     "status": "completed"
    },
    "tags": []
   },
   "outputs": [],
   "source": [
    "# Saving Plots for the training and validation loss\n",
    "plt.figure(figsize=(10, 6))\n",
    "plt.plot(training_history_loss, label='Training Loss')\n",
    "plt.plot(validation_history_loss, label='Validation Loss')\n",
    "plt.legend()\n",
    "plt.xlabel('Epochs')\n",
    "plt.ylabel('Loss')\n",
    "plt.title('Training and Validation Loss')\n",
    "plt.savefig(f'{model_name}_loss.png')\n",
    "plt.close()\n",
    "\n",
    "# Saving plot for the training and validation accuracy \n",
    "plt.figure(figsize=(10, 6))\n",
    "plt.plot(train_history_accuracy, label='Training Accuracy')\n",
    "plt.plot(valid_history_accuracy, label='Validation Accuracy')\n",
    "plt.legend()\n",
    "plt.xlabel('Epochs')\n",
    "plt.ylabel('Accuracy')\n",
    "plt.title('Training and Validation Accuracy')\n",
    "plt.savefig(f'{model_name}_accuracy.png')\n",
    "plt.close()"
   ]
  },
  {
   "cell_type": "code",
   "execution_count": 7,
   "id": "e1752a29",
   "metadata": {
    "execution": {
     "iopub.execute_input": "2024-09-11T03:22:54.159532Z",
     "iopub.status.busy": "2024-09-11T03:22:54.159177Z",
     "iopub.status.idle": "2024-09-11T03:22:54.205581Z",
     "shell.execute_reply": "2024-09-11T03:22:54.204684Z"
    },
    "papermill": {
     "duration": 0.056081,
     "end_time": "2024-09-11T03:22:54.208074",
     "exception": false,
     "start_time": "2024-09-11T03:22:54.151993",
     "status": "completed"
    },
    "tags": []
   },
   "outputs": [
    {
     "name": "stderr",
     "output_type": "stream",
     "text": [
      "/tmp/ipykernel_24/1877011205.py:2: FutureWarning: You are using `torch.load` with `weights_only=False` (the current default value), which uses the default pickle module implicitly. It is possible to construct malicious pickle data which will execute arbitrary code during unpickling (See https://github.com/pytorch/pytorch/blob/main/SECURITY.md#untrusted-models for more details). In a future release, the default value for `weights_only` will be flipped to `True`. This limits the functions that could be executed during unpickling. Arbitrary objects will no longer be allowed to be loaded via this mode unless they are explicitly allowlisted by the user via `torch.serialization.add_safe_globals`. We recommend you start setting `weights_only=True` for any use case where you don't have full control of the loaded file. Please open an issue on GitHub for any issues related to this experimental feature.\n",
      "  model.load_state_dict(torch.load(f'{model_name}.pth')) # loading the best model\n"
     ]
    }
   ],
   "source": [
    "# Making the predictions for the training & validation for metric logging\n",
    "model.load_state_dict(torch.load(f'{model_name}.pth')) # loading the best model\n",
    "model.eval()\n",
    "model.to(device)\n",
    "train_pred = []\n",
    "valid_pred = []\n",
    "train_truth = []\n",
    "valid_truth = []"
   ]
  },
  {
   "cell_type": "code",
   "execution_count": 8,
   "id": "d569cbc5",
   "metadata": {
    "execution": {
     "iopub.execute_input": "2024-09-11T03:22:54.222820Z",
     "iopub.status.busy": "2024-09-11T03:22:54.222078Z",
     "iopub.status.idle": "2024-09-11T03:27:27.179025Z",
     "shell.execute_reply": "2024-09-11T03:27:27.177813Z"
    },
    "papermill": {
     "duration": 272.974756,
     "end_time": "2024-09-11T03:27:27.189471",
     "exception": false,
     "start_time": "2024-09-11T03:22:54.214715",
     "status": "completed"
    },
    "tags": []
   },
   "outputs": [
    {
     "name": "stdout",
     "output_type": "stream",
     "text": [
      "{'model_id': 23, 'model_name': 'resnet18_2', 'train_CE_loss': 0.310289619487457, 'train_acc': 0.9644416718652526, 'validation_CE_loss': 1.6464533267537007, 'validation_acc': 0.44423624123811506}\n"
     ]
    }
   ],
   "source": [
    "# Running through data loaders to store the predictions\n",
    "with torch.no_grad():\n",
    "    for X_batch, y_batch in train_loader:\n",
    "        X_batch = X_batch.to(device)\n",
    "        y_pred = torch.nn.functional.softmax(model(X_batch),dim=1)\n",
    "        train_pred.extend(y_pred.detach().cpu().numpy())\n",
    "        train_truth.extend(y_batch.numpy())\n",
    "\n",
    "    for X_batch, y_batch in valid_loader:\n",
    "        X_batch = X_batch.to(device)\n",
    "        y_pred = torch.nn.functional.softmax(model(X_batch),dim=1)\n",
    "        valid_pred.extend(y_pred.detach().cpu().numpy())\n",
    "        valid_truth.extend(y_batch.numpy())\n",
    "\n",
    "# Printing out the metrics \n",
    "metrics = calculate_metrics(model_number,f'{model_name}',train_truth,np.array(train_pred),valid_truth,np.array(valid_pred))\n",
    "print(metrics)"
   ]
  }
 ],
 "metadata": {
  "kaggle": {
   "accelerator": "nvidiaTeslaT4",
   "dataSources": [
    {
     "databundleVersionId": 868335,
     "sourceId": 5048,
     "sourceType": "competition"
    },
    {
     "datasetId": 5613929,
     "sourceId": 9275719,
     "sourceType": "datasetVersion"
    }
   ],
   "dockerImageVersionId": 30762,
   "isGpuEnabled": true,
   "isInternetEnabled": true,
   "language": "python",
   "sourceType": "notebook"
  },
  "kernelspec": {
   "display_name": "Python 3",
   "language": "python",
   "name": "python3"
  },
  "language_info": {
   "codemirror_mode": {
    "name": "ipython",
    "version": 3
   },
   "file_extension": ".py",
   "mimetype": "text/x-python",
   "name": "python",
   "nbconvert_exporter": "python",
   "pygments_lexer": "ipython3",
   "version": "3.10.14"
  },
  "papermill": {
   "default_parameters": {},
   "duration": 6334.44866,
   "end_time": "2024-09-11T03:27:28.821738",
   "environment_variables": {},
   "exception": null,
   "input_path": "__notebook__.ipynb",
   "output_path": "__notebook__.ipynb",
   "parameters": {},
   "start_time": "2024-09-11T01:41:54.373078",
   "version": "2.6.0"
  }
 },
 "nbformat": 4,
 "nbformat_minor": 5
}
