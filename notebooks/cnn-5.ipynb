{
 "cells": [
  {
   "cell_type": "markdown",
   "id": "d0b636c2",
   "metadata": {
    "_cell_guid": "b1076dfc-b9ad-4769-8c92-a6c4dae69d19",
    "_uuid": "8f2839f25d086af736a60e9eeb907d3b93b6e0e5",
    "papermill": {
     "duration": 0.003987,
     "end_time": "2024-09-03T16:20:17.367476",
     "exception": false,
     "start_time": "2024-09-03T16:20:17.363489",
     "status": "completed"
    },
    "tags": []
   },
   "source": [
    "# CNN_5\n",
    "\n",
    "This notebook will train & save a CNN model similar to the model presented in the [Detection of Distracted Driver using Convolution Neural Network](https://arxiv.org/abs/2204.03371) paper (Section D). \n",
    "\n",
    "Note: I found that increasing the weight decay helps in regularization and better model performance (from CNN_2). This model is the same model with a higher weight decay value. "
   ]
  },
  {
   "cell_type": "code",
   "execution_count": 1,
   "id": "6b57feb0",
   "metadata": {
    "execution": {
     "iopub.execute_input": "2024-09-03T16:20:17.376414Z",
     "iopub.status.busy": "2024-09-03T16:20:17.375678Z",
     "iopub.status.idle": "2024-09-03T16:20:23.832541Z",
     "shell.execute_reply": "2024-09-03T16:20:23.831750Z"
    },
    "papermill": {
     "duration": 6.463929,
     "end_time": "2024-09-03T16:20:23.834865",
     "exception": false,
     "start_time": "2024-09-03T16:20:17.370936",
     "status": "completed"
    },
    "tags": []
   },
   "outputs": [],
   "source": [
    "# Imports\n",
    "import pandas as pd\n",
    "import numpy as np \n",
    "import matplotlib.pyplot as plt\n",
    "import torch\n",
    "import torch.nn as nn\n",
    "from torch.utils.data import Dataset, DataLoader\n",
    "from torchvision.transforms import v2\n",
    "from sklearn.metrics import log_loss, accuracy_score"
   ]
  },
  {
   "cell_type": "markdown",
   "id": "c337644d",
   "metadata": {
    "papermill": {
     "duration": 0.003083,
     "end_time": "2024-09-03T16:20:23.841575",
     "exception": false,
     "start_time": "2024-09-03T16:20:23.838492",
     "status": "completed"
    },
    "tags": []
   },
   "source": [
    "## Classes & Functions"
   ]
  },
  {
   "cell_type": "code",
   "execution_count": 2,
   "id": "1a44b695",
   "metadata": {
    "execution": {
     "iopub.execute_input": "2024-09-03T16:20:23.849351Z",
     "iopub.status.busy": "2024-09-03T16:20:23.848895Z",
     "iopub.status.idle": "2024-09-03T16:20:23.857549Z",
     "shell.execute_reply": "2024-09-03T16:20:23.856561Z"
    },
    "papermill": {
     "duration": 0.014823,
     "end_time": "2024-09-03T16:20:23.859584",
     "exception": false,
     "start_time": "2024-09-03T16:20:23.844761",
     "status": "completed"
    },
    "tags": []
   },
   "outputs": [],
   "source": [
    "class StateFarmDD(Dataset):\n",
    "    # Constructor\n",
    "    def __init__(self,annotations_path,path_prefix='../data/imgs/train',transform_pipeline=None):\n",
    "        self.annotations = pd.read_csv(annotations_path)\n",
    "        self.transformation_pipeline = transform_pipeline\n",
    "        self.path_prefix = path_prefix\n",
    "        self.label_to_int_dict = {'c0':0,'c1':1,'c2':2,'c3':3,'c4':4,'c5':5,'c6':6,'c7':7,'c8':8,'c9':9}\n",
    "    \n",
    "    # Method to get the length of the dataset\n",
    "    def __len__(self):\n",
    "        return len(self.annotations)\n",
    "    \n",
    "    # Method to get the item at a particular index\n",
    "    def __getitem__(self,index):\n",
    "        label = self.annotations.iloc[index,1]\n",
    "        image_name = self.annotations.iloc[index,2]\n",
    "        image = plt.imread(f'{self.path_prefix}/{label}/{image_name}')\n",
    "\n",
    "        # Throwing image through pipeline if it exists\n",
    "        if self.transformation_pipeline:\n",
    "            transformed_image = self.transformation_pipeline(image.copy()).squeeze(0)\n",
    "            return transformed_image, self.label_to_int_dict[label]\n",
    "        else:\n",
    "            return image, self.label_to_int_dict[label]"
   ]
  },
  {
   "cell_type": "code",
   "execution_count": 3,
   "id": "95f8a590",
   "metadata": {
    "execution": {
     "iopub.execute_input": "2024-09-03T16:20:23.867120Z",
     "iopub.status.busy": "2024-09-03T16:20:23.866818Z",
     "iopub.status.idle": "2024-09-03T16:20:23.872655Z",
     "shell.execute_reply": "2024-09-03T16:20:23.871850Z"
    },
    "papermill": {
     "duration": 0.011642,
     "end_time": "2024-09-03T16:20:23.874509",
     "exception": false,
     "start_time": "2024-09-03T16:20:23.862867",
     "status": "completed"
    },
    "tags": []
   },
   "outputs": [],
   "source": [
    "# Function to calculate the metrics\n",
    "def calculate_metrics(model_id,model_name,training_targets,training_predictions,val_targets,val_predictions):\n",
    "\n",
    "    # Getting the metrics\n",
    "    train_CE_loss = log_loss(training_targets,training_predictions)\n",
    "    validation_CE_loss = log_loss(val_targets,val_predictions)\n",
    "\n",
    "    # Getting the accuracy\n",
    "    train_class_preds = np.array(training_predictions).argmax(axis=1)\n",
    "    valid_class_preds = np.array(val_predictions).argmax(axis=1)\n",
    "    train_acc = accuracy_score(training_targets,train_class_preds)\n",
    "    valid_acc = accuracy_score(val_targets,valid_class_preds)\n",
    "\n",
    "    return {'model_id':model_id,'model_name':model_name,'train_CE_loss':train_CE_loss,\n",
    "            'train_acc':train_acc,'validation_CE_loss':validation_CE_loss,'validation_acc':valid_acc}"
   ]
  },
  {
   "cell_type": "markdown",
   "id": "ce0e53d8",
   "metadata": {
    "papermill": {
     "duration": 0.003158,
     "end_time": "2024-09-03T16:20:23.881006",
     "exception": false,
     "start_time": "2024-09-03T16:20:23.877848",
     "status": "completed"
    },
    "tags": []
   },
   "source": [
    "## Model Building & Training"
   ]
  },
  {
   "cell_type": "code",
   "execution_count": 4,
   "id": "326c09a8",
   "metadata": {
    "execution": {
     "iopub.execute_input": "2024-09-03T16:20:23.888679Z",
     "iopub.status.busy": "2024-09-03T16:20:23.888394Z",
     "iopub.status.idle": "2024-09-03T16:20:23.942112Z",
     "shell.execute_reply": "2024-09-03T16:20:23.941295Z"
    },
    "papermill": {
     "duration": 0.060033,
     "end_time": "2024-09-03T16:20:23.944321",
     "exception": false,
     "start_time": "2024-09-03T16:20:23.884288",
     "status": "completed"
    },
    "tags": []
   },
   "outputs": [],
   "source": [
    "# Getting the data\n",
    "training_path = '/kaggle/input/statefarmdd/training.csv'\n",
    "validation_path = '/kaggle/input/statefarmdd/validation.csv'\n",
    "\n",
    "# Creating the Datasets\n",
    "transformation_pipeline = v2.Compose([\n",
    "        v2.ToImage(),\n",
    "        v2.Resize([128,128]),\n",
    "        v2.ToDtype(torch.float32, scale=True),\n",
    "])\n",
    "train_dataset = StateFarmDD(training_path, path_prefix='/kaggle/input/state-farm-distracted-driver-detection/imgs/train',transform_pipeline=transformation_pipeline)\n",
    "valid_dataset = StateFarmDD(validation_path, path_prefix='/kaggle/input/state-farm-distracted-driver-detection/imgs/train',transform_pipeline=transformation_pipeline)\n",
    "train_loader = DataLoader(train_dataset, batch_size=40, shuffle=True)\n",
    "valid_loader = DataLoader(valid_dataset, batch_size=40, shuffle=True)"
   ]
  },
  {
   "cell_type": "code",
   "execution_count": 5,
   "id": "db5c9ef5",
   "metadata": {
    "execution": {
     "iopub.execute_input": "2024-09-03T16:20:23.953661Z",
     "iopub.status.busy": "2024-09-03T16:20:23.953343Z",
     "iopub.status.idle": "2024-09-03T17:04:40.374757Z",
     "shell.execute_reply": "2024-09-03T17:04:40.373664Z"
    },
    "papermill": {
     "duration": 2656.433231,
     "end_time": "2024-09-03T17:04:40.381558",
     "exception": false,
     "start_time": "2024-09-03T16:20:23.948327",
     "status": "completed"
    },
    "tags": []
   },
   "outputs": [
    {
     "name": "stdout",
     "output_type": "stream",
     "text": [
      "-----------------------------------\n",
      "Epoch 0\n",
      "Training Loss: 3.6461\n",
      "Validation Loss: 6.6134\n",
      "Training Accuracy: 33.8241%\n",
      "Validation Accuracy: 27.7396%\n",
      "\n",
      "Best Validation Loss: 6.6134\n",
      "Best Epoch: 0\n",
      "-----------------------------------\n",
      "\n",
      "-----------------------------------\n",
      "Epoch 1\n",
      "Training Loss: 1.2858\n",
      "Validation Loss: 2.5756\n",
      "Training Accuracy: 68.01%\n",
      "Validation Accuracy: 31.1819%\n",
      "\n",
      "Best Validation Loss: 2.5756\n",
      "Best Epoch: 1\n",
      "-----------------------------------\n",
      "\n",
      "-----------------------------------\n",
      "Epoch 2\n",
      "Training Loss: 0.5816\n",
      "Validation Loss: 2.0805\n",
      "Training Accuracy: 80.9108%\n",
      "Validation Accuracy: 30.9459%\n",
      "\n",
      "Best Validation Loss: 2.0805\n",
      "Best Epoch: 2\n",
      "-----------------------------------\n",
      "\n",
      "-----------------------------------\n",
      "Epoch 3\n",
      "Training Loss: 0.4588\n",
      "Validation Loss: 2.072\n",
      "Training Accuracy: 85.6145%\n",
      "Validation Accuracy: 33.2223%\n",
      "\n",
      "Best Validation Loss: 2.072\n",
      "Best Epoch: 3\n",
      "-----------------------------------\n",
      "\n",
      "-----------------------------------\n",
      "Epoch 4\n",
      "Training Loss: 0.4021\n",
      "Validation Loss: 2.0355\n",
      "Training Accuracy: 88.3094%\n",
      "Validation Accuracy: 36.2482%\n",
      "\n",
      "Best Validation Loss: 2.0355\n",
      "Best Epoch: 4\n",
      "-----------------------------------\n",
      "\n",
      "-----------------------------------\n",
      "Epoch 5\n",
      "Training Loss: 0.3906\n",
      "Validation Loss: 2.0461\n",
      "Training Accuracy: 89.9938%\n",
      "Validation Accuracy: 35.4431%\n",
      "\n",
      "Best Validation Loss: 2.0355\n",
      "Best Epoch: 4\n",
      "-----------------------------------\n",
      "\n",
      "-----------------------------------\n",
      "Epoch 6\n",
      "Training Loss: 0.3939\n",
      "Validation Loss: 1.7647\n",
      "Training Accuracy: 91.2414%\n",
      "Validation Accuracy: 40.9536%\n",
      "\n",
      "Best Validation Loss: 1.7647\n",
      "Best Epoch: 6\n",
      "-----------------------------------\n",
      "\n",
      "-----------------------------------\n",
      "Epoch 7\n",
      "Training Loss: 0.4143\n",
      "Validation Loss: 1.891\n",
      "Training Accuracy: 91.8153%\n",
      "Validation Accuracy: 42.7996%\n",
      "\n",
      "Best Validation Loss: 1.7647\n",
      "Best Epoch: 6\n",
      "-----------------------------------\n",
      "\n",
      "-----------------------------------\n",
      "Epoch 8\n",
      "Training Loss: 0.4301\n",
      "Validation Loss: 1.7755\n",
      "Training Accuracy: 92.3019%\n",
      "Validation Accuracy: 44.4028%\n",
      "\n",
      "Best Validation Loss: 1.7647\n",
      "Best Epoch: 6\n",
      "-----------------------------------\n",
      "\n",
      "-----------------------------------\n",
      "Epoch 9\n",
      "Training Loss: 0.4467\n",
      "Validation Loss: 1.7456\n",
      "Training Accuracy: 92.0025%\n",
      "Validation Accuracy: 43.5978%\n",
      "\n",
      "Best Validation Loss: 1.7456\n",
      "Best Epoch: 9\n",
      "-----------------------------------\n",
      "\n",
      "-----------------------------------\n",
      "Epoch 10\n",
      "Training Loss: 0.4389\n",
      "Validation Loss: 1.8241\n",
      "Training Accuracy: 92.1148%\n",
      "Validation Accuracy: 40.4608%\n",
      "\n",
      "Best Validation Loss: 1.7456\n",
      "Best Epoch: 9\n",
      "-----------------------------------\n",
      "\n",
      "-----------------------------------\n",
      "Epoch 11\n",
      "Training Loss: 0.4475\n",
      "Validation Loss: 1.589\n",
      "Training Accuracy: 91.3163%\n",
      "Validation Accuracy: 48.324%\n",
      "\n",
      "Best Validation Loss: 1.589\n",
      "Best Epoch: 11\n",
      "-----------------------------------\n",
      "\n",
      "-----------------------------------\n",
      "Epoch 12\n",
      "Training Loss: 0.4148\n",
      "Validation Loss: 2.1058\n",
      "Training Accuracy: 92.8135%\n",
      "Validation Accuracy: 39.51%\n",
      "\n",
      "Best Validation Loss: 1.589\n",
      "Best Epoch: 11\n",
      "-----------------------------------\n",
      "\n",
      "-----------------------------------\n",
      "Epoch 13\n",
      "Training Loss: 0.4155\n",
      "Validation Loss: 1.6637\n",
      "Training Accuracy: 92.4891%\n",
      "Validation Accuracy: 45.4924%\n",
      "\n",
      "Best Validation Loss: 1.589\n",
      "Best Epoch: 11\n",
      "-----------------------------------\n",
      "\n",
      "-----------------------------------\n",
      "Epoch 14\n",
      "Training Loss: 0.4038\n",
      "Validation Loss: 2.0596\n",
      "Training Accuracy: 93.0505%\n",
      "Validation Accuracy: 39.6627%\n",
      "\n",
      "Best Validation Loss: 1.589\n",
      "Best Epoch: 11\n",
      "-----------------------------------\n",
      "\n",
      "-----------------------------------\n",
      "Epoch 15\n",
      "Training Loss: 0.4117\n",
      "Validation Loss: 1.9544\n",
      "Training Accuracy: 92.5265%\n",
      "Validation Accuracy: 41.016%\n",
      "\n",
      "Best Validation Loss: 1.589\n",
      "Best Epoch: 11\n",
      "-----------------------------------\n",
      "\n",
      "Stopping training due to early stopping!!!\n"
     ]
    }
   ],
   "source": [
    "# Defining the model\n",
    "model = nn.Sequential(\n",
    "    nn.Conv2d(3,64,kernel_size=3,stride=1,padding=1),\n",
    "    nn.ReLU(),\n",
    "    nn.MaxPool2d(kernel_size=2,stride=2),\n",
    "    nn.BatchNorm2d(64),\n",
    "    nn.Conv2d(64,128,kernel_size=3,stride=1,padding=1),\n",
    "    nn.ReLU(),\n",
    "    nn.MaxPool2d(kernel_size=2,stride=2),\n",
    "    nn.BatchNorm2d(128),\n",
    "    nn.Dropout(p=0.5),\n",
    "    nn.Conv2d(128,256,kernel_size=3,stride=1,padding=1),\n",
    "    nn.ReLU(),\n",
    "    nn.BatchNorm2d(256),\n",
    "    nn.Conv2d(256,512,kernel_size=3,stride=1,padding=1),\n",
    "    nn.ReLU(),\n",
    "    nn.MaxPool2d(kernel_size=2,stride=2),\n",
    "    nn.BatchNorm2d(512),\n",
    "    nn.Dropout(p=0.5),\n",
    "    nn.Flatten(),\n",
    "    nn.Linear(131072,500),\n",
    "    nn.ReLU(),\n",
    "    nn.Dropout(p=0.5),\n",
    "    nn.Linear(500,10)\n",
    ")\n",
    "\n",
    "# Training the model\n",
    "device = torch.device(\"cuda\" if torch.cuda.is_available() else \"cpu\")\n",
    "model.to(device)\n",
    "loss_fn = torch.nn.CrossEntropyLoss(reduction='sum').to(device)\n",
    "optimizer = torch.optim.Adam(model.parameters(), lr=0.001, weight_decay=7)\n",
    "training_history_loss = []\n",
    "validation_history_loss = []\n",
    "train_history_accuracy = []\n",
    "valid_history_accuracy = []\n",
    "epochs = 25\n",
    "current_count = 0\n",
    "early_stopping_threshold = 1e-4\n",
    "early_stopping_count = 5\n",
    "best_val_loss = float('inf')\n",
    "best_epoch = -1\n",
    "\n",
    "# Training the model\n",
    "for epoch in range(epochs):\n",
    "    model.train()\n",
    "    train_loss = 0\n",
    "    valid_loss = 0\n",
    "    train_accuracy = 0\n",
    "    valid_accuracy = 0\n",
    "    for X_batch, y_batch in train_loader:\n",
    "        X_batch, y_batch = X_batch.to(device), y_batch.to(device)\n",
    "        y_pred = model(X_batch)\n",
    "        loss = loss_fn(y_pred, y_batch)\n",
    "        train_loss += loss.item()\n",
    "        optimizer.zero_grad()\n",
    "        loss.backward()\n",
    "        optimizer.step()\n",
    "\n",
    "        # Computing the accuracy\n",
    "        y_pred_labels = torch.argmax(y_pred, dim=1)\n",
    "        train_accuracy += torch.sum(y_pred_labels == y_batch).item()\n",
    "\n",
    "    model.eval()\n",
    "    with torch.no_grad():\n",
    "        for X_batch, y_batch in valid_loader:\n",
    "            X_batch, y_batch = X_batch.to(device), y_batch.to(device)\n",
    "            y_pred = model(X_batch)\n",
    "            loss = loss_fn(y_pred, y_batch)\n",
    "            valid_loss += loss.item()\n",
    "\n",
    "            # Computing the accuracy\n",
    "            y_pred_labels = torch.argmax(y_pred, dim=1)\n",
    "            valid_accuracy += torch.sum(y_pred_labels == y_batch).item()\n",
    "    \n",
    "    train_loss /= len(train_loader.dataset)\n",
    "    valid_loss /= len(valid_loader.dataset)\n",
    "    train_accuracy /= len(train_loader.dataset)\n",
    "    valid_accuracy /= len(valid_loader.dataset)\n",
    "    training_history_loss.append(train_loss)\n",
    "    validation_history_loss.append(valid_loss)\n",
    "    train_history_accuracy.append(train_accuracy)\n",
    "    valid_history_accuracy.append(valid_accuracy)\n",
    "    \n",
    "    # Early stopping\n",
    "    if epoch > 0:\n",
    "        if validation_history_loss[-1] - best_val_loss > early_stopping_threshold:\n",
    "            current_count += 1\n",
    "        else:\n",
    "            best_val_loss = validation_history_loss[-1]\n",
    "            best_epoch = epoch\n",
    "            current_count = 0\n",
    "    else:\n",
    "        best_val_loss = validation_history_loss[-1]\n",
    "        best_epoch = epoch\n",
    "        \n",
    "    if current_count == early_stopping_count:\n",
    "        print('Stopping training due to early stopping!!!')\n",
    "        break\n",
    "    elif current_count == 0:\n",
    "        # Saving the best model\n",
    "        model.to('cpu')\n",
    "        torch.save(model.state_dict(), 'cnn_5.pth')\n",
    "        model.to(device)\n",
    "    print('-----------------------------------')\n",
    "    print(f'Epoch {epoch}')\n",
    "    print(f'Training Loss: {round(train_loss,4)}')\n",
    "    print(f'Validation Loss: {round(valid_loss,4)}')\n",
    "    print(f'Training Accuracy: {round(train_accuracy*100,4)}%')\n",
    "    print(f'Validation Accuracy: {round(valid_accuracy*100,4)}%')\n",
    "    print()\n",
    "    print(f'Best Validation Loss: {round(best_val_loss,4)}')\n",
    "    print(f'Best Epoch: {best_epoch}')\n",
    "    print('-----------------------------------')\n",
    "    print()"
   ]
  },
  {
   "cell_type": "code",
   "execution_count": 6,
   "id": "441e97f6",
   "metadata": {
    "execution": {
     "iopub.execute_input": "2024-09-03T17:04:40.393795Z",
     "iopub.status.busy": "2024-09-03T17:04:40.393479Z",
     "iopub.status.idle": "2024-09-03T17:04:40.916539Z",
     "shell.execute_reply": "2024-09-03T17:04:40.915428Z"
    },
    "papermill": {
     "duration": 0.531695,
     "end_time": "2024-09-03T17:04:40.919020",
     "exception": false,
     "start_time": "2024-09-03T17:04:40.387325",
     "status": "completed"
    },
    "tags": []
   },
   "outputs": [],
   "source": [
    "# Saving Plots for the training and validation loss\n",
    "plt.figure(figsize=(10, 6))\n",
    "plt.plot(training_history_loss, label='Training Loss')\n",
    "plt.plot(validation_history_loss, label='Validation Loss')\n",
    "plt.legend()\n",
    "plt.xlabel('Epochs')\n",
    "plt.ylabel('Loss')\n",
    "plt.title('Training and Validation Loss')\n",
    "plt.savefig('cnn_5_loss.png')\n",
    "plt.close()\n",
    "\n",
    "# Saving plot for the training and validation accuracy \n",
    "plt.figure(figsize=(10, 6))\n",
    "plt.plot(train_history_accuracy, label='Training Accuracy')\n",
    "plt.plot(valid_history_accuracy, label='Validation Accuracy')\n",
    "plt.legend()\n",
    "plt.xlabel('Epochs')\n",
    "plt.ylabel('Accuracy')\n",
    "plt.title('Training and Validation Accuracy')\n",
    "plt.savefig('cnn_accuracy_5.png')\n",
    "plt.close()"
   ]
  },
  {
   "cell_type": "code",
   "execution_count": 7,
   "id": "1bc21693",
   "metadata": {
    "execution": {
     "iopub.execute_input": "2024-09-03T17:04:40.930538Z",
     "iopub.status.busy": "2024-09-03T17:04:40.930213Z",
     "iopub.status.idle": "2024-09-03T17:04:41.152838Z",
     "shell.execute_reply": "2024-09-03T17:04:41.152088Z"
    },
    "papermill": {
     "duration": 0.230786,
     "end_time": "2024-09-03T17:04:41.154950",
     "exception": false,
     "start_time": "2024-09-03T17:04:40.924164",
     "status": "completed"
    },
    "tags": []
   },
   "outputs": [
    {
     "name": "stderr",
     "output_type": "stream",
     "text": [
      "/tmp/ipykernel_24/2371057375.py:2: FutureWarning: You are using `torch.load` with `weights_only=False` (the current default value), which uses the default pickle module implicitly. It is possible to construct malicious pickle data which will execute arbitrary code during unpickling (See https://github.com/pytorch/pytorch/blob/main/SECURITY.md#untrusted-models for more details). In a future release, the default value for `weights_only` will be flipped to `True`. This limits the functions that could be executed during unpickling. Arbitrary objects will no longer be allowed to be loaded via this mode unless they are explicitly allowlisted by the user via `torch.serialization.add_safe_globals`. We recommend you start setting `weights_only=True` for any use case where you don't have full control of the loaded file. Please open an issue on GitHub for any issues related to this experimental feature.\n",
      "  model.load_state_dict(torch.load('cnn_5.pth')) # loading the best model\n"
     ]
    }
   ],
   "source": [
    "# Making the predictions for the training & validation for metric logging\n",
    "model.load_state_dict(torch.load('cnn_5.pth')) # loading the best model\n",
    "model.eval()\n",
    "model.to(device)\n",
    "train_pred = []\n",
    "valid_pred = []\n",
    "train_truth = []\n",
    "valid_truth = []"
   ]
  },
  {
   "cell_type": "code",
   "execution_count": 8,
   "id": "39593593",
   "metadata": {
    "execution": {
     "iopub.execute_input": "2024-09-03T17:04:41.166622Z",
     "iopub.status.busy": "2024-09-03T17:04:41.166293Z",
     "iopub.status.idle": "2024-09-03T17:06:56.634921Z",
     "shell.execute_reply": "2024-09-03T17:06:56.633816Z"
    },
    "papermill": {
     "duration": 135.481737,
     "end_time": "2024-09-03T17:06:56.642065",
     "exception": false,
     "start_time": "2024-09-03T17:04:41.160328",
     "status": "completed"
    },
    "tags": []
   },
   "outputs": [
    {
     "name": "stdout",
     "output_type": "stream",
     "text": [
      "{'model_id': '12', 'model_name': 'CNN_5', 'train_CE_loss': 0.4142639525843376, 'train_acc': 0.9333749220212102, 'validation_CE_loss': 1.5890341004645436, 'validation_acc': 0.4832396418904851}\n"
     ]
    }
   ],
   "source": [
    "# Running through data loaders to store the predictions\n",
    "with torch.no_grad():\n",
    "    for X_batch, y_batch in train_loader:\n",
    "        X_batch = X_batch.to(device)\n",
    "        y_pred = torch.nn.functional.softmax(model(X_batch),dim=1)\n",
    "        train_pred.extend(y_pred.detach().cpu().numpy())\n",
    "        train_truth.extend(y_batch.numpy())\n",
    "\n",
    "    for X_batch, y_batch in valid_loader:\n",
    "        X_batch = X_batch.to(device)\n",
    "        y_pred = torch.nn.functional.softmax(model(X_batch),dim=1)\n",
    "        valid_pred.extend(y_pred.detach().cpu().numpy())\n",
    "        valid_truth.extend(y_batch.numpy())\n",
    "\n",
    "# Printing out the metrics \n",
    "metrics = calculate_metrics('12',\"CNN_5\",train_truth,np.array(train_pred),valid_truth,np.array(valid_pred))\n",
    "print(metrics)"
   ]
  }
 ],
 "metadata": {
  "kaggle": {
   "accelerator": "nvidiaTeslaT4",
   "dataSources": [
    {
     "databundleVersionId": 868335,
     "sourceId": 5048,
     "sourceType": "competition"
    },
    {
     "datasetId": 5613929,
     "sourceId": 9275719,
     "sourceType": "datasetVersion"
    }
   ],
   "dockerImageVersionId": 30762,
   "isGpuEnabled": true,
   "isInternetEnabled": true,
   "language": "python",
   "sourceType": "notebook"
  },
  "kernelspec": {
   "display_name": "Python 3",
   "language": "python",
   "name": "python3"
  },
  "language_info": {
   "codemirror_mode": {
    "name": "ipython",
    "version": 3
   },
   "file_extension": ".py",
   "mimetype": "text/x-python",
   "name": "python",
   "nbconvert_exporter": "python",
   "pygments_lexer": "ipython3",
   "version": "3.10.14"
  },
  "papermill": {
   "default_parameters": {},
   "duration": 2803.378419,
   "end_time": "2024-09-03T17:06:58.070575",
   "environment_variables": {},
   "exception": null,
   "input_path": "__notebook__.ipynb",
   "output_path": "__notebook__.ipynb",
   "parameters": {},
   "start_time": "2024-09-03T16:20:14.692156",
   "version": "2.6.0"
  }
 },
 "nbformat": 4,
 "nbformat_minor": 5
}
